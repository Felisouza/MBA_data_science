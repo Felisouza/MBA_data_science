{
 "cells": [
  {
   "cell_type": "markdown",
   "metadata": {},
   "source": [
    "1. Considere os dados da vertebralcolumn-2C e o código abaixo. Use uma árvore de decisão com o critério Gini, isto é, use: model = tree.DecisionTreeClassifier(criterion = 'gini', random_state = 101)\n",
    "\n",
    "Determine o valor o valor da medida Precision. Arredonde para a primeira casa decimal.  \n",
    "\n",
    "import random  \n",
    "import pandas as pd  \n",
    "import numpy as np  \n",
    "import matplotlib.pyplot as plt  \n",
    "from sklearn.model_selection import train_test_split  \n",
    "random.seed(42)  \n",
    "data = pd.read_csv('data/vertebralcolumn-2C.csv', header=(0))  \n",
    "\n",
    "data = data.to_numpy()  \n",
    "nrow,ncol = data.shape  \n",
    "y = data[:,-1]  \n",
    "y = pd.get_dummies(y)  \n",
    "X = data[:,0:ncol-1]  \n",
    "\n",
    "p = 0.2 # fracao de elementos no conjunto de teste  \n",
    "x_train, x_test, y_train, y_test = train_test_split(X, y, test_size = p, random_state = 2)  "
   ]
  },
  {
   "cell_type": "code",
   "execution_count": 10,
   "metadata": {},
   "outputs": [],
   "source": [
    "import random\n",
    "import pandas as pd\n",
    "import numpy as np\n",
    "import matplotlib.pyplot as plt\n",
    "from sklearn.model_selection import train_test_split\n",
    "\n",
    "random.seed(42)\n",
    "df = pd.read_csv(r'G:\\Meu Drive\\MBA_data_science\\Introdução ciência de dados\\data\\data\\vertebralcolumn-2C.csv', header=(0))\n",
    "\n",
    "data = df.to_numpy()\n",
    "nrow,ncol = data.shape\n",
    "y = data[:,-1]\n",
    "y = pd.get_dummies(y)\n",
    "X = data[:,0:ncol-1]\n",
    "\n",
    "p = 0.2 # fracao de elementos no conjunto de teste\n",
    "x_train, x_test, y_train, y_test = train_test_split(X, y, test_size = p, random_state = 42)"
   ]
  },
  {
   "cell_type": "code",
   "execution_count": 12,
   "metadata": {},
   "outputs": [
    {
     "data": {
      "text/plain": [
       "class\n",
       "Abnormal    210\n",
       "Normal      100\n",
       "Name: count, dtype: int64"
      ]
     },
     "execution_count": 12,
     "metadata": {},
     "output_type": "execute_result"
    }
   ],
   "source": [
    "df['class'].value_counts()"
   ]
  },
  {
   "cell_type": "code",
   "execution_count": 3,
   "metadata": {},
   "outputs": [],
   "source": [
    "from sklearn import tree\n",
    "from sklearn.metrics import classification_report, precision_score\n",
    "model = tree.DecisionTreeClassifier(criterion='gini', random_state=42)\n",
    "\n",
    "model.fit(X=x_train, y=y_train)\n",
    "y_pred = model.predict(x_test)\n",
    "\n",
    "# y_pred.classification_report()\n"
   ]
  },
  {
   "cell_type": "code",
   "execution_count": 4,
   "metadata": {},
   "outputs": [
    {
     "name": "stdout",
     "output_type": "stream",
     "text": [
      "              precision    recall  f1-score   support\n",
      "\n",
      "           0       0.84      0.84      0.84        44\n",
      "           1       0.61      0.61      0.61        18\n",
      "\n",
      "   micro avg       0.77      0.77      0.77        62\n",
      "   macro avg       0.73      0.73      0.73        62\n",
      "weighted avg       0.77      0.77      0.77        62\n",
      " samples avg       0.77      0.77      0.77        62\n",
      "\n"
     ]
    }
   ],
   "source": [
    "print(classification_report(y_test, y_pred))"
   ]
  },
  {
   "cell_type": "code",
   "execution_count": 5,
   "metadata": {},
   "outputs": [
    {
     "name": "stdout",
     "output_type": "stream",
     "text": [
      "Precision: 0.7\n"
     ]
    }
   ],
   "source": [
    "print('Precision:', round(precision_score(y_test, y_pred, average=\"macro\"), 1))"
   ]
  },
  {
   "cell_type": "markdown",
   "metadata": {},
   "source": [
    "2.  Considere os dados do exercício anterior. Qual o valor da medida AUC (área sob a curva ROC) quando usamos o algoritmo random forest com 100 árvores? Arredonde para a primeira casa decimal.  \n",
    "\n",
    "Use: model=RandomForestClassifier(n_estimators=100, random_state = 42)"
   ]
  },
  {
   "cell_type": "code",
   "execution_count": 17,
   "metadata": {},
   "outputs": [
    {
     "name": "stdout",
     "output_type": "stream",
     "text": [
      "Accuracy: 0.7741935483870968\n",
      "Accuracy: 0.7741935483870968\n",
      "F1 score: 0.7051630434782609\n",
      "Precision: 0.7\n",
      "Recall: 0.6931818181818181\n",
      "\n",
      " clasification report:\n",
      "               precision    recall  f1-score   support\n",
      "\n",
      "           0       0.81      0.89      0.85        44\n",
      "           1       0.64      0.50      0.56        18\n",
      "\n",
      "   micro avg       0.77      0.77      0.77        62\n",
      "   macro avg       0.73      0.69      0.71        62\n",
      "weighted avg       0.76      0.77      0.76        62\n",
      " samples avg       0.77      0.77      0.77        62\n",
      "\n",
      "AUC: 0.7\n"
     ]
    }
   ],
   "source": [
    "random.seed(42)\n",
    "df = pd.read_csv(r'G:\\Meu Drive\\MBA_data_science\\Introdução ciência de dados\\data\\data\\vertebralcolumn-2C.csv', header=(0))\n",
    "\n",
    "data = df.to_numpy()\n",
    "nrow,ncol = data.shape\n",
    "y = data[:,-1]\n",
    "y = pd.get_dummies(y)\n",
    "X = data[:,0:ncol-1]\n",
    "\n",
    "p = 0.2 # fracao de elementos no conjunto de teste\n",
    "x_train, x_test, y_train, y_test = train_test_split(X, y, test_size = p, random_state = 42)\n",
    "\n",
    "model=RandomForestClassifier(n_estimators=100, bootstrap=True, \n",
    "                             class_weight=None, \n",
    "                             criterion='gini',\n",
    "                             max_depth=None, \n",
    "                             max_features='sqrt', \n",
    "                             max_leaf_nodes=None,\n",
    "                             min_impurity_decrease=0.0,\n",
    "                             min_samples_leaf=1, min_samples_split=2,\n",
    "                             min_weight_fraction_leaf=0.0, n_jobs=1,\n",
    "                             oob_score=False, \n",
    "                             random_state=42, verbose=0,\n",
    "                             warm_start=False)\n",
    "model.fit(x_train,y_train)\n",
    "\n",
    "#Predict the response for test dataset\n",
    "y_pred = model.predict(x_test)\n",
    "score = accuracy_score(y_test, y_pred)\n",
    "print('Accuracy:', score)\n",
    "\n",
    "#Há diversas outras métricas que podem quantificar a qualidade de uma classificação.\n",
    "from sklearn.metrics import precision_score, recall_score, classification_report, accuracy_score, f1_score\n",
    "\n",
    "print('Accuracy:', accuracy_score(y_test, y_pred))\n",
    "print('F1 score:', f1_score(y_test, y_pred, average=\"macro\"))\n",
    "print('Precision:', round(precision_score(y_test, y_pred, average=\"macro\"),1))\n",
    "print('Recall:', recall_score(y_test, y_pred, average=\"macro\"))\n",
    "print('\\n clasification report:\\n', classification_report(y_test, y_pred))\n",
    "\n",
    "\n",
    "#calcular a medida AUC (área sob a curva ROC).\n",
    "from sklearn.metrics import roc_auc_score\n",
    "\n",
    "#model=RandomForestClassifier(n_estimators=100, random_state = 42)\n",
    "\n",
    "auc = roc_auc_score(y_test, y_pred)\n",
    "print('AUC:',round(auc,1))"
   ]
  },
  {
   "cell_type": "code",
   "execution_count": 7,
   "metadata": {},
   "outputs": [
    {
     "name": "stdout",
     "output_type": "stream",
     "text": [
      "AUC: 0.7\n"
     ]
    }
   ],
   "source": [
    "from sklearn.metrics import roc_auc_score\n",
    "from sklearn.ensemble import RandomForestClassifier\n",
    "rf=RandomForestClassifier(n_estimators=100, random_state = 42)\n",
    "\n",
    "rf.fit(x_train, y_train)\n",
    "\n",
    "y_pred = rf.predict(x_test)\n",
    "\n",
    "auc = roc_auc_score(y_test, y_pred, average='macro')\n",
    "print('AUC:', round(auc, 1))"
   ]
  },
  {
   "cell_type": "code",
   "execution_count": 70,
   "metadata": {},
   "outputs": [
    {
     "name": "stdout",
     "output_type": "stream",
     "text": [
      "Precision: 0.7\n"
     ]
    }
   ],
   "source": [
    "from sklearn.model_selection import train_test_split\n",
    "from sklearn import tree\n",
    "from sklearn.metrics import precision_score, recall_score, classification_report, accuracy_score, f1_score\n",
    "from sklearn.preprocessing import StandardScaler\n",
    "from sklearn.datasets import make_classification\n",
    "\n",
    "random.seed(42)\n",
    "\n",
    "\n",
    "nrow,ncol = data.shape\n",
    "y = data[:,-1]\n",
    "y = pd.get_dummies(y)\n",
    "X = data[:,0:ncol-1]\n",
    "\n",
    "p = 0.2 # fracao de elementos no conjunto de teste\n",
    "x_train, x_test, y_train, y_test = train_test_split(X, y, test_size = p, random_state = 2)\n",
    "\n",
    "model = tree.DecisionTreeClassifier(criterion = 'gini', random_state = 101)\n",
    "model.fit(x_train, y_train)\n",
    "\n",
    "y_pred = model.predict(x_test)\n",
    "\n",
    "print('Precision:', round(precision_score(y_test, y_pred, average=\"macro\"), 1))\n",
    "# esse foi o código que usei na primeira"
   ]
  },
  {
   "cell_type": "markdown",
   "metadata": {},
   "source": [
    "3. Com relação às árvores de decisão, indique a alternativa correta:\n",
    "\n",
    "\n",
    "a.É um método paramétrico.  \n",
    "b.Só pode ser usada com dados nominais.    \n",
    "c.Requer normalização dos dados.  \n",
    "d.Só pode ser usada com dados numéricos.  \n",
    "**e.É um método de simples entendimento e interpretação: modelo “caixa branca”.**"
   ]
  },
  {
   "cell_type": "markdown",
   "metadata": {},
   "source": [
    "4.  Com relação à curva ROC:\n",
    "\n",
    "a.É uma técnica de agrupamento de dados.  \n",
    "b.Sempre retorna o mesmo valor que a medida de precisão.  \n",
    "**c.Só pode ser usada em classificação binária.**  \n",
    "**d.Pode ser usada em qualquer problema de classificação, independentemente do número de classes.**  \n",
    "e.É usada em modelos de regressão."
   ]
  },
  {
   "cell_type": "markdown",
   "metadata": {},
   "source": []
  }
 ],
 "metadata": {
  "kernelspec": {
   "display_name": "mba_data_science",
   "language": "python",
   "name": "mba_data_science"
  },
  "language_info": {
   "codemirror_mode": {
    "name": "ipython",
    "version": 3
   },
   "file_extension": ".py",
   "mimetype": "text/x-python",
   "name": "python",
   "nbconvert_exporter": "python",
   "pygments_lexer": "ipython3",
   "version": "3.11.4"
  }
 },
 "nbformat": 4,
 "nbformat_minor": 2
}
