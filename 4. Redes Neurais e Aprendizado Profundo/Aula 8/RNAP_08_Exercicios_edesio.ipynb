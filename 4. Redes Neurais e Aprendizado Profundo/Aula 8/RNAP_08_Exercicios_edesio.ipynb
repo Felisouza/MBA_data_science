{
  "cells": [
    {
      "cell_type": "markdown",
      "metadata": {
        "id": "K8CDQUj8yqpq"
      },
      "source": [
        "## MBA em Ciência de Dados\n",
        "# Redes Neurais e Arquiteturas Profundas\n",
        "\n",
        "### <span style=\"color:darkred\">Módulo 8 -  Introdução ao Aprendizado por Reforço</span>\n",
        "\n",
        "\n",
        "### <span style=\"color:darkred\">Exercícios</span>\n",
        "\n",
        "Moacir Antonelli Ponti\n",
        "\n",
        "CeMEAI - ICMC/USP São Carlos\n",
        "\n",
        "---\n",
        "\n",
        "#### <span style=\"color:red\">Recomenda-se fortemente que os exercícios sejam feitos sem consultar as respostas antecipadamente.</span>\n",
        "\n",
        "---"
      ]
    },
    {
      "cell_type": "markdown",
      "metadata": {
        "id": "xwc7TFbHQMyN"
      },
      "source": [
        "## Parte 1: Exercícios essenciais"
      ]
    },
    {
      "cell_type": "markdown",
      "metadata": {
        "id": "xMJ4IFd7yqpt"
      },
      "source": [
        "### Exercício 1)\n",
        "\n",
        "Qual alternativa descreve a comparação entre os objetivos da análise de agrupamentos e o aprendizado por reforço?\n",
        "\n",
        " (a) A análise de agrupamentos visa encontrar estrutura nos dados com base na similaridade ou diferença em suas características, enquanto que o aprendizado por reforço objetiva maximizar recompensa futura mapeando observações em ações por meio de uma política<br>\n",
        " (b) A análise de agrupamentos e aprendizado por reforço não possuem supervisão, possuindo algoritmos para treinamento similar, sua diferença está apenas na formulação do problema<br>\n",
        " (c) A análise de agrupamentos é não supervisionada, enquanto que o aprendizado por reforço é semi-supervisionado<br>\n",
        " (d) A análise de agrupamentos visa encontrar estrutura nos dados com base em suas características, enquanto que o por reforço visa encontrar um mapeamento entre características e as melhores ações possíveis segundo previamente rotuladas por um especialista<br>"
      ]
    },
    {
      "cell_type": "markdown",
      "metadata": {
        "id": "038CuS5syqqL"
      },
      "source": [
        "---\n",
        "\n",
        "### Exercício 2)\n",
        "\n",
        "São componentes fundamentais do aprendizado por reforço:\n",
        "\n",
        " (a) Policy learning, estados e redes neurais profundas<br>\n",
        " (b) Histórico, camadas convolucionais, agente e inicialização<br>\n",
        "(c) Agente, ambiente, estado, política de ação e função valor<br>\n",
        " (d) Value learning, estados e redes neurais profundas<br>\n"
      ]
    },
    {
      "cell_type": "markdown",
      "metadata": {
        "id": "nJQ0-S3myqqL"
      },
      "source": [
        "---\n",
        "### Exercício 3)\n",
        "\n",
        "Qual os passos básicos de um algoritmo de aprendizado de políticas (policy learning)?\n",
        "\n",
        " (a) Inicializar agente, com a política atual executar uma ação, obter uma recompensa, reforçar a política atual se essa produziu recompensa positiva nessa iteração.<br>\n",
        " (b) Inicializar agente, executar política até estado terminal, e repetir esse processo múltiplas vezes, selecionando o episódio com a maior recompensa total<br>\n",
        " (c) Inicializar agente, executar política até estado terminal, armazenar: estados, ações e recompensas, reduzir probabilidade de ações com baixa recompensa, Aumentar probabilidade de ações com alta recompensa<br>\n",
        " (d) Inicializar agente, utilizar rede neural para otimizar a melhor política em cada ação realizada.<br>"
      ]
    },
    {
      "cell_type": "markdown",
      "metadata": {
        "id": "6exl-MrVyqqT"
      },
      "source": [
        "---\n",
        "### Exercício 4)\n",
        "\n",
        "Dado um problema, como projetá-lo para ser resolvido com aprendizado por reforço?\n",
        "\n",
        "(a) Organizar os dados em pares $(x,y)$ sendo $x$ os dados de entrada e $y$ o espaço de saída ou alvo para que seja aprendido um mapeamento $X \\rightarrow Y$<br>\n",
        "(b) Formular o problema como o de um agente que executa ações e maximiza a recompensa dessas ações com base na solução encontrada<br>\n",
        "(c) Coletar dados e organizá-los em uma base dividida em instâncias $x \\in X$ para que sejam inspecionadas por funções de distância e particionar o espaço $X$<br>\n",
        "(d) Projetar o problema para funcionar com um agente que explora um ambiente e encontra o resultado por tentativa e erro com backtracking<br>\n"
      ]
    },
    {
      "cell_type": "markdown",
      "metadata": {
        "id": "Yfnm0YgLyqqU"
      },
      "source": [
        "---\n",
        "\n",
        "### Exercício 5)\n",
        "\n",
        "Carregue o ambiente `Pendulum-v1`. Procure mais obre esse ambiente em https://gymnasium.farama.org/environments/classic_control/pendulum/.\n",
        "\n",
        "Como é formulado o espaço de ações e observação desse problema?\n",
        "\n",
        " a) Espaço de ações: contínuo entre -1 e 1; Espaço de Observações: 2 valores contínuos.<br>\n",
        " b) Espaço de ações: contínuo entre -1 e 1; Espaço de Observações: 3 valores contínuos.<br>\n",
        " c) Espaço de ações: contínuo entre -2 e 2; Espaço de Observações: 2 valores contínuos.<br>\n",
        " d) Espaço de ações: contínuo entre -2 e 2; Espaço de Observações: 3 valores contínuos.<br>\n",
        "."
      ]
    },
    {
      "cell_type": "code",
      "source": [
        "#%%capture\n",
        "!pip install gymnasium"
      ],
      "metadata": {
        "id": "kc_PbSyUVch6",
        "colab": {
          "base_uri": "https://localhost:8080/"
        },
        "outputId": "9a0df2b2-a989-41c1-b591-b7d93b888462"
      },
      "execution_count": null,
      "outputs": [
        {
          "output_type": "stream",
          "name": "stdout",
          "text": [
            "Collecting gymnasium\n",
            "  Downloading gymnasium-1.0.0-py3-none-any.whl.metadata (9.5 kB)\n",
            "Requirement already satisfied: numpy>=1.21.0 in /usr/local/lib/python3.10/dist-packages (from gymnasium) (1.26.4)\n",
            "Requirement already satisfied: cloudpickle>=1.2.0 in /usr/local/lib/python3.10/dist-packages (from gymnasium) (3.1.0)\n",
            "Requirement already satisfied: typing-extensions>=4.3.0 in /usr/local/lib/python3.10/dist-packages (from gymnasium) (4.12.2)\n",
            "Collecting farama-notifications>=0.0.1 (from gymnasium)\n",
            "  Downloading Farama_Notifications-0.0.4-py3-none-any.whl.metadata (558 bytes)\n",
            "Downloading gymnasium-1.0.0-py3-none-any.whl (958 kB)\n",
            "\u001b[2K   \u001b[90m━━━━━━━━━━━━━━━━━━━━━━━━━━━━━━━━━━━━━━━━\u001b[0m \u001b[32m958.1/958.1 kB\u001b[0m \u001b[31m14.3 MB/s\u001b[0m eta \u001b[36m0:00:00\u001b[0m\n",
            "\u001b[?25hDownloading Farama_Notifications-0.0.4-py3-none-any.whl (2.5 kB)\n",
            "Installing collected packages: farama-notifications, gymnasium\n",
            "Successfully installed farama-notifications-0.0.4 gymnasium-1.0.0\n"
          ]
        }
      ]
    },
    {
      "cell_type": "code",
      "execution_count": null,
      "metadata": {
        "id": "ZzL9h4F4QMyT"
      },
      "outputs": [],
      "source": [
        "import gymnasium as gym"
      ]
    },
    {
      "cell_type": "code",
      "source": [
        "env = gym.make(\"Pendulum-v1\")\n",
        "env.observation_space"
      ],
      "metadata": {
        "colab": {
          "base_uri": "https://localhost:8080/"
        },
        "id": "R89u-XhH3jDn",
        "outputId": "1f09616f-0d3c-4452-cfa0-b4e33cdb0ac5"
      },
      "execution_count": null,
      "outputs": [
        {
          "output_type": "execute_result",
          "data": {
            "text/plain": [
              "Box([-1. -1. -8.], [1. 1. 8.], (3,), float32)"
            ]
          },
          "metadata": {},
          "execution_count": 6
        }
      ]
    },
    {
      "cell_type": "code",
      "source": [
        "env.action_space"
      ],
      "metadata": {
        "colab": {
          "base_uri": "https://localhost:8080/"
        },
        "id": "N-jhIyR_48Sw",
        "outputId": "a11602c6-5b90-4f55-b118-d758fb5c12c2"
      },
      "execution_count": null,
      "outputs": [
        {
          "output_type": "execute_result",
          "data": {
            "text/plain": [
              "Box(-2.0, 2.0, (1,), float32)"
            ]
          },
          "metadata": {},
          "execution_count": 7
        }
      ]
    },
    {
      "cell_type": "markdown",
      "metadata": {
        "id": "MCUJeRV1QMyW"
      },
      "source": [
        "---\n",
        "\n",
        "### Exercício 6)\n",
        "\n",
        "Retome o problema do taxi visto em aula. Sem realizar aprendizado, isso é, apenas usando ações aleatórias, defina a semente random.seed(1) e execute 10000 episódios até o fim, armazenando no final de cada episódio a recompensa total obtida e o número de passos necessários para finalizar o episódio. Calcule a média de passos por episódio e a média de recompensas por episódio.\n",
        "\n",
        "Qual alternativa descreve o valor da média de recompensas e média de passos, sem considerar casas decimais?\n",
        "\n",
        "a) Média de recompensas é negativa, Média de passos é próxima a 200<br>\n",
        " b) Média de recompensas é negativa, Média de passos é próxima a 50<br>\n",
        " c) Média de recompensas é positiva, Média de passos é próxima a 200 <br>\n",
        " d) Média de recompensas é positiva, Média de passos é próxima a 50<br>"
      ]
    },
    {
      "cell_type": "code",
      "execution_count": null,
      "metadata": {
        "id": "1bEiVLd-QMyX"
      },
      "outputs": [],
      "source": [
        "import gymnasium as gym\n",
        "import numpy as np\n",
        "import random\n",
        "from IPython.display import clear_output\n"
      ]
    },
    {
      "cell_type": "code",
      "source": [
        "env = gym.make(\"Taxi-v3\")\n",
        "print(\"observation_space\")\n",
        "env.observation_space"
      ],
      "metadata": {
        "colab": {
          "base_uri": "https://localhost:8080/"
        },
        "id": "Qb2Pa3_F6DqG",
        "outputId": "d39d472b-fbc4-4ca1-8152-6ff4201b9175"
      },
      "execution_count": null,
      "outputs": [
        {
          "output_type": "stream",
          "name": "stdout",
          "text": [
            "observation_space\n"
          ]
        },
        {
          "output_type": "execute_result",
          "data": {
            "text/plain": [
              "Discrete(500)"
            ]
          },
          "metadata": {},
          "execution_count": 12
        }
      ]
    },
    {
      "cell_type": "code",
      "source": [
        "env = gym.make(\"Taxi-v3\")\n",
        "print(\"action_space\")\n",
        "env.action_space"
      ],
      "metadata": {
        "colab": {
          "base_uri": "https://localhost:8080/"
        },
        "id": "VIAZAczL6Rks",
        "outputId": "f2219c77-cc03-428c-cdb0-d94519df8e28"
      },
      "execution_count": null,
      "outputs": [
        {
          "output_type": "stream",
          "name": "stdout",
          "text": [
            "action_space\n"
          ]
        },
        {
          "output_type": "execute_result",
          "data": {
            "text/plain": [
              "Discrete(6)"
            ]
          },
          "metadata": {},
          "execution_count": 13
        }
      ]
    },
    {
      "cell_type": "code",
      "source": [],
      "metadata": {
        "colab": {
          "base_uri": "https://localhost:8080/",
          "height": 186
        },
        "id": "rswKIpoz_dC9",
        "outputId": "4fda5e22-af32-4630-a3a5-dc2ca2827094"
      },
      "execution_count": null,
      "outputs": [
        {
          "output_type": "execute_result",
          "data": {
            "text/plain": [
              "<function IPython.core.display.clear_output(wait=False)>"
            ],
            "text/html": [
              "<div style=\"max-width:800px; border: 1px solid var(--colab-border-color);\"><style>\n",
              "      pre.function-repr-contents {\n",
              "        overflow-x: auto;\n",
              "        padding: 8px 12px;\n",
              "        max-height: 500px;\n",
              "      }\n",
              "\n",
              "      pre.function-repr-contents.function-repr-contents-collapsed {\n",
              "        cursor: pointer;\n",
              "        max-height: 100px;\n",
              "      }\n",
              "    </style>\n",
              "    <pre style=\"white-space: initial; background:\n",
              "         var(--colab-secondary-surface-color); padding: 8px 12px;\n",
              "         border-bottom: 1px solid var(--colab-border-color);\"><b>IPython.core.display.clear_output</b><br/>def clear_output(wait=False)</pre><pre class=\"function-repr-contents function-repr-contents-collapsed\" style=\"\"><a class=\"filepath\" style=\"display:none\" href=\"#\">/usr/local/lib/python3.10/dist-packages/IPython/core/display.py</a>Clear the output of the current cell receiving output.\n",
              "\n",
              "Parameters\n",
              "----------\n",
              "wait : bool [default: false]\n",
              "    Wait to clear the output until new output is available to replace it.</pre>\n",
              "      <script>\n",
              "      if (google.colab.kernel.accessAllowed && google.colab.files && google.colab.files.view) {\n",
              "        for (const element of document.querySelectorAll('.filepath')) {\n",
              "          element.style.display = 'block'\n",
              "          element.onclick = (event) => {\n",
              "            event.preventDefault();\n",
              "            event.stopPropagation();\n",
              "            google.colab.files.view(element.textContent, 1462);\n",
              "          };\n",
              "        }\n",
              "      }\n",
              "      for (const element of document.querySelectorAll('.function-repr-contents')) {\n",
              "        element.onclick = (event) => {\n",
              "          event.preventDefault();\n",
              "          event.stopPropagation();\n",
              "          element.classList.toggle('function-repr-contents-collapsed');\n",
              "        };\n",
              "      }\n",
              "      </script>\n",
              "      </div>"
            ]
          },
          "metadata": {},
          "execution_count": 19
        }
      ]
    },
    {
      "cell_type": "code",
      "execution_count": null,
      "metadata": {
        "id": "JXJRapq-QMyZ",
        "colab": {
          "base_uri": "https://localhost:8080/"
        },
        "outputId": "32afe576-0c01-4861-8827-8c568923e926"
      },
      "outputs": [
        {
          "output_type": "stream",
          "name": "stdout",
          "text": [
            "1000\n"
          ]
        }
      ],
      "source": [
        "\n",
        "# historico\n",
        "episodios = []\n",
        "\n",
        "random.seed(1)\n",
        "\n",
        "rewards = []\n",
        "verbose = False\n",
        "n_episodios = 1000\n",
        "\n",
        "for t in range(1, n_episodios+1):\n",
        "  s = env.reset()\n",
        "\n",
        "  episode_over = False\n",
        "  step = 0\n",
        "  r_total = 0\n",
        "  while not episode_over:\n",
        "    # gerar acao\n",
        "    action = env.action_space.sample()\n",
        "    # realizar acao\n",
        "    observation, reward, terminated, truncated, info = env.step(action)\n",
        "\n",
        "    if verbose:\n",
        "      print(f\"<< Step = {step}>>\")\n",
        "      print(\"observation: \", observation)\n",
        "      print(\"reward: \", reward)\n",
        "      print(\"terminated: \", terminated)\n",
        "      print(\"truncated:\", truncated)\n",
        "      print(\"info:\", info)\n",
        "      print()\n",
        "\n",
        "    episode_over = terminated or truncated\n",
        "    step += 1\n",
        "    r_total += reward\n",
        "\n",
        "  episodios.append(step)\n",
        "  rewards.append(r_total)\n",
        "\n",
        "  if t % 5 == 0:\n",
        "    clear_output(wait=True)\n",
        "    print(t)"
      ]
    },
    {
      "cell_type": "code",
      "source": [
        "import seaborn as sns\n",
        "import pandas as pd\n",
        "\n",
        "data = pd.DataFrame({\"steps\": episodios})\n",
        "sns.displot(data=data, x=\"steps\", kde=True)"
      ],
      "metadata": {
        "colab": {
          "base_uri": "https://localhost:8080/",
          "height": 523
        },
        "id": "rPkZHXC1AIiR",
        "outputId": "95981ab1-5b0d-4d05-d328-c24d3d84a5e9"
      },
      "execution_count": null,
      "outputs": [
        {
          "output_type": "execute_result",
          "data": {
            "text/plain": [
              "<seaborn.axisgrid.FacetGrid at 0x7c66fa610820>"
            ]
          },
          "metadata": {},
          "execution_count": 34
        },
        {
          "output_type": "display_data",
          "data": {
            "text/plain": [
              "<Figure size 500x500 with 1 Axes>"
            ],
            "image/png": "[encoded data removed]"
          },
          "metadata": {}
        }
      ]
    },
    {
      "cell_type": "code",
      "source": [
        "data = pd.DataFrame({\"rewards\": rewards})\n",
        "sns.displot(data=data, x=\"rewards\", kde=True)"
      ],
      "metadata": {
        "colab": {
          "base_uri": "https://localhost:8080/",
          "height": 523
        },
        "id": "YQV9ReqiASE0",
        "outputId": "a38cb540-91e3-4505-cd97-77e400ec0f19"
      },
      "execution_count": null,
      "outputs": [
        {
          "output_type": "execute_result",
          "data": {
            "text/plain": [
              "<seaborn.axisgrid.FacetGrid at 0x7c66fa6137c0>"
            ]
          },
          "metadata": {},
          "execution_count": 35
        },
        {
          "output_type": "display_data",
          "data": {
            "text/plain": [
              "<Figure size 500x500 with 1 Axes>"
            ],
            "image/png": "[encoded data removed]"
          },
          "metadata": {}
        }
      ]
    },
    {
      "cell_type": "code",
      "source": [
        "np.mean(episodios)"
      ],
      "metadata": {
        "colab": {
          "base_uri": "https://localhost:8080/"
        },
        "id": "iWVdVltb-d53",
        "outputId": "3631f2e9-51f7-46f9-fd04-4b6d292beacc"
      },
      "execution_count": null,
      "outputs": [
        {
          "output_type": "execute_result",
          "data": {
            "text/plain": [
              "196.501"
            ]
          },
          "metadata": {},
          "execution_count": 36
        }
      ]
    },
    {
      "cell_type": "code",
      "source": [
        "np.mean(rewards)"
      ],
      "metadata": {
        "colab": {
          "base_uri": "https://localhost:8080/"
        },
        "id": "nuCvbM92--Yv",
        "outputId": "9ce0e4ca-4d95-4658-e803-130e5227bede"
      },
      "execution_count": null,
      "outputs": [
        {
          "output_type": "execute_result",
          "data": {
            "text/plain": [
              "-771.514"
            ]
          },
          "metadata": {},
          "execution_count": 37
        }
      ]
    },
    {
      "cell_type": "code",
      "source": [],
      "metadata": {
        "id": "jZsWJ-Ei-N10"
      },
      "execution_count": null,
      "outputs": []
    },
    {
      "cell_type": "markdown",
      "metadata": {
        "id": "LGJZIox8QMyb"
      },
      "source": [
        "---\n",
        "## Parte 2: Exercícios Complementares"
      ]
    },
    {
      "cell_type": "markdown",
      "metadata": {
        "id": "J6VfUMk8yqqW"
      },
      "source": [
        "---\n",
        "\n",
        "### Exercício 7)\n",
        "\n",
        "Retome o problema do taxi visto em aula, utilizando o mesmo algoritmo de Value Learning, no qual a cada passo utilizamos um método de \"exploration\" obtendo amostras do espaço de ações por meio do `env.action_space.sample()`. Nesse exercício, vamos executar também \"exploitation\". Para isso modifique o treinamento conforme abaixo:\n",
        "1. Crie uma nova variável `tau` que definirá a chance do algoritmo realizar \"exploration\".\n",
        "2. Carregue o pacote `random` e antes dos episódios defina `random.seed(1)`\n",
        "3. Substitua a linha em que a ação é selecionada por um condicional:\n",
        "    * Se `random.uniform(0, 1)` for menor ou igual a `tau`, então realize \"exploration\" (da mesma forma como estava no algoritmo dado em aula)\n",
        "    * Caso contrário, então realize \"exploitation\", isso é, obtendo a ação não aleatória, mas a partir da tabela Q aprendida até agora com `np.argmax(q_table[s])`\n",
        "    \n",
        "Execute dois treinamentos, 1) com `tau=0.9`, 2) com `tau=0.3`, por 3000 episódios, e logo após teste com 50 episódios novos, medindo a média de recompensas totais e média de passos por episódio. Qual foi o resultado, comparativamente?\n",
        "\n",
        "OBS: lembre-se de definer `random.seed(1)` antes de iniciar cada experimento. Use alpha = 0.1 e gamma = 0.4\n",
        "    \n",
        " a) Maior taxa de *exploitation* beneficiou o treinamento, o agente alcançou uma política que resultou em menos passos e maior recompensa média, mas mesmo usando mais **exploration** o agente também aprendeu uma política significativamente melhor do que aleatória.<br>\n",
        " b) Maior taxa de **exploration** beneficiou o treinamento, tendo o agente alcançado uma política que resultou em menos passos e maior recompensa média, enquanto que com maior *exploitation* o agente não foi capaz de aprender uma política significativamente melhor do que aleatória.<br>\n",
        " c) Os resultados foram muito similares, não sendo possível dizer qual abordagem é melhor, ambas obtiveram alguma melhoria no sentido da política aprendida<br>\n",
        " d) Maior taxa de **exploration** beneficiou o treinamento, o agente alcançou uma política que resultou em menos passos e maior recompensa média, mas mesmo usando mais *exploitation* o agente também aprendeu uma política significativamente melhor do que aleatória.<br>"
      ]
    },
    {
      "cell_type": "code",
      "execution_count": null,
      "metadata": {
        "id": "iE8scVXaQMyc"
      },
      "outputs": [],
      "source": [
        "import gymnasium as gym\n",
        "import numpy as np\n",
        "import random\n",
        "from IPython.display import clear_output\n"
      ]
    },
    {
      "cell_type": "code",
      "source": [
        "env = gym.make(\"Taxi-v3\")"
      ],
      "metadata": {
        "id": "i_Q2_zgEDbAa"
      },
      "execution_count": null,
      "outputs": []
    },
    {
      "cell_type": "code",
      "source": [
        "# tabela Q\n",
        "q_table1 = np.zeros((env.observation_space.n, env.action_space.n))\n",
        "q_table1.shape"
      ],
      "metadata": {
        "colab": {
          "base_uri": "https://localhost:8080/"
        },
        "id": "IUqf9AioDpc6",
        "outputId": "bda8c344-be3d-48ea-ca81-3128782b270a"
      },
      "execution_count": null,
      "outputs": [
        {
          "output_type": "execute_result",
          "data": {
            "text/plain": [
              "(500, 6)"
            ]
          },
          "metadata": {},
          "execution_count": 41
        }
      ]
    },
    {
      "cell_type": "code",
      "source": [
        "np.argmax(q_table1[450, :])"
      ],
      "metadata": {
        "colab": {
          "base_uri": "https://localhost:8080/"
        },
        "id": "XRjt4WUxEFUD",
        "outputId": "6f2515e0-8716-43ab-d9ec-08f6c2143640"
      },
      "execution_count": null,
      "outputs": [
        {
          "output_type": "execute_result",
          "data": {
            "text/plain": [
              "0"
            ]
          },
          "metadata": {},
          "execution_count": 44
        }
      ]
    },
    {
      "cell_type": "code",
      "source": [
        "env.reset()\n"
      ],
      "metadata": {
        "colab": {
          "base_uri": "https://localhost:8080/"
        },
        "id": "yOoJiqZaEm9I",
        "outputId": "5d5eb5b1-b073-41bb-fffe-43f675bb258c"
      },
      "execution_count": null,
      "outputs": [
        {
          "output_type": "execute_result",
          "data": {
            "text/plain": [
              "(131, {'prob': 1.0, 'action_mask': array([1, 1, 0, 1, 0, 0], dtype=int8)})"
            ]
          },
          "metadata": {},
          "execution_count": 45
        }
      ]
    },
    {
      "cell_type": "code",
      "execution_count": null,
      "metadata": {
        "id": "d7gtnw8aQMyd",
        "colab": {
          "base_uri": "https://localhost:8080/"
        },
        "outputId": "fff670e5-0de0-472d-b50d-5db9bb18c172"
      },
      "outputs": [
        {
          "output_type": "stream",
          "name": "stdout",
          "text": [
            "1000\n"
          ]
        }
      ],
      "source": [
        "# hiperparametros\n",
        "alpha = 0.1\n",
        "tau = 0.9\n",
        "gamma = 0.4\n",
        "\n",
        "# historico\n",
        "episodios = []\n",
        "rewards = []\n",
        "\n",
        "random.seed(1)\n",
        "n_episodios = 1000\n",
        "\n",
        "# episodios\n",
        "for t in range(1, n_episodios+1):\n",
        "    state, _ = env.reset()\n",
        "    epochs = 0\n",
        "    total_rewards = 0\n",
        "    episode_over = False\n",
        "\n",
        "    while not episode_over:\n",
        "\n",
        "      if random.uniform(0, 1) <= tau:\n",
        "        # exploration\n",
        "        action = env.action_space.sample()\n",
        "      else:\n",
        "        # exploitation\n",
        "        action = np.argmax(q_table1[state])\n",
        "\n",
        "      # realizar acao\n",
        "      observation, reward, terminated, truncated, info = env.step(action)\n",
        "\n",
        "      # (s, a) - Q(s, a)\n",
        "      valor_anterior = q_table1[state, action]\n",
        "      proximo_valor = np.max(q_table1[observation])\n",
        "\n",
        "      novo_valor = (1-alpha)*valor_anterior + alpha*(reward + gamma*proximo_valor)\n",
        "      q_table1[state, action] = novo_valor\n",
        "\n",
        "      state = observation\n",
        "      epochs += 1\n",
        "      total_rewards += reward\n",
        "      episode_over = terminated or truncated\n",
        "    episodios.append(epochs)\n",
        "    rewards.append(total_rewards)\n",
        "\n",
        "    if t % 5 == 0:\n",
        "      clear_output(wait=True)\n",
        "      print(t)"
      ]
    },
    {
      "cell_type": "code",
      "execution_count": null,
      "metadata": {
        "scrolled": true,
        "id": "xjCidq6fQMye",
        "colab": {
          "base_uri": "https://localhost:8080/"
        },
        "outputId": "c684716c-9494-41dd-d451-0e169d88e566"
      },
      "outputs": [
        {
          "output_type": "execute_result",
          "data": {
            "text/plain": [
              "159.136"
            ]
          },
          "metadata": {},
          "execution_count": 64
        }
      ],
      "source": [
        "np.mean(episodios)"
      ]
    },
    {
      "cell_type": "code",
      "source": [
        "np.mean(total_rewards)"
      ],
      "metadata": {
        "colab": {
          "base_uri": "https://localhost:8080/"
        },
        "id": "IDoWY528KqO-",
        "outputId": "4c44c85c-1e30-4fa1-d120-890535c55db3"
      },
      "execution_count": null,
      "outputs": [
        {
          "output_type": "execute_result",
          "data": {
            "text/plain": [
              "-286.0"
            ]
          },
          "metadata": {},
          "execution_count": 65
        }
      ]
    },
    {
      "cell_type": "markdown",
      "metadata": {
        "id": "CQuiXFzdQMyk"
      },
      "source": [
        "---\n",
        "\n",
        "### Exercício 8)\n",
        "\n",
        "Tente utilizar o mesmo algoritmo anterior, agora para o ambiente `MountainCar-v0`. Logo ao definir a tabela Q surge um erro. Como interpretar esse erro?\n",
        "\n",
        " a) Esse problema é muito simples e contem poucas ações assim não conseguimos definir a tabela Q<br>\n",
        " b) O espaço de ações desse problema não é discreto. Assim, não é possível definir diretamente um número de colunas para a tabela<br>\n",
        " c) O espaço de observações (ou quantidade de estados) desse problema não é discreto. Assim, não é possível definir diretamente um número de linhas para a tabela<br>\n",
        " d) O espaço de ações e de observações (ou quantidade de estados) são contínuos não permitindo encontrar diretamente um número de elementos para a tabela<br>\n"
      ]
    },
    {
      "cell_type": "code",
      "execution_count": null,
      "metadata": {
        "id": "6SFvPI7BQMyk"
      },
      "outputs": [],
      "source": [
        "env = gym.make(\"MountainCar-v0\")\n"
      ]
    },
    {
      "cell_type": "markdown",
      "metadata": {
        "id": "C1sh5GgYyqqY"
      },
      "source": [
        "---\n",
        "\n",
        "### Exercício 9)\n",
        "\n",
        "Para o caso em que não conseguimos definir uma tabela Q diretamente, considere as seguintes opções:\n",
        "\n",
        "I - Projetar uma Deep Q-Network que receba o estado e dê como saída os valores preditos para cada ação<br>\n",
        "II - Projetar um mecanismo basedo em Policy Learning, aprendendo diretamente probabilidades de selecionar ações a partir dos estados<br>\n",
        "III - Criar múltiplas tabelas Q, uma para cada ação<br>\n",
        "IV - Projetar um algoritmo de Value learning que aprenda as distribuições dos valores ao invés dos valores diretamente<br>\n",
        "\n",
        "São viáveis as opções:\n",
        "\n",
        " a) I e II <br>\n",
        " b) I e IV<br>\n",
        " c) I e III <br>\n",
        " d) II e IV<br>\n"
      ]
    },
    {
      "cell_type": "code",
      "execution_count": null,
      "metadata": {
        "id": "KI8BGkZSQMym"
      },
      "outputs": [],
      "source": []
    }
  ],
  "metadata": {
    "colab": {
      "provenance": []
    },
    "kernelspec": {
      "display_name": "Python 3",
      "name": "python3"
    },
    "language_info": {
      "codemirror_mode": {
        "name": "ipython",
        "version": 3
      },
      "file_extension": ".py",
      "mimetype": "text/x-python",
      "name": "python",
      "nbconvert_exporter": "python",
      "pygments_lexer": "ipython3",
      "version": "3.9.7"
    }
  },
  "nbformat": 4,
  "nbformat_minor": 0
}