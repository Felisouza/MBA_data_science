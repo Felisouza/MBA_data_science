{
 "cells": [
  {
   "cell_type": "markdown",
   "metadata": {
    "id": "zI6LDVYrkk3t"
   },
   "source": [
    "### Redes Neurais e Arquiteturas Profundas\n",
    "#### **MBA em Ciências de Dados**\n",
    "\n",
    "## *Módulo 3 - Redes Neurais Convolucionais (CNNs)*\n",
    "\n",
    "### **MLP vs CNN**\n",
    "\n",
    "Moacir A. Ponti"
   ]
  },
  {
   "cell_type": "markdown",
   "metadata": {
    "id": "uO3aJvGdlKcR"
   },
   "source": [
    "## Exemplo de uso de redes neurais profundas para classificação de imagens\n",
    "\n",
    "### 1. Como tratar bases de imagens antes de começar a processar\n",
    "### 2. Comparação: Rede Densa (MLP) vs Rede Convolucional (CNN)"
   ]
  },
  {
   "cell_type": "code",
   "execution_count": 2,
   "metadata": {
    "executionInfo": {
     "elapsed": 1984,
     "status": "ok",
     "timestamp": 1601350351210,
     "user": {
      "displayName": "Moacir Antonelli Ponti",
      "photoUrl": "https://lh3.googleusercontent.com/a-/AOh14GiUCh4Fh-mIfwi8RywPAYpTcD2FQj59UHNkyv_uKg=s64",
      "userId": "09722981635546271521"
     },
     "user_tz": 180
    },
    "id": "55mHEidxkOa8"
   },
   "outputs": [],
   "source": [
    "import numpy as np\n",
    "import pandas as pd\n",
    "import matplotlib.pyplot as plt\n",
    "import tensorflow as tf\n",
    "from tensorflow import keras\n",
    "import tensorflow_datasets as tfds"
   ]
  },
  {
   "cell_type": "code",
   "execution_count": null,
   "metadata": {
    "colab": {
     "base_uri": "https://localhost:8080/",
     "height": 36
    },
    "executionInfo": {
     "elapsed": 1468,
     "status": "ok",
     "timestamp": 1601350366561,
     "user": {
      "displayName": "Moacir Antonelli Ponti",
      "photoUrl": "https://lh3.googleusercontent.com/a-/AOh14GiUCh4Fh-mIfwi8RywPAYpTcD2FQj59UHNkyv_uKg=s64",
      "userId": "09722981635546271521"
     },
     "user_tz": 180
    },
    "id": "2zYfNjz2QVwk",
    "outputId": "df8b89f3-80e0-46eb-9710-2d119a0cc288"
   },
   "outputs": [],
   "source": [
    "# testando o uso de GPU\n",
    "device_name = tf.test.gpu_device_name()\n",
    "if device_name != '/device:GPU:0':\n",
    "      raise SystemError('GPU device not found')\n",
    "print('Found GPU at: {}'.format(device_name))"
   ]
  },
  {
   "cell_type": "code",
   "execution_count": 68,
   "metadata": {
    "executionInfo": {
     "elapsed": 933,
     "status": "ok",
     "timestamp": 1601350414702,
     "user": {
      "displayName": "Moacir Antonelli Ponti",
      "photoUrl": "https://lh3.googleusercontent.com/a-/AOh14GiUCh4Fh-mIfwi8RywPAYpTcD2FQj59UHNkyv_uKg=s64",
      "userId": "09722981635546271521"
     },
     "user_tz": 180
    },
    "id": "PlwTeH9OHh__"
   },
   "outputs": [],
   "source": [
    "# Carregando dataset a partir de TensorFlow Datasets\n",
    "(ds_train, ds_test), ds_info = tfds.load('fashion_mnist', \n",
    "                                         split=['train[:15%]', 'test[:30%]'], \n",
    "                                         as_supervised=True, with_info=True)\n",
    "num_classes = ds_info.features['label'].num_classes"
   ]
  },
  {
   "cell_type": "code",
   "execution_count": 69,
   "metadata": {
    "scrolled": true
   },
   "outputs": [
    {
     "name": "stderr",
     "output_type": "stream",
     "text": [
      "2023-10-02 19:40:05.266735: W tensorflow/core/kernels/data/cache_dataset_ops.cc:854] The calling iterator did not fully read the dataset being cached. In order to avoid unexpected truncation of the dataset, the partially cached contents of the dataset  will be discarded. This can happen if you have an input pipeline similar to `dataset.cache().take(k).repeat()`. You should use `dataset.take(k).cache().repeat()` instead.\n"
     ]
    },
    {
     "data": {
      "image/png": "[encoded data removed]",
      "text/plain": [
       "<Figure size 1500x300 with 10 Axes>"
      ]
     },
     "metadata": {},
     "output_type": "display_data"
    }
   ],
   "source": [
    "def show_images(images, labels):\n",
    "    fig, axes = plt.subplots(1, len(images), figsize=(15, 3))\n",
    "    for i, (image, label) in enumerate(zip(images, labels)):\n",
    "        axes[i].imshow(image, cmap='gray')\n",
    "        axes[i].axis('off')\n",
    "        axes[i].set_title(f\"{label}\")\n",
    "    plt.show()\n",
    "\n",
    "# extrai primeiras 10 imagens para exibir\n",
    "list_images = []\n",
    "list_labels = []\n",
    "for example in ds_train.take(10):\n",
    "    image = example[0].numpy()\n",
    "    label = example[1].numpy()\n",
    "    list_images.append(image)\n",
    "    list_labels.append(label)\n",
    "    \n",
    "show_images(list_images, list_labels)"
   ]
  },
  {
   "cell_type": "code",
   "execution_count": 70,
   "metadata": {},
   "outputs": [
    {
     "name": "stdout",
     "output_type": "stream",
     "text": [
      "Resolução: (28, 28, 1)\n",
      "Training Set: 9000 exemplos de 60000 totais\n",
      "Testing Set: 3000 exemplos de 10000 totais\n",
      "Classes: 10\n"
     ]
    }
   ],
   "source": [
    "# Resolucao da imagem\n",
    "image_resolution = ds_info.features['image'].shape\n",
    "\n",
    "# Tamanho do dataset\n",
    "num_train_examples_total = ds_info.splits['train'].num_examples\n",
    "num_test_examples_total = ds_info.splits['test'].num_examples\n",
    "# TAmanho do dataset realmente carregado\n",
    "num_train_examples = tf.data.experimental.cardinality(ds_train).numpy()\n",
    "num_test_examples = tf.data.experimental.cardinality(ds_test).numpy()\n",
    "\n",
    "# Número de classes\n",
    "num_classes = ds_info.features['label'].num_classes\n",
    "\n",
    "print(f\"Resolução: {image_resolution}\")\n",
    "print(f\"Training Set: {num_train_examples} exemplos de {num_train_examples_total} totais\")\n",
    "print(f\"Testing Set: {num_test_examples} exemplos de {num_test_examples_total} totais\")\n",
    "print(f\"Classes: {num_classes}\")"
   ]
  },
  {
   "cell_type": "markdown",
   "metadata": {
    "id": "odVxTvCzJScK"
   },
   "source": [
    "---\n",
    "\n",
    "Sabendo as características do dataset, agora, o passo ideal é **pré-processar** as imagens para facilitar o processo de otimização das redes neurais:\n",
    "\n",
    "1. Normalizar seus valores (para o intervalo 0-1)\n",
    "2. Alterar a codificação das classes (para one-hot-encoding): teremos 10 neurônios na saída, não apenas 1"
   ]
  },
  {
   "cell_type": "code",
   "execution_count": 71,
   "metadata": {},
   "outputs": [
    {
     "name": "stdout",
     "output_type": "stream",
     "text": [
      "[[  0]\n",
      " [  0]\n",
      " [  0]\n",
      " [  0]\n",
      " [ 83]\n",
      " [ 71]\n",
      " [136]\n",
      " [194]\n",
      " [126]\n",
      " [ 46]]\n",
      "2\n"
     ]
    },
    {
     "name": "stderr",
     "output_type": "stream",
     "text": [
      "2023-10-02 19:41:59.390116: W tensorflow/core/kernels/data/cache_dataset_ops.cc:854] The calling iterator did not fully read the dataset being cached. In order to avoid unexpected truncation of the dataset, the partially cached contents of the dataset  will be discarded. This can happen if you have an input pipeline similar to `dataset.cache().take(k).repeat()`. You should use `dataset.take(k).cache().repeat()` instead.\n"
     ]
    }
   ],
   "source": [
    "# Exibindo dados originais\n",
    "for image, label in ds_train.take(1):\n",
    "    print(image.numpy()[16,:10])\n",
    "    print(label.numpy())"
   ]
  },
  {
   "cell_type": "code",
   "execution_count": 72,
   "metadata": {},
   "outputs": [],
   "source": [
    "def one_hot_label(image, label):\n",
    "    label = tf.one_hot(label, num_classes)\n",
    "    return image, label\n",
    "    \n",
    "# Pre-processa imagens\n",
    "def preprocess_image(image, label):\n",
    "    # converte imagem para float32\n",
    "    image = tf.image.convert_image_dtype(image, tf.float32)\n",
    "    return image, label\n",
    "\n",
    "ds_train = ds_train.map(preprocess_image)\n",
    "ds_test = ds_test.map(preprocess_image)\n",
    "\n",
    "ds_train = ds_train.map(one_hot_label)\n",
    "ds_test = ds_test.map(one_hot_label)"
   ]
  },
  {
   "cell_type": "code",
   "execution_count": 73,
   "metadata": {
    "scrolled": true
   },
   "outputs": [
    {
     "name": "stdout",
     "output_type": "stream",
     "text": [
      "[[0.        ]\n",
      " [0.        ]\n",
      " [0.        ]\n",
      " [0.        ]\n",
      " [0.3254902 ]\n",
      " [0.2784314 ]\n",
      " [0.53333336]\n",
      " [0.7607844 ]\n",
      " [0.49411768]\n",
      " [0.18039216]]\n",
      "[0. 0. 1. 0. 0. 0. 0. 0. 0. 0.]\n"
     ]
    },
    {
     "name": "stderr",
     "output_type": "stream",
     "text": [
      "2023-10-02 19:43:04.334009: W tensorflow/core/kernels/data/cache_dataset_ops.cc:854] The calling iterator did not fully read the dataset being cached. In order to avoid unexpected truncation of the dataset, the partially cached contents of the dataset  will be discarded. This can happen if you have an input pipeline similar to `dataset.cache().take(k).repeat()`. You should use `dataset.take(k).cache().repeat()` instead.\n"
     ]
    }
   ],
   "source": [
    "# Exibindo dados processados\n",
    "for image, label in ds_train.take(1):\n",
    "    print(image.numpy()[16,:10])\n",
    "    print(label.numpy())"
   ]
  },
  {
   "cell_type": "markdown",
   "metadata": {
    "id": "tqfg5g1Ro2sY"
   },
   "source": [
    "### Tudo pronto, agora vamos começar\n",
    "\n",
    "OBS: poderíamos ter feito mais etapas de pré-processamento aqui, como por exemplo normalização z-score das imagens, remoção de outliers, etc."
   ]
  },
  {
   "cell_type": "markdown",
   "metadata": {
    "id": "RLmFmjk7LHzQ"
   },
   "source": [
    "### Vamos aos concorrentes\n",
    "1. Multilayer Perceptron, com (pelo menos) 60 anos de vida, uma densa experiência e muitas conexões\n",
    "\n",
    "2. Rede convolucional, mais jovem porém com menos graus de liberdade e maior quantidade de representações intermediárias por camada."
   ]
  },
  {
   "cell_type": "code",
   "execution_count": 59,
   "metadata": {
    "colab": {
     "base_uri": "https://localhost:8080/",
     "height": 363
    },
    "executionInfo": {
     "elapsed": 800,
     "status": "ok",
     "timestamp": 1601350710798,
     "user": {
      "displayName": "Moacir Antonelli Ponti",
      "photoUrl": "https://lh3.googleusercontent.com/a-/AOh14GiUCh4Fh-mIfwi8RywPAYpTcD2FQj59UHNkyv_uKg=s64",
      "userId": "09722981635546271521"
     },
     "user_tz": 180
    },
    "id": "Ls0LDOsXm7Yq",
    "outputId": "8839b273-eaa7-4d39-eeef-4155bda20965"
   },
   "outputs": [
    {
     "name": "stdout",
     "output_type": "stream",
     "text": [
      "Model: \"sequential_19\"\n",
      "_________________________________________________________________\n",
      " Layer (type)                Output Shape              Param #   \n",
      "=================================================================\n",
      " flatten_19 (Flatten)        (None, 784)               0         \n",
      "                                                                 \n",
      " dense_43 (Dense)            (None, 256)               200960    \n",
      "                                                                 \n",
      " dense_44 (Dense)            (None, 256)               65792     \n",
      "                                                                 \n",
      " dense_45 (Dense)            (None, 256)               65792     \n",
      "                                                                 \n",
      " dense_46 (Dense)            (None, 256)               65792     \n",
      "                                                                 \n",
      " dense_47 (Dense)            (None, 10)                2570      \n",
      "                                                                 \n",
      "=================================================================\n",
      "Total params: 400906 (1.53 MB)\n",
      "Trainable params: 400906 (1.53 MB)\n",
      "Non-trainable params: 0 (0.00 Byte)\n",
      "_________________________________________________________________\n"
     ]
    }
   ],
   "source": [
    "# concorrente número um, no canto direito!\n",
    "MLP = keras.Sequential()\n",
    "\n",
    "MLP.add(keras.layers.InputLayer(input_shape=image_resolution)) \n",
    "# precisamos achatar a imagem para um vetor antes de começar\n",
    "MLP.add(keras.layers.Flatten()) \n",
    "MLP.add(keras.layers.Dense(256, activation=\"relu\"))\n",
    "MLP.add(keras.layers.Dense(256, activation=\"relu\"))\n",
    "MLP.add(keras.layers.Dense(256, activation=\"relu\"))\n",
    "MLP.add(keras.layers.Dense(256, activation=\"relu\"))\n",
    "MLP.add(keras.layers.Dense(10, activation='softmax'))\n",
    "MLP.summary()"
   ]
  },
  {
   "cell_type": "code",
   "execution_count": 60,
   "metadata": {
    "colab": {
     "base_uri": "https://localhost:8080/",
     "height": 401
    },
    "executionInfo": {
     "elapsed": 689,
     "status": "ok",
     "timestamp": 1601350729121,
     "user": {
      "displayName": "Moacir Antonelli Ponti",
      "photoUrl": "https://lh3.googleusercontent.com/a-/AOh14GiUCh4Fh-mIfwi8RywPAYpTcD2FQj59UHNkyv_uKg=s64",
      "userId": "09722981635546271521"
     },
     "user_tz": 180
    },
    "id": "gkr_krQnLwoV",
    "outputId": "d6cf72cd-233a-4b62-eb4d-49e90096c8fb"
   },
   "outputs": [
    {
     "name": "stdout",
     "output_type": "stream",
     "text": [
      "Model: \"sequential_20\"\n",
      "_________________________________________________________________\n",
      " Layer (type)                Output Shape              Param #   \n",
      "=================================================================\n",
      " conv2d_32 (Conv2D)          (None, 13, 13, 32)        320       \n",
      "                                                                 \n",
      " conv2d_33 (Conv2D)          (None, 6, 6, 64)          18496     \n",
      "                                                                 \n",
      " conv2d_34 (Conv2D)          (None, 6, 6, 64)          36928     \n",
      "                                                                 \n",
      " flatten_20 (Flatten)        (None, 2304)              0         \n",
      "                                                                 \n",
      " dense_48 (Dense)            (None, 128)               295040    \n",
      "                                                                 \n",
      " dense_49 (Dense)            (None, 10)                1290      \n",
      "                                                                 \n",
      "=================================================================\n",
      "Total params: 352074 (1.34 MB)\n",
      "Trainable params: 352074 (1.34 MB)\n",
      "Non-trainable params: 0 (0.00 Byte)\n",
      "_________________________________________________________________\n"
     ]
    }
   ],
   "source": [
    "# o concorrente novato, no canto esquerdo!\n",
    "CNN = keras.Sequential()\n",
    "\n",
    "CNN.add(keras.layers.Conv2D(32, kernel_size=(3,3), strides=(2,2), \n",
    "                            padding='valid', activation='relu', \n",
    "                            input_shape=image_resolution))\n",
    "CNN.add(keras.layers.Conv2D(64, kernel_size=(3,3), strides=(2,2), \n",
    "                            padding='valid', activation='relu', \n",
    "                            input_shape=image_resolution))\n",
    "CNN.add(keras.layers.Conv2D(64, kernel_size=(3,3), strides=(1,1), \n",
    "                            padding='same', activation='relu'))\n",
    "\n",
    "CNN.add(keras.layers.Flatten())\n",
    "CNN.add(keras.layers.Dense(128, activation=\"relu\"))\n",
    "CNN.add(keras.layers.Dense(10, activation='softmax'))\n",
    "CNN.summary()"
   ]
  },
  {
   "cell_type": "markdown",
   "metadata": {
    "id": "W7VOgujapRcS"
   },
   "source": [
    "### 1) Preparando o dataset e os modelos"
   ]
  },
  {
   "cell_type": "code",
   "execution_count": 48,
   "metadata": {},
   "outputs": [],
   "source": [
    "# as sementes ajudam a ter resultados reproduzíveis\n",
    "from numpy.random import seed\n",
    "from tensorflow.random import set_seed\n",
    "\n",
    "seed(1)\n",
    "set_seed(2)\n",
    "\n",
    "# vamos usar o mesmo número de épocas e batchsize para ambos\n",
    "batch_size = 64\n",
    "epochs = 25\n",
    "\n",
    "# definindo o batch size para iterar sobre o dataset\n",
    "ds_train = ds_train.batch(batch_size)\n",
    "ds_test = ds_test.batch(batch_size)"
   ]
  },
  {
   "cell_type": "code",
   "execution_count": 61,
   "metadata": {
    "executionInfo": {
     "elapsed": 686,
     "status": "ok",
     "timestamp": 1601350875914,
     "user": {
      "displayName": "Moacir Antonelli Ponti",
      "photoUrl": "https://lh3.googleusercontent.com/a-/AOh14GiUCh4Fh-mIfwi8RywPAYpTcD2FQj59UHNkyv_uKg=s64",
      "userId": "09722981635546271521"
     },
     "user_tz": 180
    },
    "id": "MvusEAx0oZbw"
   },
   "outputs": [],
   "source": [
    "# compilando os modelos\n",
    "MLP.compile(loss='categorical_crossentropy',\n",
    "              optimizer=keras.optimizers.SGD(learning_rate=0.1),\n",
    "              metrics=['accuracy'])\n",
    "\n",
    "CNN.compile(loss='categorical_crossentropy',\n",
    "              optimizer=keras.optimizers.SGD(learning_rate=0.1),\n",
    "              metrics=['accuracy'])"
   ]
  },
  {
   "cell_type": "markdown",
   "metadata": {
    "id": "zBUq48i8OwCk"
   },
   "source": [
    "## **E lá vamos nós**: em quem você apostaria?"
   ]
  },
  {
   "cell_type": "code",
   "execution_count": 62,
   "metadata": {
    "executionInfo": {
     "elapsed": 16512,
     "status": "ok",
     "timestamp": 1601350900472,
     "user": {
      "displayName": "Moacir Antonelli Ponti",
      "photoUrl": "https://lh3.googleusercontent.com/a-/AOh14GiUCh4Fh-mIfwi8RywPAYpTcD2FQj59UHNkyv_uKg=s64",
      "userId": "09722981635546271521"
     },
     "user_tz": 180
    },
    "id": "XUvnDFab31Af"
   },
   "outputs": [],
   "source": [
    "histMLP = MLP.fit(ds_train,\n",
    "                    batch_size=batch_size,\n",
    "                    epochs=epochs, verbose=0)\n",
    "\n",
    "scoreMLP_Tr = MLP.evaluate(ds_train, verbose = 0)\n",
    "scoreMLP_Te = MLP.evaluate(ds_test, verbose = 0)"
   ]
  },
  {
   "cell_type": "code",
   "execution_count": 63,
   "metadata": {
    "executionInfo": {
     "elapsed": 27526,
     "status": "ok",
     "timestamp": 1601350932788,
     "user": {
      "displayName": "Moacir Antonelli Ponti",
      "photoUrl": "https://lh3.googleusercontent.com/a-/AOh14GiUCh4Fh-mIfwi8RywPAYpTcD2FQj59UHNkyv_uKg=s64",
      "userId": "09722981635546271521"
     },
     "user_tz": 180
    },
    "id": "CYzuO3fl3mqy"
   },
   "outputs": [],
   "source": [
    "histCNN = CNN.fit(ds_train,\n",
    "                    batch_size=batch_size,\n",
    "                    epochs=epochs, \n",
    "                    verbose=0)\n",
    "\n",
    "scoreCNN_Tr = CNN.evaluate(ds_train, verbose = 0)\n",
    "scoreCNN_Te = CNN.evaluate(ds_test, verbose = 0)"
   ]
  },
  {
   "cell_type": "code",
   "execution_count": 64,
   "metadata": {
    "colab": {
     "base_uri": "https://localhost:8080/",
     "height": 284
    },
    "executionInfo": {
     "elapsed": 682,
     "status": "ok",
     "timestamp": 1601350963972,
     "user": {
      "displayName": "Moacir Antonelli Ponti",
      "photoUrl": "https://lh3.googleusercontent.com/a-/AOh14GiUCh4Fh-mIfwi8RywPAYpTcD2FQj59UHNkyv_uKg=s64",
      "userId": "09722981635546271521"
     },
     "user_tz": 180
    },
    "id": "LcMnFOuxwMOV",
    "outputId": "f84580dd-a7f5-41df-f135-f8ebf8db29c7"
   },
   "outputs": [
    {
     "data": {
      "text/plain": [
       "Text(0.5, 1.0, 'Perda ao longo das épocas')"
      ]
     },
     "execution_count": 64,
     "metadata": {},
     "output_type": "execute_result"
    },
    {
     "data": {
      "image/png": "[encoded data removed]",
      "text/plain": [
       "<Figure size 640x480 with 1 Axes>"
      ]
     },
     "metadata": {},
     "output_type": "display_data"
    }
   ],
   "source": [
    "plt.plot(histMLP.history['loss'])\n",
    "plt.plot(histCNN.history['loss'])\n",
    "plt.ylim([0.1,1.0])\n",
    "plt.legend([\"MLP\", \"CNN\"], loc=\"upper right\")\n",
    "plt.title(\"Perda ao longo das épocas\")"
   ]
  },
  {
   "cell_type": "code",
   "execution_count": 23,
   "metadata": {
    "colab": {
     "base_uri": "https://localhost:8080/",
     "height": 94
    },
    "executionInfo": {
     "elapsed": 633,
     "status": "ok",
     "timestamp": 1601350941631,
     "user": {
      "displayName": "Moacir Antonelli Ponti",
      "photoUrl": "https://lh3.googleusercontent.com/a-/AOh14GiUCh4Fh-mIfwi8RywPAYpTcD2FQj59UHNkyv_uKg=s64",
      "userId": "09722981635546271521"
     },
     "user_tz": 180
    },
    "id": "f_frKjeHpzPg",
    "outputId": "1a97a319-460f-4f0b-b9d6-55f8dec014a1"
   },
   "outputs": [
    {
     "name": "stdout",
     "output_type": "stream",
     "text": [
      "MLP Acurácia treinamento: 86.69%\n",
      "MLP Acurácia teste: 82.27%\n",
      "\n",
      "CNN Acurácia treinamento: 92.09%\n",
      "CNN Acurácia teste: 84.43%\n"
     ]
    }
   ],
   "source": [
    "print(f\"MLP Acurácia treinamento: {(scoreMLP_Tr[1]*100):.2f}%\")\n",
    "print(f\"MLP Acurácia teste: {(scoreMLP_Te[1]*100):.2f}%\\n\")\n",
    "\n",
    "print(f\"CNN Acurácia treinamento: {(scoreCNN_Tr[1]*100):.2f}%\")\n",
    "print(f\"CNN Acurácia teste: {(scoreCNN_Te[1]*100):.2f}%\")"
   ]
  },
  {
   "cell_type": "code",
   "execution_count": null,
   "metadata": {},
   "outputs": [],
   "source": []
  }
 ],
 "metadata": {
  "accelerator": "GPU",
  "colab": {
   "authorship_tag": "ABX9TyP/PdNO5x779f5xEQEOyTp4",
   "collapsed_sections": [],
   "name": "RNAP-02_Aula_notebook_CNN_vs_MLP.ipynb",
   "provenance": [
    {
     "file_id": "1ryRnpVh_NV9bRUifu2EcSKiXjcHiq4jM",
     "timestamp": 1601336788944
    }
   ]
  },
  "kernelspec": {
   "display_name": "Python 3 (ipykernel)",
   "language": "python",
   "name": "python3"
  },
  "language_info": {
   "codemirror_mode": {
    "name": "ipython",
    "version": 3
   },
   "file_extension": ".py",
   "mimetype": "text/x-python",
   "name": "python",
   "nbconvert_exporter": "python",
   "pygments_lexer": "ipython3",
   "version": "3.11.3"
  }
 },
 "nbformat": 4,
 "nbformat_minor": 4
}
