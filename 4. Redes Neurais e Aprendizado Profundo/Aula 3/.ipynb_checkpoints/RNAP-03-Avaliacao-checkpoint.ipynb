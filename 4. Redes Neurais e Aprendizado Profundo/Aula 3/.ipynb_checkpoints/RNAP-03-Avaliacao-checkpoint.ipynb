{
 "cells": [
  {
   "cell_type": "markdown",
   "metadata": {
    "id": "F5vy8Xz2dvDq"
   },
   "source": [
    "## MBA em Ciência de Dados\n",
    "# Redes Neurais e Arquiteturas Profundas\n",
    "\n",
    "### <span style=\"color:darkred\">Módulo 3 - Redes Neurais Convolucionais (CNNs)</span>\n",
    "\n",
    "\n",
    "### <span style=\"color:darkred\">Avaliação</span>\n",
    "\n",
    "Moacir Antonelli Ponti\n",
    "\n",
    "CeMEAI - ICMC/USP São Carlos\n",
    "\n",
    "---\n",
    "\n",
    "As respostas devem ser dadas no Moodle, use esse notebook apenas para gerar o código necessário para obter as respostas\n",
    "\n",
    "---"
   ]
  },
  {
   "cell_type": "markdown",
   "metadata": {
    "id": "kqHVWR0kdvDv"
   },
   "source": [
    "---\n",
    "\n",
    "### Questão 1)\n",
    "\n",
    "Considere duas camadas independentes de redes neurais profundas:\n",
    "\n",
    "A. Camada densa com 64 neurônios, cuja entrada é um vetor de 1024 dimensões;<br>\n",
    "B. Camada convolucional com 64 neurônios (filtros) de tamanho 5x5, cuja entrada é uma matriz de 32x32 valores (1024 no total).\n",
    "\n",
    "Qual o total de parâmetros a serem aprendidos em cada camada?\n",
    "\n",
    "(a) A = 6560 parâmetros; B = 1664 parâmetros <br>\n",
    "(b) A = 6560 parâmetros; B = 2880 parâmetros <br>\n",
    "(c) A = 6560 parâmetros; B = 26624 parâmetros <br>\n",
    "(d) A = 65600 parâmetros; B = 1664 parâmetros <br>\n",
    "(e) A = 65600 parâmetros; B = 26624 parâmetros <br>\n"
   ]
  },
  {
   "cell_type": "code",
   "execution_count": 4,
   "metadata": {},
   "outputs": [
    {
     "name": "stdout",
     "output_type": "stream",
     "text": [
      "65600\n",
      "1664\n"
     ]
    }
   ],
   "source": [
    "A_neuronios = 64\n",
    "A_dimensoes = 1024\n",
    "\n",
    "B_neuronios = 64\n",
    "tamanho_filtro = 5\n",
    "bias = 1\n",
    "\n",
    "print((A_neuronios*A_dimensoes)+A_neuronios)\n",
    "print(((tamanho_filtro * tamanho_filtro) + bias) * B_neuronios)\n"
   ]
  },
  {
   "cell_type": "markdown",
   "metadata": {
    "id": "K68ss6DqdvDx"
   },
   "source": [
    "---\n",
    "### Questão 2)\n",
    "\n",
    "Considere o conceito de \"campo receptivo local\" como uma região de certo tamanho dos dados de entrada que é processada de forma a gerar a saída. Considere ainda dois tipos de unidades de processamento de redes neurais profundas:\n",
    "\n",
    "A. Camada densa (tipo Perceptron), que recebe por entrada um vetor com 16384 dimensões<br>\n",
    "B. Camada convolucional com filtro de tamanho 3x3 com padding, que recebe por entrada uma imagem com 128 x 128 dimensões.<br>\n",
    "C. Sequência de duas camadas: a primeira convolucional com filtros de tamanho 5x5 sem padding, que recebe por entrada uma imagem com 128 x 128 dimensões, seguida de uma camada densa (tipo Perceptron), que recebe por entrada o vetor composto por todos os valores achatados (flatten) da camada convolucional anterior.\n",
    "\n",
    "Qual é o tamanho do campo receptivo local nos dados de entrada, para cada valor de saída das camadas computado por A, B e C?\n",
    "\n",
    "Em C a saída é referente à segunda camada, portanto considerar o processamento de ambas.\n",
    "\n",
    " (a) A = 16384; B = 3 x 3; C = 128 x 128<br>\n",
    " (b) A = 1; B = 3 x 3; C = 126 x 126<br>\n",
    " (c) A = 1;  B = 128 x 128; C = 128 x 128<br>\n",
    " (d) A = 16384; B = 5 x 5; C = 128 x 128<br>\n",
    " (e) A = 16384; B = 130 x 130; C = 126 x 126<br>"
   ]
  },
  {
   "cell_type": "code",
   "execution_count": 5,
   "metadata": {},
   "outputs": [
    {
     "name": "stdout",
     "output_type": "stream",
     "text": [
      "Campo receptivo local para camada densa (A): 16384\n",
      "Campo receptivo local para camada convolucional (B): 3x3\n",
      "Campo receptivo local para sequência de duas camadas (C): 5x5\n"
     ]
    }
   ],
   "source": []
  },
  {
   "cell_type": "markdown",
   "metadata": {
    "id": "XMONf1lxdvDz"
   },
   "source": [
    "---\n",
    "\n",
    "### Questão 3)\n",
    "\n",
    "Utilizando a biblioteca Keras, projete uma rede neural para processar dados unidimensionais (dimensionalidade do vetor de entrada = 256), e que contenha as seguintes camadas:\n",
    "\n",
    "1. Camada max pooling 1D com tamanho de pool = 4\n",
    "2. Camada convolucional 1D com 32 filtros de tamanho 5, com zero-padding\n",
    "3. Camada max pooling 1D com tamanho de pool = 6\n",
    "4. Camada convolucional 1D com 64 filtros de tamanho 3, sem padding\n",
    "5. Camada global max pooling 1D\n",
    "\n",
    "Essa arquitetura poderia ser utilizada para receber por entrada uma janela de uma série temporal contendo 256 instâncias e aprender um espaço de características compacto com a camada Global Max Pooling.\n",
    "\n",
    "Quais as dimensionalidades das saídas das camadas 1 (primeiro MaxPooling), 4 (segunda Convolucional) e 5 (Global Max Pooling)?\n",
    "\n",
    "(a) 1=(256,1); 4=(10,32); 5=(64)<br>\n",
    "(b) 1=(64,1); 4=(8,64); 5=(64)<br>\n",
    "(c) 1=(63,32); 4=(8,32); 5=(32)<br>\n",
    "(d) 1=(64,1); 4=(8,64); 5=(64)<br>\n",
    "(e) 1=(64,1); 4=(10,64); 5=(32)<br>\n"
   ]
  },
  {
   "cell_type": "code",
   "execution_count": null,
   "metadata": {},
   "outputs": [],
   "source": [
    "import tensorflow as tf"
   ]
  },
  {
   "cell_type": "code",
   "execution_count": null,
   "metadata": {},
   "outputs": [],
   "source": [
    "from tensorflow.keras.layers import Input, Conv1D, MaxPooling1D, GlobalMaxPooling1D, Dense"
   ]
  },
  {
   "cell_type": "code",
   "execution_count": null,
   "metadata": {},
   "outputs": [],
   "source": [
    "\n",
    "\n",
    "# Definir a arquitetura da rede neural\n",
    "inputs = Input(shape=(256, 1))\n",
    "\n",
    "x = MaxPooling1D(pool_size=4)(inputs)\n",
    "x = Conv1D(32, kernel_size=5, padding='same', activation='relu')(x)\n",
    "x = MaxPooling1D(pool_size=6)(x)\n",
    "x = Conv1D(64, kernel_size=3, padding='valid', activation='relu')(x)\n",
    "x = GlobalMaxPooling1D()(x)\n",
    "\n",
    "# Camadas densas (opcional)\n",
    "x = Dense(64, activation='relu')(x)\n",
    "outputs = Dense(10, activation='softmax')(x)  # Exemplo de camada de saída para classificação\n",
    "\n",
    "model = tf.keras.Model(inputs=inputs, outputs=outputs)\n",
    "model.compile(optimizer='adam', loss='categorical_crossentropy', metrics=['accuracy'])\n",
    "\n",
    "model.summary()"
   ]
  },
  {
   "cell_type": "markdown",
   "metadata": {
    "id": "dSSeNg78dvD4"
   },
   "source": [
    "---\n",
    "\n",
    "### Questão 4)\n",
    "\n",
    "Carregue a base de dados Fashion MNIST conforme o código abaixo. Normalize os dados das imagens para que os valores fiquem entre 0 e 1 e, em seguida, converta as classes para o formato categórico utilizando `tf.keras.utils.to_categorical`.\n",
    "\n",
    "A seguir, crie uma CNN para classificar as imagens dessa base de dados, contendo as seguintes camadas:\n",
    "\n",
    "1. Convolucional 1 com 32 filtros de tamanho $3 \\times 3$, sem padding e stride 1 (nas duas direções)\n",
    "2. MaxPooling com tamanho 2 e stride 2 nas duas direções\n",
    "3. Convolucional 2 com 64 filtros de tamanho $3 \\times 3$, com padding e stride $2,1$\n",
    "4. Convolucional 3 com 64 filtros de tamanho $3 \\times 3$, sem padding e stride $1,2$\n",
    "5. Global Max Pooling\n",
    "6. Camada densa com 128 neurônios\n",
    "7. Camada de saída com ativação softmax\n",
    "\n",
    "Após montar o modelo, realize a predição para o primeiro elemento do conjunto de treinamento no formato `model.predict(x_train[0:1])`.\n",
    "\n",
    "Quais os tamanhos das saídas das camadas de 3 até 5, e qual foi a soma das probabilidades (de todas as classes) gerada como saída para a predição do primeiro elemento, arredondando essa soma para 4 casas decimais?\n",
    "\n",
    "(a) 3=(13,7,32); 4=(6,12,64); 5=(64); soma=0.5<br>\n",
    "(b) 3=(13,7,64); 4=(6,5,64); 5=(64); soma=1.0<br>\n",
    "(c) 3=(14,14,64); 4=(12,12,32); 5=(32); soma=0.5<br>\n",
    "(d) 3=(14,7,64); 4=(7,7,64); 5=(64); soma=1.0<br>\n",
    "(e) 3=(28,14,64); 4=(14,14,64); 5=(64); soma=1.0<br>\n"
   ]
  },
  {
   "cell_type": "code",
   "execution_count": null,
   "metadata": {
    "id": "KhdY3NQadvD5"
   },
   "outputs": [],
   "source": [
    "import numpy as np\n",
    "import tensorflow as tf\n",
    "from tensorflow import keras\n",
    "\n",
    "# Carregar base de dados Fashion MNIST\n",
    "(x_train, y_train), (x_test, y_test) = keras.datasets.fashion_mnist.load_data()\n",
    "\n",
    "# Normalizar imagens para intervalo entre 0 e 1\n",
    "x_train = x_train.astype('float32') / 255.0\n",
    "x_test = x_test.astype('float32') / 255.0\n",
    "\n",
    "# Classes para categórico\n",
    "# Reformatação das imagens\n",
    "x_train = np.expand_dims(x_train, -1)\n",
    "x_test = np.expand_dims(x_test, -1)\n",
    "\n",
    "# Criando o modelo\n",
    "# Resumo do modelo\n",
    "# Predição do primeiro elemento do conjunto de treinamento\n",
    "# Soma das probabilidades"
   ]
  },
  {
   "cell_type": "markdown",
   "metadata": {
    "id": "flyveCeJdvD_"
   },
   "source": [
    "---\n",
    "\n",
    "### Questão 5)\n",
    "\n",
    "Carregue a base de dados CIFAR-10 conforme o código abaixo. Normalize os dados das imagens de forma a que os valores estejam entre 0 e 1, depois converta as classes para o tipo categórico utilizando o ` tf.keras.utils.to_categorical`.  Iremos usar um subconjunto de treinamento contendo as primeiras 5000 imagens (usar código abaixo)\n",
    "\n",
    "A seguir, crie uma CNN para classificar imagens dessa base de dados, contendo como camadas:\n",
    "\n",
    "1. convolucional 1 com 32 filtros de tamanho $3\\times 3$, sem padding e stride 1 (nas duas direções)\n",
    "2. maxpooling com tamanho 2 e stride 2,1\n",
    "3. convolucional 2 com 32 filtros de tamanho $3\\times 3$, sem padding e stride $1,1$\n",
    "4. maxpooling com tamanho 2 e stride 1,2\n",
    "5. global max pooling\n",
    "6. camada densa com 20 neurônios\n",
    "7. camada classificadora com ativação softmax\n",
    "\n",
    "Todas as camadas convolucionais devem ter ativação relu.\n",
    "\n",
    "Iremos repetir 5 vezes o experimento de treinamento e avaliação dessa rede, da seguinte forma: defina as sementes aleatórias do numpy para 1 e do tensorflow para 2. Depois, utilizando a arquitetura definida, configure a rede para treinar com a configuração abaixo.\n",
    "* otimizador: SGD\n",
    "* taxa de aprendizado: 0.015\n",
    "* função de custo: `categorical_crossentropy`\n",
    "* métrica: `accuracy`\n",
    "* épocas: 30\n",
    "* batchsize: 32\n",
    "\n",
    "Após o processo de aprendizado, obtenha a acurácia calculada no conjunto de treinamento e no conjunto de testes utilizando a função `evaluate()`.\n",
    "\n",
    "Com base na média da acurácia de treinamento e teste obtida das 5 execuções, escolha a opção cujo intervalo se enquadre nos valores obtidos. É um processo lento em CPU, mude seu runtime para GPU se estiver executando no colab.\n",
    "\n",
    "(c) Acurácia Treinamento = [30,34],  Acurácia Teste = [25,30]<br>\n",
    "(b) Acurácia Treinamento = [42,48],  Acurácia Teste = [28,32]<br>\n",
    "(c) Acurácia Treinamento = [42,48],  Acurácia Teste = [36,41]<br>\n",
    "(d) Acurácia Treinamento = [42,48],  Acurácia Teste = [42,48]<br>\n",
    "(a) Acurácia Treinamento = [50,55],  Acurácia Teste = [46,51]<br>\n"
   ]
  },
  {
   "cell_type": "code",
   "execution_count": null,
   "metadata": {
    "id": "dPGxxEoidvEA"
   },
   "outputs": [],
   "source": [
    "import numpy as np\n",
    "import matplotlib.pyplot as plt\n",
    "\n",
    "import tensorflow as tf\n",
    "from tensorflow import keras\n",
    "\n",
    "from tensorflow.keras.datasets import cifar10\n",
    "(x_train, y_train), (x_test, y_test) = cifar10.load_data()\n",
    "\n",
    "fig, axes = plt.subplots(2,10, figsize=(10,2))\n",
    "ax = axes.ravel()\n",
    "for i in range(20):\n",
    "    ax[i].imshow(x_train[i], cmap=\"gray\")\n",
    "    ax[i].axis('off')\n",
    "\n",
    "img_lin, img_col = x_train.shape[1], x_train.shape[2]\n",
    "num_classes = len(np.unique(y_train))\n",
    "print(x_train.shape)\n",
    "print('Classes: ', num_classes)\n",
    "\n",
    "x_train = x_train.astype('float32') / 255.0\n",
    "x_test = x_test.astype('float32') / 255.0\n",
    "\n",
    "y_train = tf.keras.utils.to_categorical(y_train, num_classes)\n",
    "y_test = tf.keras.utils.to_categorical(y_test, num_classes)\n",
    "\n",
    "# verifica se as imagens da base de dados tem um canal (i.e. em tons de cinza)\n",
    "# ou mais do que um canal e se houver mais do que um canal entao armazena a\n",
    "# quantidade de canais\n",
    "if (len(x_train.shape) == 3):\n",
    "      n_channels = 1\n",
    "else:\n",
    "      n_channels = x_train.shape[3]\n",
    "\n",
    "# re-formatando as imagens de forma que sejam transformadas em\n",
    "# matrizes com canais (por exemplo quando as imagens sao RGB)\n",
    "if keras.backend.image_data_format() == 'channels_first':\n",
    "    x_train = x_train.reshape(x_train.shape[0], n_channels, img_lin, img_col)\n",
    "    x_test = x_test.reshape(x_test.shape[0], n_channels, img_lin, img_col)\n",
    "    input_shape = (n_channels, img_lin, img_col)\n",
    "else:\n",
    "    x_train = x_train.reshape(x_train.shape[0], img_lin, img_col, n_channels)\n",
    "    x_test = x_test.reshape(x_test.shape[0], img_lin, img_col, n_channels)\n",
    "    input_shape = (img_lin, img_col, n_channels)\n",
    "\n",
    "## subconjunto\n",
    "x_train_sub = x_train[:5000]\n",
    "y_train_sub = y_train[:5000]\n",
    "\n",
    "del x_train, y_train"
   ]
  },
  {
   "cell_type": "code",
   "execution_count": null,
   "metadata": {
    "id": "4mnT4GQhdvED"
   },
   "outputs": [],
   "source": [
    "# exemplo de como realizar o treinamento\n",
    "for i in range(1,6):\n",
    "    # sementes\n",
    "    seed(1)\n",
    "    set_seed(2)\n",
    "    # criar modelo\n",
    "    # compilar modelo\n",
    "    # treinar modelo\n",
    "    # avaliar modelo"
   ]
  }
 ],
 "metadata": {
  "accelerator": "GPU",
  "colab": {
   "gpuType": "T4",
   "provenance": []
  },
  "kernelspec": {
   "display_name": "mba_kernel",
   "language": "python",
   "name": "mba_kernel"
  },
  "language_info": {
   "codemirror_mode": {
    "name": "ipython",
    "version": 3
   },
   "file_extension": ".py",
   "mimetype": "text/x-python",
   "name": "python",
   "nbconvert_exporter": "python",
   "pygments_lexer": "ipython3",
   "version": "3.10.9"
  }
 },
 "nbformat": 4,
 "nbformat_minor": 4
}
