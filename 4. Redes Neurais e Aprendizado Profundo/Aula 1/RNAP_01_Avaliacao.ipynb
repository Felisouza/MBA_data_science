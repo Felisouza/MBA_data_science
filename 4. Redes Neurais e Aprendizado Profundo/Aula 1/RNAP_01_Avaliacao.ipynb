{
 "cells": [
  {
   "cell_type": "markdown",
   "metadata": {
    "id": "T3fIW9spbg7j"
   },
   "source": [
    "## MBA em Ciência de Dados\n",
    "# Redes Neurais e Arquiteturas Profundas\n",
    "\n",
    "### <span style=\"color:darkred\">Módulo I - Introdução ao Aprendizado Profundo</span>\n",
    "\n",
    "\n",
    "### <span style=\"color:darkred\">Avaliação</span>\n",
    "\n",
    "Moacir Antonelli Ponti\n",
    "\n",
    "CeMEAI - ICMC/USP São Carlos"
   ]
  },
  {
   "cell_type": "markdown",
   "metadata": {
    "id": "a-OvFPVtbg7o"
   },
   "source": [
    "---\n",
    "### Questão 1)\n",
    "\n",
    "Qual dos cenários abaixo define o processo de \"aprendizado de características/feature learning\" com aprendizado profundo supervisionado? Considere problemas com dados não estruturados para classificação.\n",
    "\n",
    "(a) realizar extração de características dos dados, trabalhar o espaço de características resultante, aplicar métodos de redução de dimensionalidade e um algoritmo de classificação para uma tarefa alvo<br>\n",
    "(b) modelar por meio de diferentes redes neurais as etapas de extração de características, redução de dimensionalidade e de classificação da tarefa alvo<br>\n",
    "(c) utilizar classificadores do tipo Perceptron para abordar o problema<br>\n",
    "**(d) realizar preparação básica de dados e deixar que uma única rede neural aprenda as características e o classificador com base na tarefa alvo**<br>\n",
    "(e) realizar extração de características dos dados, trabalhar o espaço de características resultante com métodos do estado da arte e então utilizar um ensemble de redes neurais para resolver o problema<br>\n"
   ]
  },
  {
   "cell_type": "markdown",
   "metadata": {
    "id": "0QUntsSLgJi4"
   },
   "source": [
    "---\n",
    "### Questão 2)\n",
    "\n",
    "Em uma rede neural, o uso de funções de ativação nas camadas intermediárias é essencial. Qual das opções abaixo descreve corretamente o impacto de **não** utilizar uma função de ativação nas camadas intermediárias de uma rede neural?\n",
    "\n",
    "**(a) cada camada funcionaria produzindo uma combinação linear de suas entradas, limitando o aprendizado de padrões não-lineares.**<br>\n",
    "(b) a rede seria capaz de aprender padrões não-lineares, mas com maior dificuldade pois dependeria da característica dos dados de treinamento.<br>\n",
    "(c) a rede continuaria funcional, mas teria um aumento significativo no número de parâmetros treináveis.<br>\n",
    "(d) a rede seria incapaz de aprender qualquer padrão, mesmo os mais simples, tornando-se inutilizável.<br>\n",
    "(e) a ausência de funções de ativação não afetaria a capacidade da rede de aprender padrões complexos.\n"
   ]
  },
  {
   "cell_type": "markdown",
   "metadata": {
    "id": "9dNKhKJMEpms"
   },
   "source": [
    "---\n",
    "\n",
    "### Questão 3)\n",
    "\n",
    "Considere uma amostra com $n=6$ exemplos, para os quais temos as saídas (rótulos): $\\mathbf{y} = [0, 0, 1, 1, 0, 0]$.\n",
    "\n",
    "Dois modelos de rede neural produziram as seguintes saídas:<br>\n",
    "$\\hat{\\mathbf{y}}_1 = [1.0, 1.0, 1.0, 1.0, 1.0, 1.0]$,<br>\n",
    "$\\hat{\\mathbf{y}}_2 = [0.2, 0.2, 0.2, 0.8, 0.8, 0.2]$.\n",
    "\n",
    "Implemente funções que calcule as perdas para as saídas 1 e 2, respectivamente, arredondando para 2 casas decimais:\n",
    "- quadrática média (MSE), considerando a formulação $\\frac{1}{n} \\sum_j (y_j - \\hat{y}_j)^2$, com $j=1,...,n$\n",
    "- entropia cruzada binária (CE), considerando a formulação $ \\frac{1}{n}\\sum_{j} -(y_j \\ln \\hat{y}_j + (1-y_j) \\ln (1-\\hat{y}_j)) $, com $j=1,...,n$.\n",
    "\n",
    "OBS: para evitar erros por log de 0, use $ln(x+0.001)$, ou seja some 0.001 aos logs.\n",
    "\n",
    "Assinale a alternativa que indica as perdas MSE e CE calculadas para as saídas 1 e 2, arredondado para 1 casa decimal.\n",
    "\n",
    "(a) 1: MSE=0.70, CE=3.4, 2: MSE=0.1, CE=2.8<br>\n",
    "**(b) 1: MSE=0.70, CE=4.6, 2: MSE=0.2, CE=0.7**<br>\n",
    "(c) 1: MSE=0.50, CE=3.4, 2: MSE=4.1, CE=2.8<br>\n",
    "(d) 1: MSE=0.50, CE=20.7, 2: MSE=8.0, CE=4.1<br>\n",
    "(e) 1: MSE=1.40, CE=27.6, 2: MSE=1.4, CE=2.8<br>"
   ]
  },
  {
   "cell_type": "code",
   "execution_count": 3,
   "metadata": {},
   "outputs": [
    {
     "name": "stdout",
     "output_type": "stream",
     "text": [
      "ole\n"
     ]
    }
   ],
   "source": [
    "print('ole')"
   ]
  },
  {
   "cell_type": "code",
   "execution_count": 2,
   "metadata": {},
   "outputs": [
    {
     "name": "stdout",
     "output_type": "stream",
     "text": [
      "MSE para y_hat_1: 0.67\n",
      "CE para y_hat_1: 4.60\n",
      "MSE para y_hat_2: 0.24\n",
      "CE para y_hat_2: 0.68\n"
     ]
    }
   ],
   "source": [
    "import numpy as np\n",
    "\n",
    "# Dados fornecidos\n",
    "y = np.array([0, 0, 1, 1, 0, 0])\n",
    "y_hat_1 = np.array([1.0, 1.0, 1.0, 1.0, 1.0, 1.0])\n",
    "y_hat_2 = np.array([0.2, 0.2, 0.2, 0.8, 0.8, 0.2])\n",
    "\n",
    "# Função para calcular a perda quadrática média (MSE)\n",
    "def mse(y, y_hat):\n",
    "    return np.mean((y - y_hat) ** 2)\n",
    "\n",
    "# Função para calcular a entropia cruzada binária (CE)\n",
    "def ce(y, y_hat):\n",
    "    return -np.mean(y * np.log(y_hat + 0.001) + (1 - y) * np.log(1 - y_hat + 0.001))\n",
    "\n",
    "# Calculando as perdas para y_hat_1\n",
    "mse_1 = mse(y, y_hat_1)\n",
    "ce_1 = ce(y, y_hat_1)\n",
    "\n",
    "# Calculando as perdas para y_hat_2\n",
    "mse_2 = mse(y, y_hat_2)\n",
    "ce_2 = ce(y, y_hat_2)\n",
    "\n",
    "# Exibindo os resultados arredondados para 2 casas decimais\n",
    "print(f\"MSE para y_hat_1: {mse_1:.2f}\")\n",
    "print(f\"CE para y_hat_1: {ce_1:.2f}\")\n",
    "print(f\"MSE para y_hat_2: {mse_2:.2f}\")\n",
    "print(f\"CE para y_hat_2: {ce_2:.2f}\")\n"
   ]
  },
  {
   "cell_type": "markdown",
   "metadata": {
    "id": "EQUCBYZgf8Pk"
   },
   "source": [
    "---\n",
    "### Questão 4)\n",
    "\n",
    "Quando dizemos que um neurônio de uma rede neural \"aprende\" (no sentido de aprendizado de máquina), o que isso significa em termos do modelo matemático do Perceptron?\n",
    "\n",
    "(a) aprender é inicializar os parâmetros do modelo (pesos e bias) com valores aleatórios<br>\n",
    "(b) aprender é computar a função de perda/custo do modelo considerando seus parâmetros atuais (pesos e bias)<br>\n",
    "(c) aprender é computar a multiplicação vetorial entre os dados de entrada e os pesos, e somar o valor bias<br>\n",
    "**(d) aprender é ajustar os parâmetros do modelo (pesos e bias) usando uma base de dados de treinamento**<br>\n",
    "(e) aprender é ajustar os parâmetros do modelo (pesos e bias) usando uma base de dados de validação<br>\n"
   ]
  },
  {
   "cell_type": "markdown",
   "metadata": {
    "id": "ZamTB3TYbg7p"
   },
   "source": [
    "---\n",
    "### Questão 5)\n",
    "\n",
    "Suponha duas formulações de um classificador:\n",
    "1. $\\hat y = \\mathbf{w}^T \\mathbf{x} + b$, com $\\mathbf{x} \\in R^5$\n",
    "2. $\\hat y = w_1 x_1 + w_2 x_2 + w_3 x_3 + b$.<br>\n",
    "\n",
    "Qual a afirmativa correta quando comparamos essas formulações?\n",
    "\n",
    "(a) representam a mesma função de classificação<br>\n",
    "**(b) ambas são classicadores lineares, sua única diferença é a dimensionalidade dos dados de entrada**<br>\n",
    "(c) ambas são classicadores lineares, porém apenas a (2) é válida como formulação de um neurônio Perceptron<br>\n",
    "(d) apenas (1) é um classificador linear, enquanto a (2) é não linear <br>\n",
    "(e) apenas (2) é um classificador linear, enquanto a (1) é não linear <br>\n"
   ]
  },
  {
   "cell_type": "code",
   "execution_count": null,
   "metadata": {
    "id": "K4yYNGOHbg7v"
   },
   "outputs": [],
   "source": []
  }
 ],
 "metadata": {
  "colab": {
   "provenance": []
  },
  "kernelspec": {
   "display_name": "MBA_kernel",
   "language": "python",
   "name": "mba_kernel"
  },
  "language_info": {
   "codemirror_mode": {
    "name": "ipython",
    "version": 3
   },
   "file_extension": ".py",
   "mimetype": "text/x-python",
   "name": "python",
   "nbconvert_exporter": "python",
   "pygments_lexer": "ipython3",
   "version": "3.10.9"
  }
 },
 "nbformat": 4,
 "nbformat_minor": 4
}
