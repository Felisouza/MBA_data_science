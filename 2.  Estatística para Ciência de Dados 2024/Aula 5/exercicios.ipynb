{
 "cells": [
  {
   "cell_type": "code",
   "execution_count": null,
   "metadata": {},
   "outputs": [],
   "source": []
  },
  {
   "cell_type": "markdown",
   "metadata": {},
   "source": [
    "# Questão 1 \n",
    "(Morettin, Estatística Básica) Um fabricante de lajotas de cerâmica introduz um novo material em sua fabricação e acredita que aumentará a resistência média, que é de 206 kg. A resistência das lajotas tem distribuição normal com desvio padrão de 12 kg. Retira-se uma amostra de 30 lajotas, obtendo 𝑥̅𝑂𝐵𝑆 = 210 kg. Ao nível de 10%, pode o fabricante aceitar que a resistência média de suas lajotas tenha aumentado?"
   ]
  },
  {
   "cell_type": "code",
   "execution_count": 1,
   "metadata": {},
   "outputs": [
    {
     "name": "stdout",
     "output_type": "stream",
     "text": [
      "O p-valor é aproximadamente 0.00%\n"
     ]
    }
   ],
   "source": [
    "def pvalue_101(population_mean, population_std, num_samples, sample_mean):\n",
    "    # Calcula o desvio padrão da distribuição das médias de amostra\n",
    "    std_sample_means = population_std / (num_samples ** 0.5)\n",
    "    \n",
    "    # Calcula o z-score da média da amostra\n",
    "    z_score = (sample_mean - population_mean) / std_sample_means\n",
    "    \n",
    "    # Calcula o p-valor usando a função scipy.stats.norm.sf\n",
    "    from scipy.stats import norm\n",
    "    p_value = norm.sf(abs(z_score))\n",
    "    \n",
    "    return p_value\n",
    "\n",
    "# Exemplo de uso\n",
    "population_mean = 170.0\n",
    "population_std = 5.0\n",
    "num_samples = 10000\n",
    "sample_mean = 183.0\n",
    "\n",
    "p_value = pvalue_101(population_mean, population_std, num_samples, sample_mean)\n",
    "print(f\"O p-valor é aproximadamente {p_value:.2%}\")\n"
   ]
  },
  {
   "cell_type": "code",
   "execution_count": 2,
   "metadata": {},
   "outputs": [
    {
     "data": {
      "text/plain": [
       "0.033944577430914495"
      ]
     },
     "execution_count": 2,
     "metadata": {},
     "output_type": "execute_result"
    }
   ],
   "source": [
    "pvalue_101(206, 12, 30, 210)"
   ]
  },
  {
   "cell_type": "code",
   "execution_count": 3,
   "metadata": {},
   "outputs": [
    {
     "name": "stdout",
     "output_type": "stream",
     "text": [
      "Z observado: 1.8257418583505538\n",
      "P-valor: 0.0339445774309145\n",
      "Ao nível de significância de 0.1, podemos rejeitar a hipótese nula.\n"
     ]
    }
   ],
   "source": [
    "import scipy.stats as stats\n",
    "\n",
    "# Dados do problema\n",
    "media_populacional = 206\n",
    "desvio_padrao = 12\n",
    "n = 30\n",
    "media_amostral = 210\n",
    "alpha = 0.10\n",
    "\n",
    "# Calculando o escore z\n",
    "z_obs = (media_amostral - media_populacional) / (desvio_padrao / (n ** 0.5))\n",
    "\n",
    "# Calculando o p-valor\n",
    "p_valor = 1 - stats.norm.cdf(z_obs)\n",
    "\n",
    "# Testando a hipótese\n",
    "if p_valor < alpha:\n",
    "    resultado = \"rejeitar a hipótese nula\"\n",
    "else:\n",
    "    resultado = \"não rejeitar a hipótese nula\"\n",
    "\n",
    "print(f\"Z observado: {z_obs}\")\n",
    "print(f\"P-valor: {p_valor}\")\n",
    "print(f\"Ao nível de significância de {alpha}, podemos {resultado}.\")\n"
   ]
  },
  {
   "cell_type": "code",
   "execution_count": 7,
   "metadata": {},
   "outputs": [
    {
     "data": {
      "text/plain": [
       "3.39445774309145"
      ]
     },
     "execution_count": 7,
     "metadata": {},
     "output_type": "execute_result"
    }
   ],
   "source": [
    "p_valor*100"
   ]
  },
  {
   "cell_type": "code",
   "execution_count": 8,
   "metadata": {},
   "outputs": [
    {
     "data": {
      "text/plain": [
       "10.0"
      ]
     },
     "execution_count": 8,
     "metadata": {},
     "output_type": "execute_result"
    }
   ],
   "source": [
    "alpha*100"
   ]
  },
  {
   "cell_type": "markdown",
   "metadata": {},
   "source": [
    "# Questão 3\n",
    "(Morettin & Bussab) Os novos operários de uma empresa são treinados a\n",
    "operarem uma máquina, cujo tempo X (em horas) de aprendizado é anotado.\n",
    "Observou-se que X segue de perto a distribuição N(25; 100). Uma nova técnica de\n",
    "ensino, que deve melhorar o tempo de aprendizado, foi testada em 16 novos\n",
    "empregados, os quais apresentaram 20:5 horas como tempo médio de aprendizado.\n",
    "Usando o p-valor, você diria que a nova técnica é melhor que a anterior?"
   ]
  },
  {
   "cell_type": "code",
   "execution_count": 15,
   "metadata": {},
   "outputs": [
    {
     "name": "stdout",
     "output_type": "stream",
     "text": [
      "Z observado: -1.80\n",
      "P-valor: 0.0360\n",
      "Ao nível de significância de 0.05, podemos rejeitar a hipótese nula e aceitar que a nova técnica é melhor.\n"
     ]
    }
   ],
   "source": [
    "import scipy.stats as stats\n",
    "\n",
    "# Dados do problema\n",
    "media_populacional = 25\n",
    "desvio_padrao = 10  # Raiz quadrada de 100\n",
    "n = 16\n",
    "media_amostral = 20.5\n",
    "alpha = 0.05  # Nível de significância comum\n",
    "\n",
    "# Calculando o escore z\n",
    "z_obs = (media_amostral - media_populacional) / (desvio_padrao / (n ** 0.5))\n",
    "\n",
    "# Calculando o p-valor\n",
    "p_valor = round(stats.norm.cdf(z_obs), 3)\n",
    "\n",
    "# Testando a hipótese\n",
    "if p_valor < alpha:\n",
    "    resultado = \"rejeitar a hipótese nula e aceitar que a nova técnica é melhor\"\n",
    "else:\n",
    "    resultado = \"não rejeitar a hipótese nula e concluir que a nova técnica não é comprovadamente melhor\"\n",
    "\n",
    "print(f\"Z observado: {z_obs:.2f}\")\n",
    "print(f\"P-valor: {p_valor:.4f}\")\n",
    "print(f\"Ao nível de significância de {alpha}, podemos {resultado}.\")\n"
   ]
  },
  {
   "cell_type": "code",
   "execution_count": null,
   "metadata": {},
   "outputs": [],
   "source": []
  }
 ],
 "metadata": {
  "kernelspec": {
   "display_name": "mba_data_science",
   "language": "python",
   "name": "mba_data_science"
  },
  "language_info": {
   "codemirror_mode": {
    "name": "ipython",
    "version": 3
   },
   "file_extension": ".py",
   "mimetype": "text/x-python",
   "name": "python",
   "nbconvert_exporter": "python",
   "pygments_lexer": "ipython3",
   "version": "3.11.4"
  }
 },
 "nbformat": 4,
 "nbformat_minor": 2
}
