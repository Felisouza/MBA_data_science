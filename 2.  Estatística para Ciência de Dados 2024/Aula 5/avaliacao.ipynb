{
 "cells": [
  {
   "cell_type": "markdown",
   "metadata": {},
   "source": [
    "# Questão 4\n",
    "Considere os dados gerados com o código a seguir. Realize um teste de hipótese e calcule o valor p, de modo a verificar se os dados apresentam a mesma média (dica: ver exercício no notebook da aula). Qual o valor p?\n",
    "\n",
    "```python\n",
    "import numpy as np\n",
    "import matplotlib.pyplot as plt\n",
    "np.random.seed(101)\n",
    "\n",
    "n = 1000\n",
    "mu1 = 1; sigma1 = 5\n",
    "x1 = np.random.normal(mu1, sigma1, n) # sorteia uma amostra de tamanho n\n",
    "\n",
    "mu2 = 2; sigma2 = 1\n",
    "x2 = np.random.normal(mu2, sigma2, n) # sorteia uma amostra de tamanho n\n",
    "\n",
    "plt.figure(figsize=(8,4))\n",
    "a1 = plt.hist(x=x1, bins=20, color='blue', alpha=0.7, rwidth=0.85, density=True)\n",
    "a2 = plt.hist(x=x2, bins=20, color='red', alpha=0.7, rwidth=0.85, density=True)\n",
    "plt.show(True)\n"
   ]
  },
  {
   "cell_type": "code",
   "execution_count": 7,
   "metadata": {},
   "outputs": [
    {
     "data": {
      "image/png": "[encoded data removed]",
      "text/plain": [
       "<Figure size 800x400 with 1 Axes>"
      ]
     },
     "metadata": {},
     "output_type": "display_data"
    }
   ],
   "source": [
    "import numpy as np\n",
    "import matplotlib.pyplot as plt\n",
    "np.random.seed(101)\n",
    "\n",
    "n = 1000\n",
    "mu1 = 1; sigma1 = 5\n",
    "x1 = np.random.normal(mu1, sigma1, n) # sorteia uma amostra de tamanho n\n",
    "\n",
    "mu2 = 2; sigma2 = 1\n",
    "x2 = np.random.normal(mu2, sigma2, n) # sorteia uma amostra de tamanho n\n",
    "\n",
    "plt.figure(figsize=(8,4))\n",
    "a1 = plt.hist(x=x1, bins=20, color='blue', alpha=0.7, rwidth=0.85, density=True)\n",
    "a2 = plt.hist(x=x2, bins=20, color='red', alpha=0.7, rwidth=0.85, density=True)\n",
    "plt.show(True)"
   ]
  },
  {
   "cell_type": "code",
   "execution_count": 10,
   "metadata": {},
   "outputs": [
    {
     "name": "stdout",
     "output_type": "stream",
     "text": [
      "Valor t: -5.40\n",
      "Valor p: 0.0000000753\n"
     ]
    }
   ],
   "source": [
    "from scipy import stats\n",
    "\n",
    "# Realizando o teste t para amostras independentes\n",
    "t_stat, p_val = stats.ttest_ind(x1, x2)\n",
    "\n",
    "print(f\"Valor t: {t_stat:.2f}\")\n",
    "print(f\"Valor p: {p_val:.10f}\")\n"
   ]
  },
  {
   "cell_type": "code",
   "execution_count": 9,
   "metadata": {},
   "outputs": [
    {
     "data": {
      "text/plain": [
       "TtestResult(statistic=-5.398321651023567, pvalue=7.52679996259228e-08, df=1998.0)"
      ]
     },
     "execution_count": 9,
     "metadata": {},
     "output_type": "execute_result"
    }
   ],
   "source": [
    "stats.ttest_ind(x1, x2)"
   ]
  },
  {
   "cell_type": "markdown",
   "metadata": {},
   "source": [
    "# Questão 5\n",
    "Pesquisadores acreditam que tempo gasto por estudantes em redes sociais é igual a 20 horas por semana. Para verificar essa hipótese, eles selecionam 10 estudantes, obtendo os valores:[12,25,30,10,15,20,21,22,29,12]. Assumindo que os tempos são normalmente distribuídos, calcule o valor p. (Dica: veja o exemplo no notebook apresentado na aula)"
   ]
  },
  {
   "cell_type": "code",
   "execution_count": 17,
   "metadata": {},
   "outputs": [
    {
     "data": {
      "text/plain": [
       "7.167829363048326"
      ]
     },
     "execution_count": 17,
     "metadata": {},
     "output_type": "execute_result"
    }
   ],
   "source": [
    "tempos = [12,25,30,10,15,20,21,22,29,12]\n",
    "media = 20\n",
    "n = len(tempos)\n",
    "s = np.std(tempos, ddof=1)\n",
    "xobs = np.mean(tempos)\n",
    "\n"
   ]
  },
  {
   "cell_type": "code",
   "execution_count": null,
   "metadata": {},
   "outputs": [],
   "source": [
    "z_obs = (media_amostral - media_populacional) / (desvio_padrao / (n ** 0.5))\n"
   ]
  },
  {
   "cell_type": "code",
   "execution_count": null,
   "metadata": {},
   "outputs": [],
   "source": [
    "from scipy import stats\n",
    "\n",
    "# Dados da amostra\n",
    "tempos = [12, 25, 30, 10, 15, 20, 21, 22, 29, 12]\n",
    "\n",
    "# Hipótese nula: média = 20 horas\n",
    "media_hipotese_nula = 20\n",
    "\n",
    "# Realizando o teste t de uma amostra\n",
    "t_stat, p_val = stats.ttest_1samp(tempos, media_hipotese_nula)\n",
    "\n",
    "print(f\"Valor t: {t_stat:.2f}\")\n",
    "print(f\"Valor p: {p_val:.10f}\")\n"
   ]
  }
 ],
 "metadata": {
  "kernelspec": {
   "display_name": "mba_data_science",
   "language": "python",
   "name": "mba_data_science"
  },
  "language_info": {
   "codemirror_mode": {
    "name": "ipython",
    "version": 3
   },
   "file_extension": ".py",
   "mimetype": "text/x-python",
   "name": "python",
   "nbconvert_exporter": "python",
   "pygments_lexer": "ipython3",
   "version": "3.11.4"
  }
 },
 "nbformat": 4,
 "nbformat_minor": 2
}
