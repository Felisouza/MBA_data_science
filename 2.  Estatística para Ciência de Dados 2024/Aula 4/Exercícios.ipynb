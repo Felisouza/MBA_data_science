{
 "cells": [
  {
   "cell_type": "markdown",
   "metadata": {},
   "source": [
    "# Libs"
   ]
  },
  {
   "cell_type": "code",
   "execution_count": 6,
   "metadata": {},
   "outputs": [],
   "source": [
    "import pandas as pd\n",
    "import numpy as np\n",
    "import statistics\n",
    "import scipy\n",
    "from scipy.stats import norm"
   ]
  },
  {
   "cell_type": "markdown",
   "metadata": {},
   "source": [
    "# Questão 1\n",
    "1 - O tempo para desenvolver um servidor web em uma empresa é descrito por uma variável aleatória X, medida em dias, com distribuição normal de média 𝜇 = 45 e variância 𝜎 = 400. Calcule a probabilidade de que um novo servidor web será finalizado entre 40 e 45 dias."
   ]
  },
  {
   "cell_type": "code",
   "execution_count": 7,
   "metadata": {},
   "outputs": [
    {
     "name": "stdout",
     "output_type": "stream",
     "text": [
      "A probabilidade de que um novo servidor web será finalizado entre 40 e 45 dias é 0.0987\n"
     ]
    }
   ],
   "source": [
    "# Média e desvio padrão\n",
    "mu = 45\n",
    "sigma = 20\n",
    "variancia = 400"
   ]
  },
  {
   "cell_type": "code",
   "execution_count": 13,
   "metadata": {},
   "outputs": [
    {
     "data": {
      "text/plain": [
       "array([-0.25,  0.  ])"
      ]
     },
     "execution_count": 13,
     "metadata": {},
     "output_type": "execute_result"
    }
   ],
   "source": [
    "X = np.array([40, 45])  # Exemplo com os valores 40 e 45\n",
    "Z = (X - mu) / sigma\n",
    "Z"
   ]
  },
  {
   "cell_type": "code",
   "execution_count": 19,
   "metadata": {},
   "outputs": [
    {
     "data": {
      "text/plain": [
       "(-0.25, 0.0)"
      ]
     },
     "execution_count": 19,
     "metadata": {},
     "output_type": "execute_result"
    }
   ],
   "source": [
    "z1 = (40-mu)/sigma\n",
    "z2 = (45-mu)/sigma\n",
    "\n",
    "z1, z2"
   ]
  },
  {
   "cell_type": "code",
   "execution_count": 21,
   "metadata": {},
   "outputs": [
    {
     "data": {
      "text/plain": [
       "0.0987063256829237"
      ]
     },
     "execution_count": 21,
     "metadata": {},
     "output_type": "execute_result"
    }
   ],
   "source": [
    "probabilidade = norm.cdf(Z[1]) - norm.cdf(Z[0])\n",
    "probabilidade"
   ]
  },
  {
   "cell_type": "markdown",
   "metadata": {},
   "source": [
    "# Questão 2\n",
    "Uma população é descrita pela seguinte distribuição de probabilidades:<br>\n",
    "```P ( X=2) =0 , 2 ; P ( X=4) =0 , 4 ; P ( X=6)=0 , 4 ```\n",
    "<br>\n",
    "Uma amostra com 50 observações é sorteada. Calcule a probabilidade de que a média dessa amostra seja maior do que 5."
   ]
  },
  {
   "cell_type": "code",
   "execution_count": 32,
   "metadata": {},
   "outputs": [
    {
     "data": {
      "text/plain": [
       "4.4"
      ]
     },
     "execution_count": 32,
     "metadata": {},
     "output_type": "execute_result"
    }
   ],
   "source": [
    "E = 2 * 0.2 + 4 * 0.4 + 6 * 0.4\n"
   ]
  },
  {
   "cell_type": "code",
   "execution_count": 35,
   "metadata": {},
   "outputs": [
    {
     "name": "stdout",
     "output_type": "stream",
     "text": [
      "Desvio padrão: 1.4966629547095767\n"
     ]
    }
   ],
   "source": [
    "# Valores e suas probabilidades\n",
    "valores = [2, 4, 6]\n",
    "probabilidades = [0.2, 0.4, 0.4]\n",
    "\n",
    "# Calculando a média (mu)\n",
    "mu = sum(x * p for x, p in zip(valores, probabilidades))\n",
    "\n",
    "# Calculando o desvio padrão (sigma)\n",
    "variancia = sum((x - mu)**2 * p for x, p in zip(valores, probabilidades))\n",
    "sigma = variancia**0.5\n",
    "\n",
    "print(f'Desvio padrão: {sigma}')"
   ]
  },
  {
   "cell_type": "code",
   "execution_count": 51,
   "metadata": {},
   "outputs": [
    {
     "data": {
      "text/plain": [
       "0"
      ]
     },
     "execution_count": 51,
     "metadata": {},
     "output_type": "execute_result"
    }
   ],
   "source": [
    "bernoulli_trial(0.1)"
   ]
  },
  {
   "cell_type": "code",
   "execution_count": 64,
   "metadata": {},
   "outputs": [
    {
     "data": {
      "text/plain": [
       "2.8474098571270354"
      ]
     },
     "execution_count": 64,
     "metadata": {},
     "output_type": "execute_result"
    }
   ],
   "source": [
    "n = 50\n",
    "P = (5-4.4) / (1.49/(np.sqrt(50)))\n",
    "P"
   ]
  },
  {
   "cell_type": "code",
   "execution_count": 77,
   "metadata": {},
   "outputs": [
    {
     "data": {
      "text/plain": [
       "0.5999999999999996"
      ]
     },
     "execution_count": 77,
     "metadata": {},
     "output_type": "execute_result"
    }
   ],
   "source": [
    "5 - 4.4"
   ]
  },
  {
   "cell_type": "code",
   "execution_count": 78,
   "metadata": {},
   "outputs": [
    {
     "data": {
      "text/plain": [
       "0.21071782079359117"
      ]
     },
     "execution_count": 78,
     "metadata": {},
     "output_type": "execute_result"
    }
   ],
   "source": [
    "1.49/7.0710678118654755"
   ]
  },
  {
   "cell_type": "code",
   "execution_count": 79,
   "metadata": {},
   "outputs": [
    {
     "data": {
      "text/plain": [
       "2.8474098571270354"
      ]
     },
     "execution_count": 79,
     "metadata": {},
     "output_type": "execute_result"
    }
   ],
   "source": [
    "(5 - 4.4) / (1.49/7.0710678118654755)"
   ]
  },
  {
   "cell_type": "code",
   "execution_count": null,
   "metadata": {},
   "outputs": [],
   "source": [
    "0.9977"
   ]
  }
 ],
 "metadata": {
  "kernelspec": {
   "display_name": "mba_data_science",
   "language": "python",
   "name": "mba_data_science"
  },
  "language_info": {
   "codemirror_mode": {
    "name": "ipython",
    "version": 3
   },
   "file_extension": ".py",
   "mimetype": "text/x-python",
   "name": "python",
   "nbconvert_exporter": "python",
   "pygments_lexer": "ipython3",
   "version": "3.11.4"
  }
 },
 "nbformat": 4,
 "nbformat_minor": 2
}
