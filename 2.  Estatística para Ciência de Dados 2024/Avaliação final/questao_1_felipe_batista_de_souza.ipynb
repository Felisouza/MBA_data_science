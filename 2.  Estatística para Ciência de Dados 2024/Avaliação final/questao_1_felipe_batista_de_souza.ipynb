{
 "cells": [
  {
   "cell_type": "markdown",
   "metadata": {},
   "source": [
    "# Questão 1\n",
    "Seja a variável aleatória com distribuição de probabilidade: P(X=0)=0,1; P(X=1)=0,3; P(X=2)=0,6. Uma amostra com 100 observações é sorteada. Qual é a probabilidade de que a média amostral ser maior do que 1,5? Simule o problema e verifique se o valor teórico é próximo do simulado. Entregue o notebook com os códigos desenvolvidos.<br>\n",
    "Dica: Veja os exemplos mostrados na aula 4. Considere 1000 simulações."
   ]
  },
  {
   "cell_type": "code",
   "execution_count": 2,
   "metadata": {},
   "outputs": [],
   "source": [
    "import numpy as np\n",
    "import scipy.stats as st\n",
    "import matplotlib.pyplot as plt\n"
   ]
  },
  {
   "cell_type": "code",
   "execution_count": 7,
   "metadata": {},
   "outputs": [
    {
     "name": "stdout",
     "output_type": "stream",
     "text": [
      "Esperança: 1.5 Variância: 0.45\n",
      "Probabilidade: 0.5\n"
     ]
    }
   ],
   "source": [
    "def esperanca(X,P):\n",
    "    E = 0\n",
    "    for i in range(0, len(X)):\n",
    "        E = E + X[i]*P[i]\n",
    "    return E\n",
    "    \n",
    "def variancia(X,P):\n",
    "    E = 0; E2 = 0\n",
    "    for i in range(0, len(X)):\n",
    "        E = E + X[i]*P[i]\n",
    "        E2 = E2 + (X[i]**2)*P[i]\n",
    "    V = E2-E**2\n",
    "    return V\n",
    "    \n",
    "X = [0,1,2]\n",
    "P = [0.1,0.3,0.6]\n",
    "E = esperanca(X,P)\n",
    "V = variancia(X,P)\n",
    "print(\"Esperança:\", E, \"Variância:\", round(V, 3))\n",
    "\n",
    "mu = E\n",
    "sigma = np.sqrt(V)\n",
    "n = 100\n",
    "x = 1.5\n",
    "Z = (x - mu)/(sigma/np.sqrt(n))\n",
    "pt = 1-st.norm.cdf(Z)\n",
    "print('Probabilidade:',pt)"
   ]
  },
  {
   "cell_type": "code",
   "execution_count": 5,
   "metadata": {},
   "outputs": [
    {
     "data": {
      "image/png": "[encoded data removed]",
      "text/plain": [
       "<Figure size 800x600 with 1 Axes>"
      ]
     },
     "metadata": {},
     "output_type": "display_data"
    },
    {
     "name": "stdout",
     "output_type": "stream",
     "text": [
      "Media das amostras: 1.4949700000000001 Media da população: 1.5\n"
     ]
    }
   ],
   "source": [
    "n = 100\n",
    "ns = 1000 #numero de simulacoes\n",
    "vx = [] # armazena a media amostral\n",
    "for s in range(0,ns):\n",
    "    A = np.random.choice(X, n, p=P)\n",
    "    vx.append(np.mean(A))\n",
    "plt.figure(figsize=(8,6))\n",
    "plt.hist(x=vx, bins='auto',color='#0504aa', alpha=0.7, rwidth=0.85, density = True)\n",
    "plt.xlabel(r'$\\bar{X}$', fontsize=20)\n",
    "plt.ylabel(r'$P(\\bar{X})$', fontsize=20)\n",
    "plt.show(True)    \n",
    "print(\"Media das amostras:\", np.mean(vx), \"Media da população:\", E)"
   ]
  },
  {
   "cell_type": "code",
   "execution_count": null,
   "metadata": {},
   "outputs": [],
   "source": []
  }
 ],
 "metadata": {
  "kernelspec": {
   "display_name": "mba_data_science",
   "language": "python",
   "name": "mba_data_science"
  },
  "language_info": {
   "codemirror_mode": {
    "name": "ipython",
    "version": 3
   },
   "file_extension": ".py",
   "mimetype": "text/x-python",
   "name": "python",
   "nbconvert_exporter": "python",
   "pygments_lexer": "ipython3",
   "version": "3.11.4"
  }
 },
 "nbformat": 4,
 "nbformat_minor": 2
}
