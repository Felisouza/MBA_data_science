{
 "cells": [
  {
   "cell_type": "markdown",
   "metadata": {},
   "source": [
    "# Questão 3"
   ]
  },
  {
   "cell_type": "markdown",
   "metadata": {},
   "source": [
    "Uma empresa de market digital acredita que o tempo médio para um cliente responder a uma propaganda é maior do que 20 horas. Para analisar essa hipótese, são selecionados dados de 20 clientes, onde obtém-se os valores: 22,21,19,18,24,17,20,22,23,19,21,25,20,21,22,18,24,20,21,19. Suponha que o tempo de resposta tem distribuição normal com desvio padrão de 5 horas. Teste a seguinte hipótese ao nível de 5%:<br>\n",
    "\n",
    "H_0: média = 20<br>\n",
    "\n",
    "H_1: média > 20<br>\n",
    "\n",
    "Qual o valor de xc?<br>\n",
    "Resolva esse problema usando simulação, conforme feito na aula. Considere Ns=1000 simulações.<br>\n",
    "Ao final, entregue o notebook com os códigos desenvolvidos. Caso seja identificado plágio, a questão seja zerada.<br>"
   ]
  },
  {
   "cell_type": "code",
   "execution_count": 2,
   "metadata": {},
   "outputs": [],
   "source": [
    "import numpy as np\n",
    "import scipy.stats as stats"
   ]
  },
  {
   "cell_type": "code",
   "execution_count": 5,
   "metadata": {},
   "outputs": [
    {
     "name": "stdout",
     "output_type": "stream",
     "text": [
      "Valor crítico xc: 21.77\n",
      "Média amostral 20.80\n",
      "Não rejeitamos a hipótese H0 ao nível de 5%.\n"
     ]
    }
   ],
   "source": [
    "observacoes = np.array([22, 21, 19, 18, 24, 17, 20, 22, 23, 19, 21, 25, 20, 21, 22, 18, 24, 20, 21, 19])\n",
    "\n",
    "# Parâmetros\n",
    "media_h0 = 20\n",
    "desvio_padrao = 5\n",
    "n = len(observacoes)\n",
    "alpha = 0.05\n",
    "Ns = 1000\n",
    "\n",
    "# Calculando a média amostral dos dados observados\n",
    "media_amostral_obs = np.mean(observacoes)\n",
    "\n",
    "# Simulando Ns amostras sob a hipótese nula\n",
    "medias_simuladas = np.random.normal(media_h0, desvio_padrao/np.sqrt(n), Ns)\n",
    "\n",
    "# Calculando o valor crítico xc para o teste unilateral à direita\n",
    "xc = np.percentile(medias_simuladas, 100 * (1 - alpha))\n",
    "\n",
    "print(f\"Valor crítico xc: {xc:.2f}\")\n",
    "print(f\"Média amostral {media_amostral_obs:.2f}\")\n",
    "\n",
    "\n",
    "# Decisão sobre a hipótese nula\n",
    "if media_amostral_obs > xc:\n",
    "    print(f\"Rejeitamos H0\")\n",
    "else:\n",
    "    print(\"Não rejeitamos a hipótese H0 ao nível de 5%.\")\n"
   ]
  },
  {
   "cell_type": "code",
   "execution_count": null,
   "metadata": {},
   "outputs": [],
   "source": []
  }
 ],
 "metadata": {
  "kernelspec": {
   "display_name": "mba_data_science",
   "language": "python",
   "name": "mba_data_science"
  },
  "language_info": {
   "codemirror_mode": {
    "name": "ipython",
    "version": 3
   },
   "file_extension": ".py",
   "mimetype": "text/x-python",
   "name": "python",
   "nbconvert_exporter": "python",
   "pygments_lexer": "ipython3",
   "version": "3.11.4"
  }
 },
 "nbformat": 4,
 "nbformat_minor": 2
}
