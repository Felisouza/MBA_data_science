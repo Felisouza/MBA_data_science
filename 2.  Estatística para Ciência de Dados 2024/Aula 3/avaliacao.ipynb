{
 "cells": [
  {
   "cell_type": "code",
   "execution_count": 1,
   "metadata": {},
   "outputs": [],
   "source": [
    "import numpy as np"
   ]
  },
  {
   "cell_type": "markdown",
   "metadata": {},
   "source": [
    "# Questão 1\n",
    "Uma moeda justa é lançada 10 vezes. Qual é a probabilidade que saiam 6 caras?<br>\n",
    "Questão 1 Resposta<br>\n",
    "a.0,1 <br>\n",
    "b.0,3<br>\n",
    "c.0,9<br>\n",
    "d.0,6<br>\n",
    "**e.0,20**<br>"
   ]
  },
  {
   "cell_type": "code",
   "execution_count": 1,
   "metadata": {},
   "outputs": [
    {
     "name": "stdout",
     "output_type": "stream",
     "text": [
      "A probabilidade de sair 6 caras em 10 lançamentos é: 0.20508\n"
     ]
    }
   ],
   "source": [
    "from math import comb\n",
    "\n",
    "# Número total de lançamentos (tentativas)\n",
    "n = 10\n",
    "# Número desejado de caras (sucessos)\n",
    "k = 6\n",
    "# Probabilidade de sair cara em um lançamento\n",
    "p = 0.5\n",
    "\n",
    "# Calculando a probabilidade binomial\n",
    "probabilidade = comb(n, k) * (p ** k) * ((1 - p) ** (n - k))\n",
    "\n",
    "print(f\"A probabilidade de sair 6 caras em 10 lançamentos é: {probabilidade:.5f}\")\n"
   ]
  },
  {
   "cell_type": "markdown",
   "metadata": {},
   "source": [
    "# Questão 2\n",
    "O departamento de análise de dados de um banco recebe, em média, 5 solicitações por hora. Qual a probabilidade de receber 2 solicitações numa hora selecionada aleatoriamente? (Dica: Use a distribuição de Poisson)<br>\n",
    "Questão 2 Resposta<br>\n",
    "a.0,45<br>\n",
    "b.0,20<br>\n",
    "**c.0,08**<br>\n",
    "d.0,14<br>\n",
    "e.0,01<br>"
   ]
  },
  {
   "cell_type": "code",
   "execution_count": 2,
   "metadata": {},
   "outputs": [
    {
     "name": "stdout",
     "output_type": "stream",
     "text": [
      "A probabilidade de receber exatamente 2 solicitações é: 0.08\n"
     ]
    }
   ],
   "source": [
    "import math\n",
    "\n",
    "# Taxa média de solicitações por hora\n",
    "lambda_ = 5\n",
    "\n",
    "# Número de solicitações que queremos encontrar a probabilidade\n",
    "k = 2\n",
    "\n",
    "# Calculando a probabilidade de k solicitações usando a distribuição de Poisson\n",
    "probabilidade = ((math.e ** -lambda_) * (lambda_ ** k)) / math.factorial(k)\n",
    "\n",
    "print(f\"A probabilidade de receber exatamente 2 solicitações é: {probabilidade:.2f}\")\n"
   ]
  },
  {
   "attachments": {
    "image.png": {
     "image/png": "[encoded data removed]"
    }
   },
   "cell_type": "markdown",
   "metadata": {},
   "source": [
    "# Questão 3\n",
    "\n",
    "O tempo entre falhas em uma linha de produção, representado pela a variável aleatória X, segue o modelo exponencial com  falhas por mês, ou seja,<br>\n",
    "![image.png](attachment:image.png)\n",
    "<br>\n",
    "Calcule E[X] e V(X).<br>\n",
    "Questão 3 Resposta<br>\n",
    "**a.E[X]=1/2 e V(X)=1/4**<br>\n",
    "b.E[X]=1/4, V(X)=2/5<br>\n",
    "c.E[X]=3/2, V(X)=6/5<br>\n",
    "d.E[X]=1/2, V(X)=4/9<br>\n",
    "e.E[X]=0, V(X)=1<br>"
   ]
  },
  {
   "cell_type": "code",
   "execution_count": 4,
   "metadata": {},
   "outputs": [
    {
     "name": "stdout",
     "output_type": "stream",
     "text": [
      "E[X] = 0.5\n",
      "V(X) = 0.25\n"
     ]
    }
   ],
   "source": [
    "# Substitua 'lambda_value' pelo valor de λ fornecido\n",
    "lambda_value = 2 # valor de λ\n",
    "\n",
    "# Calculando o valor esperado E[X]\n",
    "E_X = 1 / lambda_value\n",
    "\n",
    "# Calculando a variância V(X)\n",
    "V_X = 1 / (lambda_value ** 2)\n",
    "\n",
    "print(f\"E[X] = {E_X}\")\n",
    "print(f\"V(X) = {V_X}\")\n"
   ]
  },
  {
   "attachments": {
    "image.png": {
     "image/png": "[encoded data removed]"
    }
   },
   "cell_type": "markdown",
   "metadata": {},
   "source": [
    "# Questão 4\n",
    "A variável aleatória X tem função densidade de probabilidade dada por:<br>\n",
    "![image.png](attachment:image.png)\n",
    "<br>\n",
    "\n",
    "Calcule o valor esperado de X:<br>\n",
    "Questão 4 Resposta<br>\n",
    "a.E[X]=1/2<br>\n",
    "**b.E[X]=3/4**<br>\n",
    "c.E[X]=2<br>\n",
    "d.E[X]=5/4<br>\n",
    "e.E[X]=0"
   ]
  },
  {
   "cell_type": "code",
   "execution_count": 10,
   "metadata": {},
   "outputs": [
    {
     "ename": "ModuleNotFoundError",
     "evalue": "No module named 'sympy'",
     "output_type": "error",
     "traceback": [
      "\u001b[1;31m---------------------------------------------------------------------------\u001b[0m",
      "\u001b[1;31mModuleNotFoundError\u001b[0m                       Traceback (most recent call last)",
      "Cell \u001b[1;32mIn[10], line 1\u001b[0m\n\u001b[1;32m----> 1\u001b[0m \u001b[38;5;28;01mimport\u001b[39;00m \u001b[38;5;21;01msympy\u001b[39;00m \u001b[38;5;28;01mas\u001b[39;00m \u001b[38;5;21;01msp\u001b[39;00m\n\u001b[0;32m      3\u001b[0m \u001b[38;5;66;03m# Definir a variável simbólica x\u001b[39;00m\n\u001b[0;32m      4\u001b[0m x \u001b[38;5;241m=\u001b[39m sp\u001b[38;5;241m.\u001b[39msymbols(\u001b[38;5;124m'\u001b[39m\u001b[38;5;124mx\u001b[39m\u001b[38;5;124m'\u001b[39m)\n",
      "\u001b[1;31mModuleNotFoundError\u001b[0m: No module named 'sympy'"
     ]
    }
   ],
   "source": [
    "import sympy as sp\n",
    "\n",
    "# Definir a variável simbólica x\n",
    "x = sp.symbols('x')\n",
    "\n",
    "# Definir a função densidade de probabilidade f(x)\n",
    "f_x = 3 * x**2\n",
    "\n",
    "# Calcular o valor esperado E[X]\n",
    "E_X = sp.integrate(x * f_x, (x, 0, 1))\n",
    "\n",
    "print(f\"O valor esperado de X é: {E_X}\")\n",
    "\n"
   ]
  },
  {
   "cell_type": "code",
   "execution_count": 7,
   "metadata": {},
   "outputs": [
    {
     "data": {
      "text/plain": [
       "0.75"
      ]
     },
     "execution_count": 7,
     "metadata": {},
     "output_type": "execute_result"
    }
   ],
   "source": [
    "3/4"
   ]
  }
 ],
 "metadata": {
  "kernelspec": {
   "display_name": "mba_data_science",
   "language": "python",
   "name": "mba_data_science"
  },
  "language_info": {
   "codemirror_mode": {
    "name": "ipython",
    "version": 3
   },
   "file_extension": ".py",
   "mimetype": "text/x-python",
   "name": "python",
   "nbconvert_exporter": "python",
   "pygments_lexer": "ipython3",
   "version": "3.11.4"
  }
 },
 "nbformat": 4,
 "nbformat_minor": 2
}
