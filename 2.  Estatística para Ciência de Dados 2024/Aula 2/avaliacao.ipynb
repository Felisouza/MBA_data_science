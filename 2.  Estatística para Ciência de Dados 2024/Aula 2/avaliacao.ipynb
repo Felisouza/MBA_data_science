{
 "cells": [
  {
   "cell_type": "code",
   "execution_count": 8,
   "metadata": {},
   "outputs": [],
   "source": [
    "import numpy as np\n",
    "import math"
   ]
  },
  {
   "cell_type": "markdown",
   "metadata": {},
   "source": [
    "1. Lançando dois dados equilibrados, qual é a probabilidade de obter-se a soma maior do que 7:\n",
    "\n",
    "Questão 1 Resposta\n",
    "<br>\n",
    "a.7/36<br>\n",
    "b.10/36<br>\n",
    "c.12/36<br>\n",
    "d.13/36<br>\n",
    "**e.15/36**<br>"
   ]
  },
  {
   "cell_type": "code",
   "execution_count": 14,
   "metadata": {},
   "outputs": [
    {
     "name": "stdout",
     "output_type": "stream",
     "text": [
      "A probabilidade de obter uma soma maior que 7 é: 0.4166666666666667\n"
     ]
    }
   ],
   "source": [
    "# Calcula a probabilidade de obter uma soma maior que 7 ao lançar dois dados equilibrados\n",
    "\n",
    "# Total de combinações possíveis\n",
    "total_combinacoes = 6 * 6\n",
    "\n",
    "# Combinações favoráveis\n",
    "combinacoes_favoraveis = [(i, j) for i in range(1, 7) for j in range(1, 7) if i + j > 7]\n",
    "\n",
    "# Calcula a probabilidade\n",
    "probabilidade = len(combinacoes_favoraveis) / total_combinacoes\n",
    "\n",
    "print(f\"A probabilidade de obter uma soma maior que 7 é: {probabilidade}\")\n"
   ]
  },
  {
   "cell_type": "code",
   "execution_count": 13,
   "metadata": {},
   "outputs": [
    {
     "name": "stdout",
     "output_type": "stream",
     "text": [
      "0.19444444444444445\n",
      "0.2777777777777778\n",
      "0.3333333333333333\n",
      "0.3611111111111111\n",
      "0.4166666666666667\n"
     ]
    }
   ],
   "source": [
    "for i in [7,10,12,13,15]:\n",
    "    print(i/36)"
   ]
  },
  {
   "cell_type": "markdown",
   "metadata": {},
   "source": [
    "2. Suponha que temos três moedas idênticas no formato, mas sendo que a primeira moeda tem ambos os lados vermelhos, a segunda tem ambos os lados azuis e a terceira tem um lado azul e o outro vermelho. A moedas são misturadas em uma caixa. Se retiramos uma moeda e mostramos um lado vermelho, qual é a probabilidade de que o outro lado seja azul?\n",
    "Questão 2 Resposta<br>\n",
    "**a.1/2**<br>\n",
    "**b.1/3**<br>\n",
    "c.2/5<br>\n",
    "d.4/9<br>\n",
    "e.2/3"
   ]
  },
  {
   "cell_type": "code",
   "execution_count": 15,
   "metadata": {},
   "outputs": [
    {
     "name": "stdout",
     "output_type": "stream",
     "text": [
      "A probabilidade de que o outro lado seja azul é: 0.3333333333333333\n"
     ]
    }
   ],
   "source": [
    "# Probabilidades iniciais\n",
    "P_A1 = 1/3  # Moeda com dois lados vermelhos\n",
    "P_A2 = 1/3  # Moeda com dois lados azuis\n",
    "P_A3 = 1/3  # Moeda com um lado azul e um lado vermelho\n",
    "\n",
    "# Probabilidade de ver um lado vermelho\n",
    "P_Vermelho = P_A1 + (P_A3 * 0.5)\n",
    "\n",
    "# Probabilidade de Azul dado que Vermelho é visto\n",
    "P_Azul_dado_Vermelho = (P_A3 * 0.5) / P_Vermelho\n",
    "\n",
    "print(f\"A probabilidade de que o outro lado seja azul é: {P_Azul_dado_Vermelho}\")\n"
   ]
  },
  {
   "cell_type": "code",
   "execution_count": 18,
   "metadata": {},
   "outputs": [
    {
     "name": "stdout",
     "output_type": "stream",
     "text": [
      "0.5 0.3333333333333333 0.4 0.4444444444444444 0.6666666666666666\n"
     ]
    }
   ],
   "source": [
    "print(\n",
    "    1/2,\n",
    "    1/3,\n",
    "    2/5,\n",
    "    4/9,\n",
    "    2/3\n",
    ")"
   ]
  },
  {
   "cell_type": "markdown",
   "metadata": {},
   "source": [
    "3. Um novo teste para determinar falhas em uma bateria produzida apresenta 95% de chance de indicar um defeito se o defeito realmente ocorreu (verdadeiro positivo). Se a bateria é perfeita, sem defeito, a chance de o teste indicar um defeito é 2% (falso positivo). Se em um lote, a chance de uma bateria com defeito é igual 1/100, calcule a probabilidade de uma bateria testada apresentar realmente defeito dado que o teste foi positivo.\n",
    "Questão 3 Resposta <br>\n",
    "a.0,78<br>\n",
    "b.0,42<br>\n",
    "c.0,55<br>\n",
    "**d.0,32**<br>\n",
    "e.0,12"
   ]
  },
  {
   "cell_type": "code",
   "execution_count": 19,
   "metadata": {},
   "outputs": [
    {
     "name": "stdout",
     "output_type": "stream",
     "text": [
      "A probabilidade de uma bateria realmente ter um defeito dado que o teste foi positivo é: 32.42%\n"
     ]
    }
   ],
   "source": [
    "# Probabilidades dadas\n",
    "prob_defeito = 1/100  # Probabilidade de uma bateria ter defeito\n",
    "prob_verdadeiro_positivo = 0.95  # Probabilidade de indicar defeito se realmente houver defeito\n",
    "prob_falso_positivo = 0.02  # Probabilidade de indicar defeito se não houver defeito\n",
    "\n",
    "# Probabilidade de um teste positivo, P(Teste+)\n",
    "prob_teste_positivo = (prob_defeito * prob_verdadeiro_positivo) + ((1 - prob_defeito) * prob_falso_positivo)\n",
    "\n",
    "# Probabilidade de um defeito dado um teste positivo, P(Defeito|Teste+)\n",
    "prob_defeito_dado_teste_positivo = (prob_defeito * prob_verdadeiro_positivo) / prob_teste_positivo\n",
    "\n",
    "print(f\"A probabilidade de uma bateria realmente ter um defeito dado que o teste foi positivo é: {prob_defeito_dado_teste_positivo:.2%}\")\n"
   ]
  },
  {
   "attachments": {
    "image-2.png": {
     "image/png": "[encoded data removed]"
    },
    "image.png": {
     "image/png": "[encoded data removed]"
    }
   },
   "cell_type": "markdown",
   "metadata": {},
   "source": [
    "4. A variável aleatória X tem função densidade de probabilidade dada por:<br>\n",
    "![image.png](attachment:image.png)\n",
    "\n",
    "Calcule ![image-2.png](attachment:image-2.png)\n",
    "<br>\n",
    "Escolha a alternativa correta:<br>\n",
    "\n",
    "a.4/5<br>\n",
    "**b.8/9**<br>\n",
    "c.1/2<br>\n",
    "d.2/9<br>\n",
    "e.1/3"
   ]
  },
  {
   "attachments": {
    "image.png": {
     "image/png": "[encoded data removed]"
    }
   },
   "cell_type": "markdown",
   "metadata": {},
   "source": [
    "integrate (x^2)/3 from 0 to 2\n",
    "<br>\n",
    "![image.png](attachment:image.png)"
   ]
  },
  {
   "cell_type": "markdown",
   "metadata": {},
   "source": []
  }
 ],
 "metadata": {
  "kernelspec": {
   "display_name": "mba_data_science",
   "language": "python",
   "name": "mba_data_science"
  },
  "language_info": {
   "codemirror_mode": {
    "name": "ipython",
    "version": 3
   },
   "file_extension": ".py",
   "mimetype": "text/x-python",
   "name": "python",
   "nbconvert_exporter": "python",
   "pygments_lexer": "ipython3",
   "version": "3.11.4"
  }
 },
 "nbformat": 4,
 "nbformat_minor": 2
}
