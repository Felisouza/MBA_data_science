{
 "cells": [
  {
   "cell_type": "markdown",
   "metadata": {},
   "source": [
    "# <span style=\"color:blue\"> MBA em Ciência de Dados</span>\n",
    "# <span style=\"color:blue\">Programação para Ciência de Dados</span>\n",
    "\n",
    "## <span style=\"color:blue\">Python Parte I: Avaliação</span>\n",
    "**Material Produzido por Luis Gustavo Nonato**<br>\n",
    "**Cemeai - ICMC/USP São Carlos**"
   ]
  },
  {
   "cell_type": "markdown",
   "metadata": {},
   "source": [
    "<font color='red'> As respostas devem ser fornecidas no Moodle. O notebook é apenas para a implementação dos códigos que fornecerão as respostas</font>"
   ]
  },
  {
   "cell_type": "markdown",
   "metadata": {},
   "source": [
    "### Exercício 1\n",
    "Considere a lista `lt` abaixo. Escreva um código para calcular quantos números contidos na lista são divisíveis por 2 e por 3, simultaneamente. A quantidade de números é:\n",
    "\n",
    "a) 6<br>\n",
    "b) 5<br>\n",
    "c) 4<br>\n",
    "d) 3"
   ]
  },
  {
   "cell_type": "code",
   "execution_count": 1,
   "metadata": {},
   "outputs": [],
   "source": [
    "lt = [99, 128, 185, 19, 215, 493, 104, 78, 248, 299, 278, 141, 467, 212, 465, 130, 320, 35, 148, 351, \n",
    "       176, 366, 373, 256, 314, 354, 188, 259, 443, 81, 447, 313, 368, 197, 185, 328, 275, 269, 153, \n",
    "       495, 155, 312, 87, 141, 413, 129, 106, 44, 245, 479]"
   ]
  },
  {
   "cell_type": "code",
   "execution_count": 13,
   "metadata": {},
   "outputs": [
    {
     "name": "stdout",
     "output_type": "stream",
     "text": [
      "4\n"
     ]
    }
   ],
   "source": [
    "# Solucao \n",
    "count = 0\n",
    "for i in lt:\n",
    "    if i%2 == 0 and i%3==0:\n",
    "        count += 1\n",
    "print(count)"
   ]
  },
  {
   "cell_type": "markdown",
   "metadata": {},
   "source": [
    "### Exercício 2\n",
    "Considere a lista `palavras` abaixo. Escreva um código para contar quantas vezes a letra 'a' e a letra 's' aparecem na lista.\n",
    "\n",
    "a) 'a': 51 vezes; 's': 56 vezes<br>\n",
    "b) 'a': 23 vezes; 's': 13 vezes<br>\n",
    "c) 'a': 26 vezes; 's': 20 vezes<br>\n",
    "d)'a': 44 vezes; 's': 26 vezes"
   ]
  },
  {
   "cell_type": "code",
   "execution_count": 14,
   "metadata": {},
   "outputs": [],
   "source": [
    "palavras = ['adeus','adoravel','amor','caminhos','chuva','coragem','cuidar','equilibrio',\n",
    "            'esperanca','felicidade','gentilezas','liberdade','melancolia','paz','respeito',\n",
    "            'riso','saudade','palimpsesto','perfeito','reciproco','recomeçar',\n",
    "            'resiliente','sentir','silencio','imprescindivel','sublime','tertulias','histerossalpingografico',\n",
    "            'pluridisciplinaridade','multidimensional']\n",
    "\n",
    "# escreva o código para encontrar a solução \n"
   ]
  },
  {
   "cell_type": "code",
   "execution_count": 21,
   "metadata": {},
   "outputs": [
    {
     "name": "stdout",
     "output_type": "stream",
     "text": [
      "Quantidade de letras A = 26\n",
      "Quantidade de letras S = 20\n"
     ]
    }
   ],
   "source": [
    "countA = 0\n",
    "countS = 0\n",
    "for i in palavras:\n",
    "    for j in i:\n",
    "        if j == 's':\n",
    "            countS += 1\n",
    "        elif j == 'a':\n",
    "            countA += 1\n",
    "\n",
    "print(\n",
    "    f\"Quantidade de letras A = {countA}\\n\"\n",
    "    f\"Quantidade de letras S = {countS}\"\n",
    ")"
   ]
  },
  {
   "cell_type": "markdown",
   "metadata": {},
   "source": [
    "---\n",
    "\n",
    "Os exercícios de 3 a 5 abaixo fazem uso da lista de tuplas `dados_deputados` definida abaixo. Cada elemento da lista corresponde a uma tupla com nome de um deputado, estado e partido ao qual o deputado pertence e o valor de reembolso solicitado em um determinado mês do ano, ou seja:\n",
    "\n",
    "```python\n",
    "dados_deputados = [(NOME, ESTADO, PARTIDO, VALOR),\n",
    "                   (NOME, ESTADO, PARTIDO, VALOR),\n",
    "                    ...\n",
    "                   (NOME, ESTADO, PARTIDO, VALOR)]\n",
    "```"
   ]
  },
  {
   "cell_type": "code",
   "execution_count": 22,
   "metadata": {},
   "outputs": [],
   "source": [
    "dados_deputados = [('JOSE STEDILE', 'RS', 'PSB', 106.03), ('BENITO GAMA', 'BA', 'PTB', 46.82),\n",
    "                   ('LUCIO VIEIRA LIMA', 'BA', 'PMDB', 332.0), ('FABIO REIS', 'SE', 'PMDB', 80.0), \n",
    "                   ('LUIZA ERUNDINA', 'SP', 'PSOL', 5.7), ('MAURO MARIANI', 'SC', 'PMDB', 526.68), \n",
    "                   ('MAJOR OLIMPIO', 'SP', 'SD', 38.1), ('BETINHO GOMES', 'PE', 'PSDB', 12000.0), \n",
    "                   ('PAULO ABI-ACKEL', 'MG', 'PSDB', 972.72), ('EZEQUIEL TEIXEIRA', 'RJ', 'PTN', 50.0), \n",
    "                   ('ADELMO CARNEIRO LEÃO', 'MG', 'PT', 709.72), ('HISSA ABRAHAO', 'AM', 'PDT', 1379.58), \n",
    "                   ('PAES LANDIM', 'PI', 'PTB', 1091.66), ('ANDRES SANCHEZ', 'SP', 'PT', 61.4), \n",
    "                   ('JOZI ARAUJO', 'AP', 'PTN', 141.0), ('ROBERTO FREIRE', 'SP', 'PPS', 161.88), \n",
    "                   ('ELIZIANE GAMA', 'MA', 'PPS', 546.73), ('CACA LEAO', 'BA', 'PP', 77.5), \n",
    "                   ('DIMAS FABIANO', 'MG', 'PP', 185.0), ('SILVIO TORRES', 'SP', 'PSDB', 233.0), \n",
    "                   ('RICARDO TEOBALDO ', 'PE', 'PTN', 50.0), ('ZECA DIRCEU', 'PR', 'PT', 499.29), \n",
    "                   ('ROCHA', 'AC', 'PSDB', 152.9), ('LAUDIVIO CARVALHO', 'MG', 'SD', 15.6), \n",
    "                   ('CRISTIANE BRASIL', 'RJ', 'PTB', 240.45), ('FABIO SOUSA', 'GO', 'PSDB', 80.0), \n",
    "                   ('CARLOS MANATO', 'ES', 'SD', 124.9), ('GONZAGA PATRIOTA', 'PE', 'PSB', 6769.0), \n",
    "                   ('LUIZ COUTO', 'PB', 'PT', 868.83), ('EZEQUIEL TEIXEIRA', 'RJ', 'PTN', 710.45), \n",
    "                   ('MAURO LOPES', 'MG', 'PMDB', 92.6), ('MARCIO ALVINO', 'SP', 'PR', 5.2)]"
   ]
  },
  {
   "cell_type": "markdown",
   "metadata": {},
   "source": [
    "### Exercício 3\n",
    "Escreva um código para encontrar o deputado com o maior valor de rembolso solicitado. O deputado e o valor do reembolso são:\n",
    "\n",
    "a) BETINHO GOMES: 12000.0<br>\n",
    "b) HISSA ABRAHAO: 13790.7<br>\n",
    "c) GONZAGA PATRIOTA: 6769.0<br>\n",
    "d) RICARDO TEOBALDO: 16791.5"
   ]
  },
  {
   "cell_type": "code",
   "execution_count": 33,
   "metadata": {},
   "outputs": [
    {
     "data": {
      "text/plain": [
       "('BETINHO GOMES', 'PE', 'PSDB', 12000.0)"
      ]
     },
     "execution_count": 33,
     "metadata": {},
     "output_type": "execute_result"
    }
   ],
   "source": [
    "max(dados_deputados, key=lambda x: x[3])"
   ]
  },
  {
   "cell_type": "markdown",
   "metadata": {},
   "source": [
    "### Exercício 4\n",
    "Escreva um código para encontrar qual estado possui o maior valor total de reembolsos, ou seja, somando os reembolsos de todos os deputados de cada estado, qual estado possui o maior valor de reembolso? Qual é o estado e o valor correspondente?\n",
    "\n",
    "__Dica:__ Crie um dicionário onde as chaves são os estados e os valores são o total de reembolsos do estado correspondente.\n",
    "\n",
    "a) SP, 9546.60<br>\n",
    "b) MA, 19456.87<br>\n",
    "c) MT, 11132.70<br>\n",
    "d) PE, 18819.0"
   ]
  },
  {
   "cell_type": "code",
   "execution_count": 42,
   "metadata": {},
   "outputs": [
    {
     "name": "stdout",
     "output_type": "stream",
     "text": [
      "{'RS': 106.03, 'BA': 456.32, 'SE': 80.0, 'SP': 505.28, 'SC': 526.68, 'PE': 18819.0, 'MG': 1975.6399999999999, 'RJ': 1000.9000000000001, 'AM': 1379.58, 'PI': 1091.66, 'AP': 141.0, 'MA': 546.73, 'PR': 499.29, 'AC': 152.9, 'GO': 80.0, 'ES': 124.9, 'PB': 868.83}\n"
     ]
    }
   ],
   "source": [
    "# escreva o código para encontrar a solução \n",
    "dicionario = {}\n",
    "for i in dados_deputados:\n",
    "    chave = i[1]\n",
    "    valor = i[3]\n",
    "    if chave in dicionario:\n",
    "        dicionario[chave] += valor\n",
    "    else:\n",
    "        dicionario[chave] = valor\n",
    "print(dicionario)"
   ]
  },
  {
   "cell_type": "code",
   "execution_count": 44,
   "metadata": {},
   "outputs": [
    {
     "data": {
      "text/plain": [
       "'PE'"
      ]
     },
     "execution_count": 44,
     "metadata": {},
     "output_type": "execute_result"
    }
   ],
   "source": [
    "max(dicionario, key=lambda i: dicionario[i])"
   ]
  },
  {
   "cell_type": "code",
   "execution_count": 56,
   "metadata": {},
   "outputs": [
    {
     "name": "stdout",
     "output_type": "stream",
     "text": [
      "('BETINHO GOMES', 'PE', 'PSDB', 12000.0)\n",
      "('RICARDO TEOBALDO ', 'PE', 'PTN', 50.0)\n",
      "('GONZAGA PATRIOTA', 'PE', 'PSB', 6769.0)\n"
     ]
    },
    {
     "data": {
      "text/plain": [
       "18819.0"
      ]
     },
     "execution_count": 56,
     "metadata": {},
     "output_type": "execute_result"
    }
   ],
   "source": [
    "lista = []\n",
    "for i in dados_deputados:\n",
    "\n",
    "    if i[1] == 'PE':\n",
    "        print(i)\n",
    "        lista.append(i[3])\n",
    "sum(lista)"
   ]
  },
  {
   "cell_type": "markdown",
   "metadata": {},
   "source": [
    "### Exercício 5\n",
    "Escreva um código para encontrar qual partido requisitou mais reembolsos (não o valor, mas sim o número de vezes solicitadas).\n",
    "Qual o partido e a quantidade de vezes solicitadas?\n",
    "\n",
    "a) PTB, 3 vezes<br>\n",
    "b) PT, 2 vezes<br>\n",
    "c) PSDB, 5 vezes<br>\n",
    "d) PMDB, 5 vezes"
   ]
  },
  {
   "cell_type": "code",
   "execution_count": 86,
   "metadata": {},
   "outputs": [
    {
     "name": "stdout",
     "output_type": "stream",
     "text": [
      "{'PSB': 2, 'PTB': 3, 'PMDB': 4, 'PSOL': 1, 'SD': 3, 'PSDB': 5, 'PTN': 4, 'PT': 4, 'PDT': 1, 'PPS': 2, 'PP': 2, 'PR': 1}\n"
     ]
    }
   ],
   "source": [
    "lista = []\n",
    "for i in dados_deputados:\n",
    "    lista.append(i[2])\n",
    "\n",
    "dicionario = {}\n",
    "\n",
    "for partido in lista:\n",
    "    dicionario[partido] = lista.count(partido)\n",
    "print(dicionario)\n"
   ]
  }
 ],
 "metadata": {
  "kernelspec": {
   "display_name": "mba_data_science",
   "language": "python",
   "name": "mba_data_science"
  },
  "language_info": {
   "codemirror_mode": {
    "name": "ipython",
    "version": 3
   },
   "file_extension": ".py",
   "mimetype": "text/x-python",
   "name": "python",
   "nbconvert_exporter": "python",
   "pygments_lexer": "ipython3",
   "version": "3.11.4"
  },
  "toc": {
   "base_numbering": 1,
   "nav_menu": {},
   "number_sections": true,
   "sideBar": true,
   "skip_h1_title": false,
   "title_cell": "Table of Contents",
   "title_sidebar": "Contents",
   "toc_cell": false,
   "toc_position": {},
   "toc_section_display": true,
   "toc_window_display": false
  }
 },
 "nbformat": 4,
 "nbformat_minor": 2
}
