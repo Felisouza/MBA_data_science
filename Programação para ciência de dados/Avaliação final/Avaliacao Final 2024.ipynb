{
 "cells": [
  {
   "cell_type": "markdown",
   "metadata": {},
   "source": [
    "# <font color=\"blue\"> MBA em Ciência de Dados</font>\n",
    "# <font color=\"blue\">Programação para Ciência de Dados</font>\n",
    "\n",
    "## <font color=\"blue\">Avaliação Final</font>\n",
    "**Material Produzido por Luis Gustavo Nonato**<br>\n",
    "**Cemeai - ICMC/USP São Carlos**"
   ]
  },
  {
   "cell_type": "markdown",
   "metadata": {},
   "source": [
    "<font color='red'>**ATENÇÃO:** Quando terminar o exame, você deve fazer um \"upload\" do notebook no _moodle_</font>."
   ]
  },
  {
   "cell_type": "markdown",
   "metadata": {},
   "source": [
    "Para responder as questões abaixo será necessário fazer uso do arquivo <font style=\"font-family: monaco\">emendas_p2023.csv</font> disponível para download no _moodle_. O arquivo contém dados sobre emendas parlamentares apresentadas em 2023. Dentre as colunas do conjunto de dados, as que serão relevantes para esta avaliação são:\n",
    "- **Tipo de Emenda**: tipo de emenda\n",
    "- **Autor da emenda**: parlamentar autor da emenda\n",
    "- **Localidade do gasto**: localidade para onde o valor foi enviado\n",
    "- **Numero da emenda**: número associado a emenda para controle interno\n",
    "- **Valor empenhado**: valor empenhado mas não necessariamente pago\n",
    "- **Valor pago**: valor realmente pago"
   ]
  },
  {
   "cell_type": "code",
   "execution_count": 1,
   "metadata": {},
   "outputs": [],
   "source": [
    "import numpy as np\n",
    "import pandas as pd"
   ]
  },
  {
   "cell_type": "markdown",
   "metadata": {},
   "source": [
    "### Questão 1 (2 pontos)\n",
    "Considerando os dados contidos no arquivo <font style=\"font-family: monaco\">emendas_p2023.csv</font>:\n"
   ]
  },
  {
   "cell_type": "markdown",
   "metadata": {},
   "source": [
    "#### a) (1 ponto)\n",
    "Carregue o arquivo <font style=\"font-family: monaco\">emendas_p2023.csv</font> e armazena em um DataFrame. Imprima as 10 primeiras linhas do DataFrame e os rótulos das colunas."
   ]
  },
  {
   "cell_type": "code",
   "execution_count": 2,
   "metadata": {},
   "outputs": [
    {
     "data": {
      "text/html": [
       "<div>\n",
       "<style scoped>\n",
       "    .dataframe tbody tr th:only-of-type {\n",
       "        vertical-align: middle;\n",
       "    }\n",
       "\n",
       "    .dataframe tbody tr th {\n",
       "        vertical-align: top;\n",
       "    }\n",
       "\n",
       "    .dataframe thead th {\n",
       "        text-align: right;\n",
       "    }\n",
       "</style>\n",
       "<table border=\"1\" class=\"dataframe\">\n",
       "  <thead>\n",
       "    <tr style=\"text-align: right;\">\n",
       "      <th></th>\n",
       "      <th>Ano</th>\n",
       "      <th>Tipo de Emenda</th>\n",
       "      <th>Autor da emenda</th>\n",
       "      <th>Numero da emenda</th>\n",
       "      <th>Localidade do gasto</th>\n",
       "      <th>Funcao</th>\n",
       "      <th>Subfuncao</th>\n",
       "      <th>Programa Orcamentario</th>\n",
       "      <th>Acao Orcamentaria</th>\n",
       "      <th>Plano Orcamentario</th>\n",
       "      <th>Codigo da emenda</th>\n",
       "      <th>Valor empenhado</th>\n",
       "      <th>Valor pago</th>\n",
       "    </tr>\n",
       "  </thead>\n",
       "  <tbody>\n",
       "    <tr>\n",
       "      <th>0</th>\n",
       "      <td>2023</td>\n",
       "      <td>Emenda Individual - Transferências com Finalid...</td>\n",
       "      <td>ZE VITOR</td>\n",
       "      <td>7</td>\n",
       "      <td>MINAS GERAIS (UF)</td>\n",
       "      <td>Direitos da cidadania</td>\n",
       "      <td>Direitos individuais, coletivos e difusos</td>\n",
       "      <td>5034 - PROTECAO A VIDA, FORTALECIMENTO DA FAMI...</td>\n",
       "      <td>21AR - PROMOCAO E DEFESA DE DIREITOS HUMANOS P...</td>\n",
       "      <td>PROMOCAO E DEFESA DE DIREITOS HUMANOS PARA TOD...</td>\n",
       "      <td>202340770007</td>\n",
       "      <td>2443813.00</td>\n",
       "      <td>0.00</td>\n",
       "    </tr>\n",
       "    <tr>\n",
       "      <th>1</th>\n",
       "      <td>2023</td>\n",
       "      <td>Emenda Individual - Transferências com Finalid...</td>\n",
       "      <td>IRAJA</td>\n",
       "      <td>5</td>\n",
       "      <td>TOCANTINS (UF)</td>\n",
       "      <td>Direitos da cidadania</td>\n",
       "      <td>Direitos individuais, coletivos e difusos</td>\n",
       "      <td>5034 - PROTECAO A VIDA, FORTALECIMENTO DA FAMI...</td>\n",
       "      <td>21AR - PROMOCAO E DEFESA DE DIREITOS HUMANOS P...</td>\n",
       "      <td>PROMOCAO E DEFESA DE DIREITOS HUMANOS PARA TOD...</td>\n",
       "      <td>202340960005</td>\n",
       "      <td>2000000.00</td>\n",
       "      <td>0.00</td>\n",
       "    </tr>\n",
       "    <tr>\n",
       "      <th>2</th>\n",
       "      <td>2023</td>\n",
       "      <td>Emenda Individual - Transferências com Finalid...</td>\n",
       "      <td>MARIA ROSAS</td>\n",
       "      <td>9</td>\n",
       "      <td>SÃO PAULO (UF)</td>\n",
       "      <td>Direitos da cidadania</td>\n",
       "      <td>Direitos individuais, coletivos e difusos</td>\n",
       "      <td>5034 - PROTECAO A VIDA, FORTALECIMENTO DA FAMI...</td>\n",
       "      <td>21AR - PROMOCAO E DEFESA DE DIREITOS HUMANOS P...</td>\n",
       "      <td>PROMOCAO E DEFESA DE DIREITOS HUMANOS PARA TOD...</td>\n",
       "      <td>202341190009</td>\n",
       "      <td>620791.00</td>\n",
       "      <td>0.00</td>\n",
       "    </tr>\n",
       "    <tr>\n",
       "      <th>3</th>\n",
       "      <td>2023</td>\n",
       "      <td>Emenda Individual - Transferências com Finalid...</td>\n",
       "      <td>LUIZ LIMA</td>\n",
       "      <td>9</td>\n",
       "      <td>RIO DE JANEIRO (UF)</td>\n",
       "      <td>Direitos da cidadania</td>\n",
       "      <td>Direitos individuais, coletivos e difusos</td>\n",
       "      <td>5034 - PROTECAO A VIDA, FORTALECIMENTO DA FAMI...</td>\n",
       "      <td>21AR - PROMOCAO E DEFESA DE DIREITOS HUMANOS P...</td>\n",
       "      <td>PROMOCAO E DEFESA DE DIREITOS HUMANOS PARA TOD...</td>\n",
       "      <td>202341580009</td>\n",
       "      <td>300000.00</td>\n",
       "      <td>0.00</td>\n",
       "    </tr>\n",
       "    <tr>\n",
       "      <th>4</th>\n",
       "      <td>2023</td>\n",
       "      <td>Emenda Individual - Transferências com Finalid...</td>\n",
       "      <td>TADEU ALENCAR</td>\n",
       "      <td>4</td>\n",
       "      <td>PERNAMBUCO (UF)</td>\n",
       "      <td>Saúde</td>\n",
       "      <td>Assistência hospitalar e ambulatorial</td>\n",
       "      <td>5018 - ATENCAO ESPECIALIZADA A SAUDE</td>\n",
       "      <td>8535 - ESTRUTURACAO DE UNIDADES DE ATENCAO ESP...</td>\n",
       "      <td>ESTRUTURACAO DE UNIDADES DE ATENCAO ESPECIALIZ...</td>\n",
       "      <td>202337670004</td>\n",
       "      <td>6467.00</td>\n",
       "      <td>6467.00</td>\n",
       "    </tr>\n",
       "    <tr>\n",
       "      <th>5</th>\n",
       "      <td>2023</td>\n",
       "      <td>Emenda Individual - Transferências com Finalid...</td>\n",
       "      <td>JUNIOR MANO</td>\n",
       "      <td>6</td>\n",
       "      <td>CEARÁ (UF)</td>\n",
       "      <td>Saúde</td>\n",
       "      <td>Atenção básica</td>\n",
       "      <td>5019 - ATENCAO PRIMARIA A SAUDE</td>\n",
       "      <td>8581 - ESTRUTURACAO DA REDE DE SERVICOS DE ATE...</td>\n",
       "      <td>ESTRUTURACAO DA REDE DE SERVICOS DE ATENCAO PR...</td>\n",
       "      <td>202340280006</td>\n",
       "      <td>24570.00</td>\n",
       "      <td>24570.00</td>\n",
       "    </tr>\n",
       "    <tr>\n",
       "      <th>6</th>\n",
       "      <td>2023</td>\n",
       "      <td>Emenda de Comissão</td>\n",
       "      <td>COM. DEFESA DO CONSUMIDOR</td>\n",
       "      <td>3</td>\n",
       "      <td>Nacional</td>\n",
       "      <td>Direitos da cidadania</td>\n",
       "      <td>Direitos individuais, coletivos e difusos</td>\n",
       "      <td>5015 - JUSTICA</td>\n",
       "      <td>2334 - PROTECAO E DEFESA DO CONSUMIDOR</td>\n",
       "      <td>PROTECAO E DEFESA DO CONSUMIDOR - DESPESAS DIV...</td>\n",
       "      <td>202350130003</td>\n",
       "      <td>25000.00</td>\n",
       "      <td>0.00</td>\n",
       "    </tr>\n",
       "    <tr>\n",
       "      <th>7</th>\n",
       "      <td>2023</td>\n",
       "      <td>Emenda de Comissão</td>\n",
       "      <td>COM. CONST. JUSTICA E CIDADANIA</td>\n",
       "      <td>4</td>\n",
       "      <td>Nacional</td>\n",
       "      <td>Direitos da cidadania</td>\n",
       "      <td>Direitos individuais, coletivos e difusos</td>\n",
       "      <td>5015 - JUSTICA</td>\n",
       "      <td>2334 - PROTECAO E DEFESA DO CONSUMIDOR</td>\n",
       "      <td>PROTECAO E DEFESA DO CONSUMIDOR - DESPESAS DIV...</td>\n",
       "      <td>202360030004</td>\n",
       "      <td>25000.00</td>\n",
       "      <td>0.00</td>\n",
       "    </tr>\n",
       "    <tr>\n",
       "      <th>8</th>\n",
       "      <td>2023</td>\n",
       "      <td>Emenda Individual - Transferências com Finalid...</td>\n",
       "      <td>HUMBERTO COSTA</td>\n",
       "      <td>11</td>\n",
       "      <td>PERNAMBUCO (UF)</td>\n",
       "      <td>Educação</td>\n",
       "      <td>Ensino profissional</td>\n",
       "      <td>5012 - EDUCACAO PROFISSIONAL E TECNOLOGICA</td>\n",
       "      <td>21B3 - FOMENTO AS ACOES DE ENSINO, PESQUISA, E...</td>\n",
       "      <td>FOMENTO AS ACOES DE ENSINO, PESQUISA, EXTENSAO...</td>\n",
       "      <td>202328850011</td>\n",
       "      <td>37672.90</td>\n",
       "      <td>0.00</td>\n",
       "    </tr>\n",
       "    <tr>\n",
       "      <th>9</th>\n",
       "      <td>2023</td>\n",
       "      <td>Emenda Individual - Transferências com Finalid...</td>\n",
       "      <td>HUMBERTO COSTA</td>\n",
       "      <td>13</td>\n",
       "      <td>PERNAMBUCO (UF)</td>\n",
       "      <td>Educação</td>\n",
       "      <td>Ensino profissional</td>\n",
       "      <td>5012 - EDUCACAO PROFISSIONAL E TECNOLOGICA</td>\n",
       "      <td>20RL - FUNCIONAMENTO DAS INSTITUICOES DA REDE ...</td>\n",
       "      <td>FUNCIONAMENTO DAS INSTITUICOES DA REDE FEDERAL...</td>\n",
       "      <td>202328850013</td>\n",
       "      <td>38997.44</td>\n",
       "      <td>9871.44</td>\n",
       "    </tr>\n",
       "  </tbody>\n",
       "</table>\n",
       "</div>"
      ],
      "text/plain": [
       "    Ano                                     Tipo de Emenda  \\\n",
       "0  2023  Emenda Individual - Transferências com Finalid...   \n",
       "1  2023  Emenda Individual - Transferências com Finalid...   \n",
       "2  2023  Emenda Individual - Transferências com Finalid...   \n",
       "3  2023  Emenda Individual - Transferências com Finalid...   \n",
       "4  2023  Emenda Individual - Transferências com Finalid...   \n",
       "5  2023  Emenda Individual - Transferências com Finalid...   \n",
       "6  2023                                 Emenda de Comissão   \n",
       "7  2023                                 Emenda de Comissão   \n",
       "8  2023  Emenda Individual - Transferências com Finalid...   \n",
       "9  2023  Emenda Individual - Transferências com Finalid...   \n",
       "\n",
       "                   Autor da emenda  Numero da emenda  Localidade do gasto  \\\n",
       "0                         ZE VITOR                 7    MINAS GERAIS (UF)   \n",
       "1                            IRAJA                 5       TOCANTINS (UF)   \n",
       "2                      MARIA ROSAS                 9       SÃO PAULO (UF)   \n",
       "3                        LUIZ LIMA                 9  RIO DE JANEIRO (UF)   \n",
       "4                    TADEU ALENCAR                 4      PERNAMBUCO (UF)   \n",
       "5                      JUNIOR MANO                 6           CEARÁ (UF)   \n",
       "6        COM. DEFESA DO CONSUMIDOR                 3             Nacional   \n",
       "7  COM. CONST. JUSTICA E CIDADANIA                 4             Nacional   \n",
       "8                   HUMBERTO COSTA                11      PERNAMBUCO (UF)   \n",
       "9                   HUMBERTO COSTA                13      PERNAMBUCO (UF)   \n",
       "\n",
       "                  Funcao                                  Subfuncao  \\\n",
       "0  Direitos da cidadania  Direitos individuais, coletivos e difusos   \n",
       "1  Direitos da cidadania  Direitos individuais, coletivos e difusos   \n",
       "2  Direitos da cidadania  Direitos individuais, coletivos e difusos   \n",
       "3  Direitos da cidadania  Direitos individuais, coletivos e difusos   \n",
       "4                  Saúde      Assistência hospitalar e ambulatorial   \n",
       "5                  Saúde                             Atenção básica   \n",
       "6  Direitos da cidadania  Direitos individuais, coletivos e difusos   \n",
       "7  Direitos da cidadania  Direitos individuais, coletivos e difusos   \n",
       "8               Educação                        Ensino profissional   \n",
       "9               Educação                        Ensino profissional   \n",
       "\n",
       "                               Programa Orcamentario  \\\n",
       "0  5034 - PROTECAO A VIDA, FORTALECIMENTO DA FAMI...   \n",
       "1  5034 - PROTECAO A VIDA, FORTALECIMENTO DA FAMI...   \n",
       "2  5034 - PROTECAO A VIDA, FORTALECIMENTO DA FAMI...   \n",
       "3  5034 - PROTECAO A VIDA, FORTALECIMENTO DA FAMI...   \n",
       "4               5018 - ATENCAO ESPECIALIZADA A SAUDE   \n",
       "5                    5019 - ATENCAO PRIMARIA A SAUDE   \n",
       "6                                     5015 - JUSTICA   \n",
       "7                                     5015 - JUSTICA   \n",
       "8         5012 - EDUCACAO PROFISSIONAL E TECNOLOGICA   \n",
       "9         5012 - EDUCACAO PROFISSIONAL E TECNOLOGICA   \n",
       "\n",
       "                                   Acao Orcamentaria  \\\n",
       "0  21AR - PROMOCAO E DEFESA DE DIREITOS HUMANOS P...   \n",
       "1  21AR - PROMOCAO E DEFESA DE DIREITOS HUMANOS P...   \n",
       "2  21AR - PROMOCAO E DEFESA DE DIREITOS HUMANOS P...   \n",
       "3  21AR - PROMOCAO E DEFESA DE DIREITOS HUMANOS P...   \n",
       "4  8535 - ESTRUTURACAO DE UNIDADES DE ATENCAO ESP...   \n",
       "5  8581 - ESTRUTURACAO DA REDE DE SERVICOS DE ATE...   \n",
       "6             2334 - PROTECAO E DEFESA DO CONSUMIDOR   \n",
       "7             2334 - PROTECAO E DEFESA DO CONSUMIDOR   \n",
       "8  21B3 - FOMENTO AS ACOES DE ENSINO, PESQUISA, E...   \n",
       "9  20RL - FUNCIONAMENTO DAS INSTITUICOES DA REDE ...   \n",
       "\n",
       "                                  Plano Orcamentario  Codigo da emenda  \\\n",
       "0  PROMOCAO E DEFESA DE DIREITOS HUMANOS PARA TOD...      202340770007   \n",
       "1  PROMOCAO E DEFESA DE DIREITOS HUMANOS PARA TOD...      202340960005   \n",
       "2  PROMOCAO E DEFESA DE DIREITOS HUMANOS PARA TOD...      202341190009   \n",
       "3  PROMOCAO E DEFESA DE DIREITOS HUMANOS PARA TOD...      202341580009   \n",
       "4  ESTRUTURACAO DE UNIDADES DE ATENCAO ESPECIALIZ...      202337670004   \n",
       "5  ESTRUTURACAO DA REDE DE SERVICOS DE ATENCAO PR...      202340280006   \n",
       "6  PROTECAO E DEFESA DO CONSUMIDOR - DESPESAS DIV...      202350130003   \n",
       "7  PROTECAO E DEFESA DO CONSUMIDOR - DESPESAS DIV...      202360030004   \n",
       "8  FOMENTO AS ACOES DE ENSINO, PESQUISA, EXTENSAO...      202328850011   \n",
       "9  FUNCIONAMENTO DAS INSTITUICOES DA REDE FEDERAL...      202328850013   \n",
       "\n",
       "   Valor empenhado  Valor pago  \n",
       "0       2443813.00        0.00  \n",
       "1       2000000.00        0.00  \n",
       "2        620791.00        0.00  \n",
       "3        300000.00        0.00  \n",
       "4          6467.00     6467.00  \n",
       "5         24570.00    24570.00  \n",
       "6         25000.00        0.00  \n",
       "7         25000.00        0.00  \n",
       "8         37672.90        0.00  \n",
       "9         38997.44     9871.44  "
      ]
     },
     "execution_count": 2,
     "metadata": {},
     "output_type": "execute_result"
    }
   ],
   "source": [
    "#Solucao\n",
    "df = pd.read_csv('emendas_p2023.csv')\n",
    "df.head(10)"
   ]
  },
  {
   "cell_type": "markdown",
   "metadata": {},
   "source": [
    "#### c) (1 ponto)\n",
    "A coluna _'Numero da emenda'_ correponde a um código de controle interno do parlamento, sem utilidade para as analises que serão feitas a seguir, portanto deve ser eliminada. Elimine a coluna _'Numero da emenda'_ do DataFrame."
   ]
  },
  {
   "cell_type": "code",
   "execution_count": 6,
   "metadata": {},
   "outputs": [],
   "source": [
    "#Solucao\n",
    "df.drop(columns='Numero da emenda', inplace=True)"
   ]
  },
  {
   "cell_type": "markdown",
   "metadata": {},
   "source": [
    "### Questão 2 (2 pontos)\n",
    "Verifique quantos tipos de emendas diferentes exitem na base (coluna _'Tipo de Emenda'_) e aponte qual o tipo de emenda que mais aparece na base."
   ]
  },
  {
   "cell_type": "code",
   "execution_count": 31,
   "metadata": {},
   "outputs": [
    {
     "data": {
      "text/plain": [
       "(array(['Emenda Individual - Transferências com Finalidade Definida',\n",
       "        'Emenda de Comissão',\n",
       "        'Emenda Individual - Transferências Especiais',\n",
       "        'Emenda de Bancada'], dtype=object),\n",
       " 4)"
      ]
     },
     "execution_count": 31,
     "metadata": {},
     "output_type": "execute_result"
    }
   ],
   "source": [
    "#Solucao\n",
    "df['Tipo de Emenda'].unique(), len(df['Tipo de Emenda'].unique())"
   ]
  },
  {
   "cell_type": "code",
   "execution_count": 9,
   "metadata": {},
   "outputs": [
    {
     "data": {
      "text/plain": [
       "Tipo de Emenda\n",
       "Emenda Individual - Transferências com Finalidade Definida    4533\n",
       "Emenda Individual - Transferências Especiais                  1095\n",
       "Emenda de Bancada                                              355\n",
       "Emenda de Comissão                                             126\n",
       "Name: count, dtype: int64"
      ]
     },
     "execution_count": 9,
     "metadata": {},
     "output_type": "execute_result"
    }
   ],
   "source": [
    "df['Tipo de Emenda'].value_counts()"
   ]
  },
  {
   "cell_type": "markdown",
   "metadata": {},
   "source": [
    "### Questão 3 (3 pontos)\n",
    "#### a) (1 ponto) \n",
    "\n",
    "Encontre os três parlamentares (coluna _'Autor da emenda'_) que apresentaram o maior número de emendas em 2023."
   ]
  },
  {
   "cell_type": "code",
   "execution_count": 14,
   "metadata": {},
   "outputs": [
    {
     "data": {
      "text/plain": [
       "Autor da emenda\n",
       "FLAVIO BOLSONARO    34\n",
       "MAJOR VITOR HUGO    29\n",
       "FABIO RAMALHO       25\n",
       "Name: Autor da emenda, dtype: int64"
      ]
     },
     "execution_count": 14,
     "metadata": {},
     "output_type": "execute_result"
    }
   ],
   "source": [
    "#Solucao\n",
    "df[df['Ano'] == 2023].groupby('Autor da emenda')['Autor da emenda'].count().sort_values(ascending=False).head(3)"
   ]
  },
  {
   "cell_type": "markdown",
   "metadata": {},
   "source": [
    "#### b) (2 pontos) \n",
    "\n",
    "Para cada um dos três parlamentares encontrados acima, liste qual foi o valor empenhado (coluna _'Valor empenhado'_) para as emendas por eles apresentadas."
   ]
  },
  {
   "cell_type": "code",
   "execution_count": 30,
   "metadata": {},
   "outputs": [
    {
     "data": {
      "text/html": [
       "<div>\n",
       "<style scoped>\n",
       "    .dataframe tbody tr th:only-of-type {\n",
       "        vertical-align: middle;\n",
       "    }\n",
       "\n",
       "    .dataframe tbody tr th {\n",
       "        vertical-align: top;\n",
       "    }\n",
       "\n",
       "    .dataframe thead th {\n",
       "        text-align: right;\n",
       "    }\n",
       "</style>\n",
       "<table border=\"1\" class=\"dataframe\">\n",
       "  <thead>\n",
       "    <tr style=\"text-align: right;\">\n",
       "      <th></th>\n",
       "      <th>Valor empenhado</th>\n",
       "    </tr>\n",
       "    <tr>\n",
       "      <th>Autor da emenda</th>\n",
       "      <th></th>\n",
       "    </tr>\n",
       "  </thead>\n",
       "  <tbody>\n",
       "    <tr>\n",
       "      <th>FLAVIO BOLSONARO</th>\n",
       "      <td>55004741.24</td>\n",
       "    </tr>\n",
       "    <tr>\n",
       "      <th>MAJOR VITOR HUGO</th>\n",
       "      <td>32103146.93</td>\n",
       "    </tr>\n",
       "    <tr>\n",
       "      <th>FABIO RAMALHO</th>\n",
       "      <td>31619126.00</td>\n",
       "    </tr>\n",
       "  </tbody>\n",
       "</table>\n",
       "</div>"
      ],
      "text/plain": [
       "                  Valor empenhado\n",
       "Autor da emenda                  \n",
       "FLAVIO BOLSONARO      55004741.24\n",
       "MAJOR VITOR HUGO      32103146.93\n",
       "FABIO RAMALHO         31619126.00"
      ]
     },
     "execution_count": 30,
     "metadata": {},
     "output_type": "execute_result"
    }
   ],
   "source": [
    "#Solucao\n",
    "mascara = [\n",
    "    'FLAVIO BOLSONARO',\n",
    "    \"MAJOR VITOR HUGO\",\n",
    "    'FABIO RAMALHO' \n",
    "]\n",
    "\n",
    "df[df['Autor da emenda'].isin(mascara)].groupby('Autor da emenda').agg({'Valor empenhado': 'sum'}).sort_values(by='Valor empenhado', ascending=False)\n",
    "# [['Autor da emenda', 'Valor empenhado']].sum()\n"
   ]
  },
  {
   "cell_type": "markdown",
   "metadata": {},
   "source": [
    "### Questão 4 (3 pontos)\n",
    "Encontre as cinco localidades (coluna _'Localidade do gasto'_) que receberam os maiores valores pagos (soma da coluna _'Valor pago'_).\n",
    "\n",
    "**Dica**: Use <font color='blue'>groupby</font> com redução de soma e ordene o resultado em ordem decrescente."
   ]
  },
  {
   "cell_type": "code",
   "execution_count": 22,
   "metadata": {},
   "outputs": [
    {
     "name": "stdout",
     "output_type": "stream",
     "text": [
      "Localidade do gasto\n",
      "SÃO PAULO (UF)            1.888881e+09\n",
      "MINAS GERAIS (UF)         1.590244e+09\n",
      "MÚLTIPLO                  1.223649e+09\n",
      "BAHIA (UF)                1.211544e+09\n",
      "RIO GRANDE DO SUL (UF)    9.745816e+08\n",
      "RIO DE JANEIRO (UF)       9.531672e+08\n",
      "Name: Valor pago, dtype: float64\n"
     ]
    }
   ],
   "source": [
    "local_gasto = df.groupby('Localidade do gasto')['Valor pago'].sum()\n",
    "\n",
    "print(local_gasto.sort_values(ascending=False).iloc[:6])"
   ]
  },
  {
   "cell_type": "code",
   "execution_count": null,
   "metadata": {},
   "outputs": [],
   "source": []
  }
 ],
 "metadata": {
  "kernelspec": {
   "display_name": "mba_data_science",
   "language": "python",
   "name": "mba_data_science"
  },
  "language_info": {
   "codemirror_mode": {
    "name": "ipython",
    "version": 3
   },
   "file_extension": ".py",
   "mimetype": "text/x-python",
   "name": "python",
   "nbconvert_exporter": "python",
   "pygments_lexer": "ipython3",
   "version": "3.11.4"
  },
  "toc": {
   "base_numbering": 1,
   "nav_menu": {},
   "number_sections": true,
   "sideBar": true,
   "skip_h1_title": false,
   "title_cell": "Table of Contents",
   "title_sidebar": "Contents",
   "toc_cell": false,
   "toc_position": {},
   "toc_section_display": true,
   "toc_window_display": false
  }
 },
 "nbformat": 4,
 "nbformat_minor": 2
}
