{
 "cells": [
  {
   "cell_type": "markdown",
   "metadata": {},
   "source": [
    "# <span style=\"color:blue\"> MBA em Ciência de Dados</span>\n",
    "# <span style=\"color:blue\">Programação para Ciência de Dados</span>\n",
    "\n",
    "## <span style=\"color:blue\">Numpy Parte I - Avaliação</span>\n",
    "**Material Produzido por Luis Gustavo Nonato**<br>\n",
    "**Cemeai - ICMC/USP São Carlos**"
   ]
  },
  {
   "cell_type": "markdown",
   "metadata": {},
   "source": [
    "## <font color='red'> As respostas da avaliação devem ser inseridas no moodle </font>"
   ]
  },
  {
   "cell_type": "code",
   "execution_count": 1,
   "metadata": {},
   "outputs": [],
   "source": [
    "import numpy as np"
   ]
  },
  {
   "cell_type": "markdown",
   "metadata": {},
   "source": [
    "### Exercício 1)\n",
    "Considere o array `X` como descrito abaixo:\n",
    "```python\n",
    "[[0  1  2  3  4]\n",
    " [5  6  7  8  9]\n",
    " [10 11 12 13 14]\n",
    " [15 16 17 18 19]]\n",
    "```\n",
    "Qual dos códigos abaixo imprime um array com os elementos 13, 18 e 6 a partir de `X`?\n",
    "\n",
    "a) print(X[1,2,3])<br>\n",
    "b) print(X[[2,3,1],[3,3,1]])</font> <br>\n",
    "c) print(X[:,[2,3,1])<br>\n",
    "d) print([1,2,3],:)"
   ]
  },
  {
   "cell_type": "code",
   "execution_count": 2,
   "metadata": {},
   "outputs": [],
   "source": [
    "X=np.array([[0,  1,  2,  3,  4],\n",
    "            [5,  6,  7,  8,  9],\n",
    "            [10, 11, 12, 13, 14],\n",
    "            [15, 16, 17, 18, 19]])"
   ]
  },
  {
   "cell_type": "code",
   "execution_count": 3,
   "metadata": {},
   "outputs": [
    {
     "ename": "IndexError",
     "evalue": "too many indices for array: array is 2-dimensional, but 3 were indexed",
     "output_type": "error",
     "traceback": [
      "\u001b[1;31m---------------------------------------------------------------------------\u001b[0m",
      "\u001b[1;31mIndexError\u001b[0m                                Traceback (most recent call last)",
      "Cell \u001b[1;32mIn[3], line 1\u001b[0m\n\u001b[1;32m----> 1\u001b[0m \u001b[43mX\u001b[49m\u001b[43m[\u001b[49m\u001b[38;5;241;43m1\u001b[39;49m\u001b[43m,\u001b[49m\u001b[38;5;241;43m2\u001b[39;49m\u001b[43m,\u001b[49m\u001b[38;5;241;43m3\u001b[39;49m\u001b[43m]\u001b[49m\n",
      "\u001b[1;31mIndexError\u001b[0m: too many indices for array: array is 2-dimensional, but 3 were indexed"
     ]
    }
   ],
   "source": [
    "X[1,2,3]"
   ]
  },
  {
   "cell_type": "code",
   "execution_count": 4,
   "metadata": {},
   "outputs": [
    {
     "data": {
      "text/plain": [
       "array([13, 18,  6])"
      ]
     },
     "execution_count": 4,
     "metadata": {},
     "output_type": "execute_result"
    }
   ],
   "source": [
    "X[[2,3,1], [3,3,1]]"
   ]
  },
  {
   "cell_type": "code",
   "execution_count": 5,
   "metadata": {},
   "outputs": [
    {
     "data": {
      "text/plain": [
       "array([[ 2,  3,  1],\n",
       "       [ 7,  8,  6],\n",
       "       [12, 13, 11],\n",
       "       [17, 18, 16]])"
      ]
     },
     "execution_count": 5,
     "metadata": {},
     "output_type": "execute_result"
    }
   ],
   "source": [
    "X[:, [2,3,1]]"
   ]
  },
  {
   "cell_type": "code",
   "execution_count": null,
   "metadata": {},
   "outputs": [],
   "source": []
  },
  {
   "cell_type": "markdown",
   "metadata": {},
   "source": [
    "### Exercício 2)\n",
    "Considerando o array `X` do exercício 1). Qual alternativa descreve corretamente a construção de `Y` no código abaixo?\n",
    "```python\n",
    "Y = X[1:3,[0,2,3]]\n",
    "```\n",
    "\n",
    "a) `Y` é uma _cópia_ dos elementos das linhas 1 e 2 e colunas 0,2 e 3 de `X`<br>\n",
    "b) `Y` é uma _view_ dos elementos das linhas 1 e 2 e colunas 0,2 e 3 de `X`<br>\n",
    "c) `Y` é uma _cópia_ dos elementos das linhas 1,2 e 3 e colunas 0,2 e 3 de `X`<br>\n",
    "d) `Y` é uma _view_ dos elementos das linhas 1,2 e 3 e colunas 0,2 e 3 de `X`"
   ]
  },
  {
   "cell_type": "code",
   "execution_count": 6,
   "metadata": {},
   "outputs": [
    {
     "data": {
      "text/plain": [
       "array([[ 5,  7,  8],\n",
       "       [10, 12, 13]])"
      ]
     },
     "execution_count": 6,
     "metadata": {},
     "output_type": "execute_result"
    }
   ],
   "source": [
    "Y = X[1:3,[0,2,3]]\n",
    "Y\n"
   ]
  },
  {
   "cell_type": "code",
   "execution_count": 8,
   "metadata": {},
   "outputs": [
    {
     "data": {
      "text/plain": [
       "array([[ 0,  1,  2,  3,  4],\n",
       "       [ 5,  6,  7,  8,  9],\n",
       "       [10, 11, 12, 13, 14],\n",
       "       [15, 16, 17, 18, 19]])"
      ]
     },
     "execution_count": 8,
     "metadata": {},
     "output_type": "execute_result"
    }
   ],
   "source": [
    "X"
   ]
  },
  {
   "cell_type": "markdown",
   "metadata": {},
   "source": [
    "### Exercício 3)\n",
    "Considere o numpy array `A` abaixo:\n",
    "```python\n",
    "[[ 2 19 16  1 12  7]\n",
    " [ 5 19 18 17  9  3]\n",
    " [16  4 18 11  4  2]\n",
    " [ 6  2 18 14 15 15]\n",
    " [ 4  8  1 14 19 13]]\n",
    "```\n",
    "Qual das alternativas abaixo corresponde ao número de dimensões (ndim), a forma (shape) e ao número de elementos (size) no array, respectivamente?\n",
    "\n",
    "a) (5, 6) 2 2<br>\n",
    "b) 2 (5, 6) 2<br>\n",
    "c) (5, 6) 2 30<br>\n",
    "d) 2 (5, 6) 30"
   ]
  },
  {
   "cell_type": "code",
   "execution_count": 17,
   "metadata": {},
   "outputs": [],
   "source": [
    "A = np.array([[ 2, 19, 16,  1, 12,  7],\n",
    " [ 5, 19, 18, 17,  9,  3],\n",
    " [16,  4, 18, 11,  4,  2],\n",
    " [ 6,  2, 18, 14, 15, 15],\n",
    " [ 4,  8,  1, 14, 19, 13]])\n"
   ]
  },
  {
   "cell_type": "code",
   "execution_count": 11,
   "metadata": {},
   "outputs": [
    {
     "data": {
      "text/plain": [
       "2"
      ]
     },
     "execution_count": 11,
     "metadata": {},
     "output_type": "execute_result"
    }
   ],
   "source": [
    "A.ndim"
   ]
  },
  {
   "cell_type": "code",
   "execution_count": 12,
   "metadata": {},
   "outputs": [
    {
     "data": {
      "text/plain": [
       "(5, 6)"
      ]
     },
     "execution_count": 12,
     "metadata": {},
     "output_type": "execute_result"
    }
   ],
   "source": [
    "A.shape"
   ]
  },
  {
   "cell_type": "code",
   "execution_count": 13,
   "metadata": {},
   "outputs": [
    {
     "data": {
      "text/plain": [
       "30"
      ]
     },
     "execution_count": 13,
     "metadata": {},
     "output_type": "execute_result"
    }
   ],
   "source": [
    "A.size"
   ]
  },
  {
   "cell_type": "markdown",
   "metadata": {},
   "source": [
    "### Exercício 4) \n",
    "Considere o numpy array `A` do exercício 3). Escreva um código para criar uma máscara para selecionar todos os elementos pares do array e armazena-los em um novo array *unidimensional* `B`. O resultado do comando\n",
    "```python\n",
    "print(B.size)\n",
    "```\n",
    "será:<br>\n",
    "a) 13<br>\n",
    "b) 15<br>\n",
    "c) 16<br>\n",
    "d) 17"
   ]
  },
  {
   "cell_type": "code",
   "execution_count": 15,
   "metadata": {},
   "outputs": [
    {
     "data": {
      "text/plain": [
       "16"
      ]
     },
     "execution_count": 15,
     "metadata": {},
     "output_type": "execute_result"
    }
   ],
   "source": [
    "#Solucao\n",
    "mask = (A%2==0)\n",
    "B = A[mask]\n",
    "B.size"
   ]
  },
  {
   "cell_type": "markdown",
   "metadata": {},
   "source": [
    "### Exercício 5)\n",
    "Ainda considerando o array `A` do exercício 3), que alternativa melhor explica o que o código abaixo está realizando:\n",
    "```python\n",
    "l_mask = [(i%2!=0) and (j%2!=0) for i in range(A.shape[0]) for j in range(A.shape[1])]\n",
    "mask = np.array(l_mask).reshape(A.shape)\n",
    "A[mask] = -1\n",
    "```\n",
    "a) insere elementos -1 nas linhas e colunas ímpares de `A` utilizando uma máscara booleana<br>\n",
    "b) insere elementos -1 nas posições com índices ímpares (linha e coluna) de `A` utilizando uma máscara booleana<br>\n",
    "c) insere elementos -1 nas linhas com índices ímpares e colunas pares de `A` utilizando uma máscara booleana<br>\n",
    "d) troca os elementos impares da matriz por -1 utilizando uma máscara booleana"
   ]
  },
  {
   "cell_type": "code",
   "execution_count": 18,
   "metadata": {},
   "outputs": [
    {
     "data": {
      "text/plain": [
       "array([[ 2, 19, 16,  1, 12,  7],\n",
       "       [ 5, 19, 18, 17,  9,  3],\n",
       "       [16,  4, 18, 11,  4,  2],\n",
       "       [ 6,  2, 18, 14, 15, 15],\n",
       "       [ 4,  8,  1, 14, 19, 13]])"
      ]
     },
     "execution_count": 18,
     "metadata": {},
     "output_type": "execute_result"
    }
   ],
   "source": [
    "A"
   ]
  },
  {
   "cell_type": "code",
   "execution_count": 16,
   "metadata": {},
   "outputs": [
    {
     "name": "stdout",
     "output_type": "stream",
     "text": [
      "[[ 2 19 16  1 12  7]\n",
      " [ 5 -1 18 -1  9 -1]\n",
      " [16  4 18 11  4  2]\n",
      " [ 6 -1 18 -1 15 -1]\n",
      " [ 4  8  1 14 19 13]]\n"
     ]
    }
   ],
   "source": [
    "l_mask = [(i%2!=0) and (j%2!=0) for i in range(A.shape[0]) for j in range(A.shape[1])]\n",
    "mask = np.array(l_mask).reshape(A.shape)\n",
    "A[mask] = -1\n",
    "print(A)"
   ]
  },
  {
   "cell_type": "code",
   "execution_count": null,
   "metadata": {},
   "outputs": [],
   "source": []
  }
 ],
 "metadata": {
  "kernelspec": {
   "display_name": "mba_data_science",
   "language": "python",
   "name": "mba_data_science"
  },
  "language_info": {
   "codemirror_mode": {
    "name": "ipython",
    "version": 3
   },
   "file_extension": ".py",
   "mimetype": "text/x-python",
   "name": "python",
   "nbconvert_exporter": "python",
   "pygments_lexer": "ipython3",
   "version": "3.11.4"
  }
 },
 "nbformat": 4,
 "nbformat_minor": 2
}
