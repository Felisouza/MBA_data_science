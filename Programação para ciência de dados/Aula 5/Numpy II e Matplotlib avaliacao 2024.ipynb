{
 "cells": [
  {
   "cell_type": "markdown",
   "metadata": {},
   "source": [
    "# <font color=\"blue\"> MBA em Ciência de Dados</font>\n",
    "# <font color=\"blue\">Programação para Ciência de Dados</font>\n",
    "\n",
    "## <font color=\"blue\">Numpy Parte II e Matplotlib - Avaliação</font>\n",
    "**Material Produzido por Luis Gustavo Nonato**<br>\n",
    "**Cemeai - ICMC/USP São Carlos**\n",
    "---"
   ]
  },
  {
   "cell_type": "code",
   "execution_count": 1,
   "metadata": {},
   "outputs": [],
   "source": [
    "import numpy as np\n",
    "import matplotlib.pyplot as plt"
   ]
  },
  {
   "cell_type": "markdown",
   "metadata": {},
   "source": [
    "### Exercício 1)\n",
    "Qual dos códigos abaixo utiliza corretamente broadcasting para somar o vetor `v` em cada **linha** da matriz `A`, sendo que `v` e `A` são definidos como:\n",
    "```python\n",
    "A = np.zeros((4,4))\n",
    "v = np.arange(4)\n",
    "```\n",
    "\n",
    "a) A[:]+v[:]<br>\n",
    "b) A + v<br>\n",
    "c) A = A + v.reshape(1,-1)<br>\n",
    "**d) Todas as alternativas estão corretas**"
   ]
  },
  {
   "cell_type": "code",
   "execution_count": 9,
   "metadata": {},
   "outputs": [
    {
     "name": "stdout",
     "output_type": "stream",
     "text": [
      "[[0. 0. 0. 0.]\n",
      " [0. 0. 0. 0.]\n",
      " [0. 0. 0. 0.]\n",
      " [0. 0. 0. 0.]]\n",
      "[0 1 2 3]\n"
     ]
    }
   ],
   "source": [
    "A = np.zeros((4,4))\n",
    "v = np.arange(4)\n",
    "print(A)\n",
    "print(v)"
   ]
  },
  {
   "cell_type": "code",
   "execution_count": 3,
   "metadata": {},
   "outputs": [
    {
     "data": {
      "text/plain": [
       "array([[0., 1., 2., 3.],\n",
       "       [0., 1., 2., 3.],\n",
       "       [0., 1., 2., 3.],\n",
       "       [0., 1., 2., 3.]])"
      ]
     },
     "execution_count": 3,
     "metadata": {},
     "output_type": "execute_result"
    }
   ],
   "source": [
    "A[:]+v[:]"
   ]
  },
  {
   "cell_type": "code",
   "execution_count": 5,
   "metadata": {},
   "outputs": [
    {
     "data": {
      "text/plain": [
       "array([[0., 1., 2., 3.],\n",
       "       [0., 1., 2., 3.],\n",
       "       [0., 1., 2., 3.],\n",
       "       [0., 1., 2., 3.]])"
      ]
     },
     "execution_count": 5,
     "metadata": {},
     "output_type": "execute_result"
    }
   ],
   "source": [
    "A+v"
   ]
  },
  {
   "cell_type": "code",
   "execution_count": 10,
   "metadata": {},
   "outputs": [
    {
     "data": {
      "text/plain": [
       "array([[0., 1., 2., 3.],\n",
       "       [0., 1., 2., 3.],\n",
       "       [0., 1., 2., 3.],\n",
       "       [0., 1., 2., 3.]])"
      ]
     },
     "execution_count": 10,
     "metadata": {},
     "output_type": "execute_result"
    }
   ],
   "source": [
    "X = A + v.reshape(1,-1)\n",
    "X"
   ]
  },
  {
   "cell_type": "markdown",
   "metadata": {},
   "source": [
    "### Exercício 2)\n",
    "Qual das alternativas explica corretamente como o array `W` está sendo calculado no código abaixo?\n",
    "```python\n",
    "u = np.random.randint(0,30,7).reshape(1,7)\n",
    "v = np.random.randint(0,30,10).reshape(10,1)\n",
    "\n",
    "W = v * u\n",
    "```\n",
    "\n",
    "a) `W` é um array unidimensional com 10 elementos, resultado da multiplicação dos arrays `u` e `v`, onde `u` é complementado com zeros durante o broadcasting.<br>\n",
    "b) `W` é um array unidimensional com 7 elementos, resultado da multiplicação dos arrays `u` e `v`, onde os três útlimos elementos de `v` são descartados no broadcasting.<br>\n",
    "c) `W` é um array bidimensional com 7 linhas e 10 colunas, resultado da multiplicação do array `v` com broadcasting em 7 linhas e o array `u` com broadcasting em 10 linhas.<br>\n",
    "**d) `W` é um array bidimensional com 10 linhas e 7 colunas, resultado da multiplicação do array `v` com broadcasting em 7 colunas e do array `u` com broadcasting em 10 linhas.<br>**"
   ]
  },
  {
   "cell_type": "code",
   "execution_count": 12,
   "metadata": {},
   "outputs": [
    {
     "name": "stdout",
     "output_type": "stream",
     "text": [
      "[[ 38  58   8  22  40  32  20]\n",
      " [418 638  88 242 440 352 220]\n",
      " [171 261  36  99 180 144  90]\n",
      " [ 57  87  12  33  60  48  30]\n",
      " [342 522  72 198 360 288 180]\n",
      " [152 232  32  88 160 128  80]\n",
      " [ 57  87  12  33  60  48  30]\n",
      " [266 406  56 154 280 224 140]\n",
      " [228 348  48 132 240 192 120]\n",
      " [ 38  58   8  22  40  32  20]]\n"
     ]
    }
   ],
   "source": [
    "u = np.random.randint(0,30,7).reshape(1,7)\n",
    "v = np.random.randint(0,30,10).reshape(10,1)\n",
    "\n",
    "W = v * u\n",
    "print(W)"
   ]
  },
  {
   "cell_type": "code",
   "execution_count": 13,
   "metadata": {},
   "outputs": [
    {
     "name": "stdout",
     "output_type": "stream",
     "text": [
      "[[19 29  4 11 20 16 10]]\n",
      "[[ 2]\n",
      " [22]\n",
      " [ 9]\n",
      " [ 3]\n",
      " [18]\n",
      " [ 8]\n",
      " [ 3]\n",
      " [14]\n",
      " [12]\n",
      " [ 2]]\n"
     ]
    }
   ],
   "source": [
    "print(u)\n",
    "print(v)"
   ]
  },
  {
   "cell_type": "markdown",
   "metadata": {},
   "source": [
    "### Exercício 3)\n",
    "Considere a matriz abaixo. Utilizando redução por soma, encontre o **índice da linha** que possui a maior soma dos elementos.\n",
    "```python\n",
    "A = np.array([[5, 2, 3, 6, 1, 5, 7, 7, 8, 9], [8, 8, 3, 5, 0, 1, 4, 8, 3, 7], \n",
    "              [8, 0, 0, 4, 2, 0, 2, 6, 0, 3], [5, 0, 0, 4, 4, 3, 5, 8, 0, 0], \n",
    "              [2, 4, 2, 5, 3, 4, 9, 8, 0, 0], [6, 7, 4, 8, 5, 1, 3, 5, 4, 1], \n",
    "              [6, 8, 0, 5, 2, 9, 3, 6, 1, 6], [5, 5, 2, 9, 0, 5, 5, 8, 2, 4], \n",
    "              [8, 8, 1, 8, 4, 1, 8, 9, 7, 6], [5, 6, 0, 9, 0, 4, 9, 0, 2, 0]])\n",
    "```\n",
    "a) linha 6<br>\n",
    "b) linha 0<br>\n",
    "**c) linha 8<br>**\n",
    "d) linha 9"
   ]
  },
  {
   "cell_type": "code",
   "execution_count": 14,
   "metadata": {},
   "outputs": [],
   "source": [
    "A = np.array([[5, 2, 3, 6, 1, 5, 7, 7, 8, 9], [8, 8, 3, 5, 0, 1, 4, 8, 3, 7], \n",
    "              [8, 0, 0, 4, 2, 0, 2, 6, 0, 3], [5, 0, 0, 4, 4, 3, 5, 8, 0, 0], \n",
    "              [2, 4, 2, 5, 3, 4, 9, 8, 0, 0], [6, 7, 4, 8, 5, 1, 3, 5, 4, 1], \n",
    "              [6, 8, 0, 5, 2, 9, 3, 6, 1, 6], [5, 5, 2, 9, 0, 5, 5, 8, 2, 4], \n",
    "              [8, 8, 1, 8, 4, 1, 8, 9, 7, 6], [5, 6, 0, 9, 0, 4, 9, 0, 2, 0]])\n"
   ]
  },
  {
   "cell_type": "code",
   "execution_count": 25,
   "metadata": {},
   "outputs": [
    {
     "name": "stdout",
     "output_type": "stream",
     "text": [
      "Posição do maior valor dentre todos na matriz:  8\n"
     ]
    }
   ],
   "source": [
    "print('Posição do maior valor dentre todos na matriz: ', np.argmax(np.sum(A, axis=1))) # lineariza a matriz com A.ravel() e \n",
    "                                                                      # retorna a posicão do maior valor"
   ]
  },
  {
   "cell_type": "code",
   "execution_count": 30,
   "metadata": {},
   "outputs": [
    {
     "name": "stdout",
     "output_type": "stream",
     "text": [
      "Soma dos valores das linhas:  [53 47 25 29 37 44 46 45 60 35]\n"
     ]
    }
   ],
   "source": [
    "print('Soma dos valores das linhas: ', np.sum(A,axis=1)) # soma os valores das linhas"
   ]
  },
  {
   "cell_type": "code",
   "execution_count": 18,
   "metadata": {},
   "outputs": [
    {
     "data": {
      "text/plain": [
       "60"
      ]
     },
     "execution_count": 18,
     "metadata": {},
     "output_type": "execute_result"
    }
   ],
   "source": [
    "sum([8, 8, 1, 8, 4, 1, 8, 9, 7, 6])"
   ]
  },
  {
   "cell_type": "code",
   "execution_count": 19,
   "metadata": {},
   "outputs": [
    {
     "data": {
      "text/plain": [
       "array([8, 8, 1, 8, 4, 1, 8, 9, 7, 6])"
      ]
     },
     "execution_count": 19,
     "metadata": {},
     "output_type": "execute_result"
    }
   ],
   "source": [
    "A[8]"
   ]
  },
  {
   "cell_type": "markdown",
   "metadata": {},
   "source": [
    "### Exercício 4) \n",
    "Considerando a matriz `A` do exercício anterior, qual o valor da **maior média** calculada sobre os valores das colunas?\n",
    "\n",
    "a) 5.8<br>\n",
    "**b) 6.5<br>**\n",
    "c) 3.5<br>\n",
    "d) 9.1"
   ]
  },
  {
   "cell_type": "code",
   "execution_count": 33,
   "metadata": {},
   "outputs": [
    {
     "name": "stdout",
     "output_type": "stream",
     "text": [
      "Média dos valores das linhas:  6.5\n"
     ]
    }
   ],
   "source": [
    "# Solucao\n",
    "print('Média dos valores das linhas: ', np.max( np.average(A, axis=0)))"
   ]
  },
  {
   "cell_type": "markdown",
   "metadata": {},
   "source": [
    "### Exercício 5)\n",
    "Suponha que a variável `A` no código abaixo é um array bidimensional com $n$ linhas e $m$ colunas. O que o código está realizando?\n",
    "```python\n",
    "Aargs = np.argsort(A)\n",
    "A[np.arange(A.shape[0]),Aargs[:,-1]] = -1\n",
    "```\n",
    "a) Substituindo o maior valor de cada coluna por -1<br>\n",
    "**b) Substituindo o maior valor de cada linha por -1<br>**\n",
    "c) Substituindo o menor valor de cada linha por -1<br>\n",
    "d) Substituindo o menor valor de cada coluna por -1"
   ]
  },
  {
   "cell_type": "code",
   "execution_count": 37,
   "metadata": {},
   "outputs": [
    {
     "name": "stdout",
     "output_type": "stream",
     "text": [
      "[[ 5  3 26  3  6  0 23]\n",
      " [14  7  4 18  1 14 14]\n",
      " [24  7 16 27  6 17 24]\n",
      " [ 4 23 25 25  4 13  5]\n",
      " [27  2 23  6  5 12 22]]\n"
     ]
    }
   ],
   "source": [
    "A = np.random.randint(0,30,size=(5,7))\n",
    "\n",
    "Aargs = np.argsort(A)\n",
    "print(A)\n",
    "# print(Aargs)\n",
    "\n",
    "A[np.arange(A.shape[0]),Aargs[:,-1]] = -1\n",
    "# print(A)"
   ]
  },
  {
   "cell_type": "code",
   "execution_count": 50,
   "metadata": {},
   "outputs": [
    {
     "name": "stdout",
     "output_type": "stream",
     "text": [
      "[[ 1 27  0 16 20  1 11]\n",
      " [ 5 15  1 24 26 12 21]\n",
      " [14 28 13 22 14  0 13]\n",
      " [11 14 20 19 25  9  4]\n",
      " [12  3  3 19 16  8 29]]\n"
     ]
    }
   ],
   "source": [
    "A = np.random.randint(0,30,size=(5,7))\n",
    "print(A)"
   ]
  },
  {
   "cell_type": "code",
   "execution_count": 51,
   "metadata": {},
   "outputs": [
    {
     "name": "stdout",
     "output_type": "stream",
     "text": [
      "[[2 0 5 6 3 4 1]\n",
      " [2 0 5 1 6 3 4]\n",
      " [5 2 6 0 4 3 1]\n",
      " [6 5 0 1 3 2 4]\n",
      " [1 2 5 0 4 3 6]]\n"
     ]
    }
   ],
   "source": [
    "Aargs = np.argsort(A)\n",
    "print(Aargs)"
   ]
  },
  {
   "cell_type": "code",
   "execution_count": 52,
   "metadata": {},
   "outputs": [],
   "source": [
    "A[np.arange(A.shape[0]),Aargs[:,-1]] = -1\n"
   ]
  },
  {
   "cell_type": "code",
   "execution_count": 53,
   "metadata": {},
   "outputs": [
    {
     "name": "stdout",
     "output_type": "stream",
     "text": [
      "[[ 1 -1  0 16 20  1 11]\n",
      " [ 5 15  1 24 -1 12 21]\n",
      " [14 -1 13 22 14  0 13]\n",
      " [11 14 20 19 -1  9  4]\n",
      " [12  3  3 19 16  8 -1]]\n"
     ]
    }
   ],
   "source": [
    "print(A)\n"
   ]
  },
  {
   "cell_type": "code",
   "execution_count": 49,
   "metadata": {},
   "outputs": [
    {
     "data": {
      "text/plain": [
       "array([0, 1, 2, 3, 4])"
      ]
     },
     "execution_count": 49,
     "metadata": {},
     "output_type": "execute_result"
    }
   ],
   "source": [
    "np.arange(A.shape[0])"
   ]
  }
 ],
 "metadata": {
  "kernelspec": {
   "display_name": "mba_data_science",
   "language": "python",
   "name": "mba_data_science"
  },
  "language_info": {
   "codemirror_mode": {
    "name": "ipython",
    "version": 3
   },
   "file_extension": ".py",
   "mimetype": "text/x-python",
   "name": "python",
   "nbconvert_exporter": "python",
   "pygments_lexer": "ipython3",
   "version": "3.11.4"
  }
 },
 "nbformat": 4,
 "nbformat_minor": 2
}
