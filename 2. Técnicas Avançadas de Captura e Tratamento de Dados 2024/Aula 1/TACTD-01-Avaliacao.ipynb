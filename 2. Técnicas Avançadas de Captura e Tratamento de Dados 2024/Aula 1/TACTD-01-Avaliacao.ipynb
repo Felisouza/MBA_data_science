{
 "cells": [
  {
   "cell_type": "markdown",
   "metadata": {},
   "source": [
    "# MBA em Ciência de Dados\n",
    "# Técnicas Avançadas de Captura e Tratamento de Dados\n",
    "\n",
    "### <span style=\"color:darkred\">Módulo I - Dados Estruturados, Não Estruturados e problemas típicos em bases de dados</span>\n",
    "\n",
    "\n",
    "## <span style=\"color:darkred\">Avaliação com soluções</span>\n",
    "\n",
    "Moacir Antonelli Ponti\n",
    "\n",
    "CeMEAI - ICMC/USP São Carlos\n",
    "\n",
    "\n",
    "---"
   ]
  },
  {
   "cell_type": "code",
   "execution_count": 1,
   "metadata": {},
   "outputs": [],
   "source": [
    "# carregando a biblioteca necessária\n",
    "import pandas as pd\n",
    "import matplotlib.pyplot as plt\n",
    "import numpy as np"
   ]
  },
  {
   "cell_type": "markdown",
   "metadata": {},
   "source": [
    "\n",
    "Considere a base de dados disponível em `TACTD-01-Base-Avaliacao2024.csv`. Essa base contém dados de profissionais da área da saúde incluindo: nome, sexo, ano de nascimento, religião, país e cidade de residência, país de origem, idade ao final de 2022, salário e ano do primeiro emprego."
   ]
  },
  {
   "cell_type": "markdown",
   "metadata": {},
   "source": [
    "### Questão 1)\n",
    "\n",
    "Considere a base de dados disponível em `TACTD-01-Base-Avaliacao2024.csv`. \n",
    "\n",
    "Analise o atributo 'Sex' buscando por dados incorretos, considerando que são corretos apenas 'F' e 'M' (em letras maiúsculas). Corrija os que forem possível corrigir. \n",
    "\n",
    "Após o tratamento, analise as linhas com dados faltantes no atributo 'Sex', i.e. linhas que não sejam 'F' nem 'M', inspecionando em conjunto com as colunas: Year of Birth, Country of Residency e City (analisar apenas essas colunas). \n",
    "\n",
    "Com essa análise podemos dizer que os dados faltantes:\n",
    " \n",
    " (a) São do tipo completamente aleatório (MCAR)<br>\n",
    " **(b) São do tipo (condicionalmente) aleatório (MAR)**<br>\n",
    " (c) São do tipo não aleatório<br>\n",
    " (d) Não há dados faltantes<br>\n",
    " (e) Metade são do tipo (condicionalmente) aleatório (MAR) e a outra metade completamente aleatório (MCAR)<br>"
   ]
  },
  {
   "cell_type": "code",
   "execution_count": 1,
   "metadata": {},
   "outputs": [
    {
     "data": {
      "text/html": [
       "<div>\n",
       "<style scoped>\n",
       "    .dataframe tbody tr th:only-of-type {\n",
       "        vertical-align: middle;\n",
       "    }\n",
       "\n",
       "    .dataframe tbody tr th {\n",
       "        vertical-align: top;\n",
       "    }\n",
       "\n",
       "    .dataframe thead th {\n",
       "        text-align: right;\n",
       "    }\n",
       "</style>\n",
       "<table border=\"1\" class=\"dataframe\">\n",
       "  <thead>\n",
       "    <tr style=\"text-align: right;\">\n",
       "      <th></th>\n",
       "      <th>Name</th>\n",
       "      <th>Sex</th>\n",
       "      <th>Year of Birth</th>\n",
       "      <th>Country of Residency</th>\n",
       "      <th>Religion</th>\n",
       "      <th>City</th>\n",
       "      <th>Country of Origin</th>\n",
       "      <th>Continent of Origin</th>\n",
       "      <th>Profession</th>\n",
       "      <th>Current Age 2022</th>\n",
       "      <th>Salary</th>\n",
       "      <th>Year first employment</th>\n",
       "    </tr>\n",
       "  </thead>\n",
       "  <tbody>\n",
       "    <tr>\n",
       "      <th>0</th>\n",
       "      <td>Vinicius Vitorio</td>\n",
       "      <td>M</td>\n",
       "      <td>1940</td>\n",
       "      <td>Brazil</td>\n",
       "      <td>Christian</td>\n",
       "      <td>São Paulo</td>\n",
       "      <td>Australia</td>\n",
       "      <td>Oceania</td>\n",
       "      <td>Physical therapist</td>\n",
       "      <td>82</td>\n",
       "      <td>53626.3</td>\n",
       "      <td>1986.0</td>\n",
       "    </tr>\n",
       "    <tr>\n",
       "      <th>1</th>\n",
       "      <td>Ariel Almada</td>\n",
       "      <td>F</td>\n",
       "      <td>1950</td>\n",
       "      <td>Portugal</td>\n",
       "      <td>Christian</td>\n",
       "      <td>Lisbon</td>\n",
       "      <td>Australia</td>\n",
       "      <td>Oceania</td>\n",
       "      <td>Carpenter</td>\n",
       "      <td>72</td>\n",
       "      <td>47150.7</td>\n",
       "      <td>1976.0</td>\n",
       "    </tr>\n",
       "    <tr>\n",
       "      <th>2</th>\n",
       "      <td>Maia Banks</td>\n",
       "      <td>masc</td>\n",
       "      <td>1957</td>\n",
       "      <td>USA</td>\n",
       "      <td>Christian</td>\n",
       "      <td>New York</td>\n",
       "      <td>Australia</td>\n",
       "      <td>Oceania</td>\n",
       "      <td>Dental hygienist</td>\n",
       "      <td>65</td>\n",
       "      <td>50703.7</td>\n",
       "      <td>1990.0</td>\n",
       "    </tr>\n",
       "    <tr>\n",
       "      <th>3</th>\n",
       "      <td>Diego Colque</td>\n",
       "      <td>M</td>\n",
       "      <td>1958</td>\n",
       "      <td>Peru</td>\n",
       "      <td>Christian</td>\n",
       "      <td>Arequipa</td>\n",
       "      <td>Australia</td>\n",
       "      <td>Oceania</td>\n",
       "      <td>Event planner</td>\n",
       "      <td>64</td>\n",
       "      <td>56111.3</td>\n",
       "      <td>1987.0</td>\n",
       "    </tr>\n",
       "    <tr>\n",
       "      <th>4</th>\n",
       "      <td>Vivian Arnold</td>\n",
       "      <td>F</td>\n",
       "      <td>1960</td>\n",
       "      <td>Brazil</td>\n",
       "      <td>Christian</td>\n",
       "      <td>São Paulo</td>\n",
       "      <td>Australia</td>\n",
       "      <td>Oceania</td>\n",
       "      <td>Musician</td>\n",
       "      <td>62</td>\n",
       "      <td>48790.6</td>\n",
       "      <td>1995.0</td>\n",
       "    </tr>\n",
       "  </tbody>\n",
       "</table>\n",
       "</div>"
      ],
      "text/plain": [
       "               Name   Sex  Year of Birth Country of Residency   Religion  \\\n",
       "0  Vinicius Vitorio     M           1940               Brazil  Christian   \n",
       "1      Ariel Almada     F           1950             Portugal  Christian   \n",
       "2        Maia Banks  masc           1957                  USA  Christian   \n",
       "3      Diego Colque     M           1958                 Peru  Christian   \n",
       "4     Vivian Arnold     F           1960               Brazil  Christian   \n",
       "\n",
       "        City Country of Origin Continent of Origin          Profession  \\\n",
       "0  São Paulo         Australia             Oceania  Physical therapist   \n",
       "1     Lisbon         Australia             Oceania           Carpenter   \n",
       "2   New York         Australia             Oceania    Dental hygienist   \n",
       "3   Arequipa         Australia             Oceania       Event planner   \n",
       "4  São Paulo         Australia             Oceania            Musician   \n",
       "\n",
       "   Current Age 2022   Salary  Year first employment  \n",
       "0                82  53626.3                 1986.0  \n",
       "1                72  47150.7                 1976.0  \n",
       "2                65  50703.7                 1990.0  \n",
       "3                64  56111.3                 1987.0  \n",
       "4                62  48790.6                 1995.0  "
      ]
     },
     "execution_count": 1,
     "metadata": {},
     "output_type": "execute_result"
    }
   ],
   "source": [
    "import pandas as pd\n",
    "df = pd.read_csv(r'./dados/TACTD-01-Base-Avaliacao2024.csv')\n",
    "df.head()"
   ]
  },
  {
   "cell_type": "code",
   "execution_count": 2,
   "metadata": {},
   "outputs": [
    {
     "data": {
      "text/plain": [
       "array(['M', 'F', 'masc', 'f', 'm', nan], dtype=object)"
      ]
     },
     "execution_count": 2,
     "metadata": {},
     "output_type": "execute_result"
    }
   ],
   "source": [
    "df['Sex'].unique()"
   ]
  },
  {
   "cell_type": "code",
   "execution_count": 3,
   "metadata": {},
   "outputs": [],
   "source": [
    "sexo = {'F': 'F', 'f': 'F', 'm': 'M', 'M': 'M', 'masc': 'M'}\n",
    "\n",
    "# Aplicando a função lambda para mapear os valores\n",
    "df['Sex'] = df['Sex'].apply(lambda x: sexo.get(x, x))\n"
   ]
  },
  {
   "cell_type": "code",
   "execution_count": 4,
   "metadata": {},
   "outputs": [
    {
     "data": {
      "text/plain": [
       "array(['M', 'F', nan], dtype=object)"
      ]
     },
     "execution_count": 4,
     "metadata": {},
     "output_type": "execute_result"
    }
   ],
   "source": [
    "df['Sex'].unique()"
   ]
  },
  {
   "cell_type": "code",
   "execution_count": 6,
   "metadata": {},
   "outputs": [
    {
     "data": {
      "text/html": [
       "<div>\n",
       "<style scoped>\n",
       "    .dataframe tbody tr th:only-of-type {\n",
       "        vertical-align: middle;\n",
       "    }\n",
       "\n",
       "    .dataframe tbody tr th {\n",
       "        vertical-align: top;\n",
       "    }\n",
       "\n",
       "    .dataframe thead th {\n",
       "        text-align: right;\n",
       "    }\n",
       "</style>\n",
       "<table border=\"1\" class=\"dataframe\">\n",
       "  <thead>\n",
       "    <tr style=\"text-align: right;\">\n",
       "      <th></th>\n",
       "      <th>Name</th>\n",
       "      <th>Sex</th>\n",
       "      <th>Year of Birth</th>\n",
       "      <th>Country of Residency</th>\n",
       "      <th>Religion</th>\n",
       "      <th>City</th>\n",
       "      <th>Country of Origin</th>\n",
       "      <th>Continent of Origin</th>\n",
       "      <th>Profession</th>\n",
       "      <th>Current Age 2022</th>\n",
       "      <th>Salary</th>\n",
       "      <th>Year first employment</th>\n",
       "    </tr>\n",
       "  </thead>\n",
       "  <tbody>\n",
       "    <tr>\n",
       "      <th>90</th>\n",
       "      <td>Rupert Rollison</td>\n",
       "      <td>NaN</td>\n",
       "      <td>1986</td>\n",
       "      <td>England</td>\n",
       "      <td>Christian</td>\n",
       "      <td>Birmingham</td>\n",
       "      <td>New Zealand</td>\n",
       "      <td>Oceania</td>\n",
       "      <td>Nurse</td>\n",
       "      <td>36</td>\n",
       "      <td>49492.3</td>\n",
       "      <td>2016.0</td>\n",
       "    </tr>\n",
       "    <tr>\n",
       "      <th>91</th>\n",
       "      <td>Jameson Mendoza</td>\n",
       "      <td>NaN</td>\n",
       "      <td>1987</td>\n",
       "      <td>Mexico</td>\n",
       "      <td>Christian</td>\n",
       "      <td>Acapulco</td>\n",
       "      <td>Australia</td>\n",
       "      <td>Oceania</td>\n",
       "      <td>Construction worker</td>\n",
       "      <td>35</td>\n",
       "      <td>46206.1</td>\n",
       "      <td>NaN</td>\n",
       "    </tr>\n",
       "    <tr>\n",
       "      <th>92</th>\n",
       "      <td>Mayra Mcnish</td>\n",
       "      <td>NaN</td>\n",
       "      <td>1987</td>\n",
       "      <td>England</td>\n",
       "      <td>Christian</td>\n",
       "      <td>Birmingham</td>\n",
       "      <td>Australia</td>\n",
       "      <td>Oceania</td>\n",
       "      <td>Server</td>\n",
       "      <td>35</td>\n",
       "      <td>46957.2</td>\n",
       "      <td>2018.0</td>\n",
       "    </tr>\n",
       "    <tr>\n",
       "      <th>93</th>\n",
       "      <td>Willene Wolfgram</td>\n",
       "      <td>NaN</td>\n",
       "      <td>1987</td>\n",
       "      <td>USA</td>\n",
       "      <td>Christian</td>\n",
       "      <td>New Orleans</td>\n",
       "      <td>Australia</td>\n",
       "      <td>Oceania</td>\n",
       "      <td>Police Officer</td>\n",
       "      <td>35</td>\n",
       "      <td>49000.0</td>\n",
       "      <td>2017.0</td>\n",
       "    </tr>\n",
       "    <tr>\n",
       "      <th>94</th>\n",
       "      <td>Izaiah Duarte</td>\n",
       "      <td>NaN</td>\n",
       "      <td>1987</td>\n",
       "      <td>Brazil</td>\n",
       "      <td>Christian</td>\n",
       "      <td>São Paulo</td>\n",
       "      <td>Australia</td>\n",
       "      <td>Oceania</td>\n",
       "      <td>Nurse</td>\n",
       "      <td>35</td>\n",
       "      <td>49562.1</td>\n",
       "      <td>2016.0</td>\n",
       "    </tr>\n",
       "    <tr>\n",
       "      <th>95</th>\n",
       "      <td>Susie Hodges</td>\n",
       "      <td>NaN</td>\n",
       "      <td>1987</td>\n",
       "      <td>Brazil</td>\n",
       "      <td>Christian</td>\n",
       "      <td>São Paulo</td>\n",
       "      <td>Australia</td>\n",
       "      <td>Oceania</td>\n",
       "      <td>Chef</td>\n",
       "      <td>35</td>\n",
       "      <td>50418.9</td>\n",
       "      <td>NaN</td>\n",
       "    </tr>\n",
       "    <tr>\n",
       "      <th>96</th>\n",
       "      <td>David Pittman</td>\n",
       "      <td>NaN</td>\n",
       "      <td>1987</td>\n",
       "      <td>Australia</td>\n",
       "      <td>Christian</td>\n",
       "      <td>Brisbane</td>\n",
       "      <td>Australia</td>\n",
       "      <td>Oceania</td>\n",
       "      <td>Actor</td>\n",
       "      <td>35</td>\n",
       "      <td>52518.4</td>\n",
       "      <td>2020.0</td>\n",
       "    </tr>\n",
       "    <tr>\n",
       "      <th>97</th>\n",
       "      <td>Jim Foster</td>\n",
       "      <td>NaN</td>\n",
       "      <td>1988</td>\n",
       "      <td>USA</td>\n",
       "      <td>Christian</td>\n",
       "      <td>New Orleans</td>\n",
       "      <td>Australia</td>\n",
       "      <td>Oceania</td>\n",
       "      <td>Dentist</td>\n",
       "      <td>34</td>\n",
       "      <td>50469.8</td>\n",
       "      <td>NaN</td>\n",
       "    </tr>\n",
       "    <tr>\n",
       "      <th>98</th>\n",
       "      <td>Herta Hatley</td>\n",
       "      <td>NaN</td>\n",
       "      <td>1988</td>\n",
       "      <td>USA</td>\n",
       "      <td>Christian</td>\n",
       "      <td>New Orleans</td>\n",
       "      <td>Australia</td>\n",
       "      <td>Oceania</td>\n",
       "      <td>Human resources manager</td>\n",
       "      <td>34</td>\n",
       "      <td>54388.5</td>\n",
       "      <td>2011.0</td>\n",
       "    </tr>\n",
       "    <tr>\n",
       "      <th>99</th>\n",
       "      <td>Bernard Summers</td>\n",
       "      <td>NaN</td>\n",
       "      <td>1989</td>\n",
       "      <td>USA</td>\n",
       "      <td>Christian</td>\n",
       "      <td>New Orleans</td>\n",
       "      <td>Australia</td>\n",
       "      <td>Oceania</td>\n",
       "      <td>Sales representative</td>\n",
       "      <td>33</td>\n",
       "      <td>53984.6</td>\n",
       "      <td>2019.0</td>\n",
       "    </tr>\n",
       "    <tr>\n",
       "      <th>100</th>\n",
       "      <td>Marcos Magro</td>\n",
       "      <td>NaN</td>\n",
       "      <td>1989</td>\n",
       "      <td>Brazil</td>\n",
       "      <td>Christian</td>\n",
       "      <td>São Paulo</td>\n",
       "      <td>Australia</td>\n",
       "      <td>Oceania</td>\n",
       "      <td>Web developer</td>\n",
       "      <td>33</td>\n",
       "      <td>56335.9</td>\n",
       "      <td>2016.0</td>\n",
       "    </tr>\n",
       "    <tr>\n",
       "      <th>101</th>\n",
       "      <td>Marshall Vargas</td>\n",
       "      <td>NaN</td>\n",
       "      <td>1990</td>\n",
       "      <td>Scotland</td>\n",
       "      <td>Buddhist</td>\n",
       "      <td>Edinburgh</td>\n",
       "      <td>Australia</td>\n",
       "      <td>Oceania</td>\n",
       "      <td>Emergency medical technician</td>\n",
       "      <td>32</td>\n",
       "      <td>53696.1</td>\n",
       "      <td>NaN</td>\n",
       "    </tr>\n",
       "    <tr>\n",
       "      <th>102</th>\n",
       "      <td>Ricardo Alvarez</td>\n",
       "      <td>NaN</td>\n",
       "      <td>1990</td>\n",
       "      <td>United Arab Emirates</td>\n",
       "      <td>Christian</td>\n",
       "      <td>Dubai</td>\n",
       "      <td>Australia</td>\n",
       "      <td>Oceania</td>\n",
       "      <td>Actor</td>\n",
       "      <td>32</td>\n",
       "      <td>63000.0</td>\n",
       "      <td>2013.0</td>\n",
       "    </tr>\n",
       "    <tr>\n",
       "      <th>103</th>\n",
       "      <td>Zachary Yates</td>\n",
       "      <td>NaN</td>\n",
       "      <td>2010</td>\n",
       "      <td>England</td>\n",
       "      <td>Ac%#</td>\n",
       "      <td>_Dh</td>\n",
       "      <td>Australia</td>\n",
       "      <td>Oceania</td>\n",
       "      <td>Bartender</td>\n",
       "      <td>12</td>\n",
       "      <td>47817.8</td>\n",
       "      <td>2018.0</td>\n",
       "    </tr>\n",
       "  </tbody>\n",
       "</table>\n",
       "</div>"
      ],
      "text/plain": [
       "                 Name  Sex  Year of Birth  Country of Residency   Religion  \\\n",
       "90    Rupert Rollison  NaN           1986               England  Christian   \n",
       "91    Jameson Mendoza  NaN           1987                Mexico  Christian   \n",
       "92       Mayra Mcnish  NaN           1987               England  Christian   \n",
       "93   Willene Wolfgram  NaN           1987                   USA  Christian   \n",
       "94      Izaiah Duarte  NaN           1987                Brazil  Christian   \n",
       "95       Susie Hodges  NaN           1987                Brazil  Christian   \n",
       "96      David Pittman  NaN           1987             Australia  Christian   \n",
       "97         Jim Foster  NaN           1988                   USA  Christian   \n",
       "98       Herta Hatley  NaN           1988                   USA  Christian   \n",
       "99    Bernard Summers  NaN           1989                   USA  Christian   \n",
       "100      Marcos Magro  NaN           1989                Brazil  Christian   \n",
       "101   Marshall Vargas  NaN           1990              Scotland   Buddhist   \n",
       "102   Ricardo Alvarez  NaN           1990  United Arab Emirates  Christian   \n",
       "103     Zachary Yates  NaN           2010               England       Ac%#   \n",
       "\n",
       "            City Country of Origin Continent of Origin  \\\n",
       "90    Birmingham       New Zealand             Oceania   \n",
       "91      Acapulco         Australia             Oceania   \n",
       "92    Birmingham         Australia             Oceania   \n",
       "93   New Orleans         Australia             Oceania   \n",
       "94     São Paulo         Australia             Oceania   \n",
       "95     São Paulo         Australia             Oceania   \n",
       "96      Brisbane         Australia             Oceania   \n",
       "97   New Orleans         Australia             Oceania   \n",
       "98   New Orleans         Australia             Oceania   \n",
       "99   New Orleans         Australia             Oceania   \n",
       "100    São Paulo         Australia             Oceania   \n",
       "101    Edinburgh         Australia             Oceania   \n",
       "102        Dubai         Australia             Oceania   \n",
       "103          _Dh         Australia             Oceania   \n",
       "\n",
       "                       Profession  Current Age 2022   Salary  \\\n",
       "90                          Nurse                36  49492.3   \n",
       "91            Construction worker                35  46206.1   \n",
       "92                         Server                35  46957.2   \n",
       "93                 Police Officer                35  49000.0   \n",
       "94                          Nurse                35  49562.1   \n",
       "95                           Chef                35  50418.9   \n",
       "96                          Actor                35  52518.4   \n",
       "97                        Dentist                34  50469.8   \n",
       "98        Human resources manager                34  54388.5   \n",
       "99           Sales representative                33  53984.6   \n",
       "100                 Web developer                33  56335.9   \n",
       "101  Emergency medical technician                32  53696.1   \n",
       "102                         Actor                32  63000.0   \n",
       "103                     Bartender                12  47817.8   \n",
       "\n",
       "     Year first employment  \n",
       "90                  2016.0  \n",
       "91                     NaN  \n",
       "92                  2018.0  \n",
       "93                  2017.0  \n",
       "94                  2016.0  \n",
       "95                     NaN  \n",
       "96                  2020.0  \n",
       "97                     NaN  \n",
       "98                  2011.0  \n",
       "99                  2019.0  \n",
       "100                 2016.0  \n",
       "101                    NaN  \n",
       "102                 2013.0  \n",
       "103                 2018.0  "
      ]
     },
     "execution_count": 6,
     "metadata": {},
     "output_type": "execute_result"
    }
   ],
   "source": [
    "df[df['Sex'].isna()]"
   ]
  },
  {
   "cell_type": "code",
   "execution_count": 10,
   "metadata": {},
   "outputs": [
    {
     "data": {
      "text/plain": [
       "Year of Birth\n",
       "1984    10\n",
       "1981     7\n",
       "1982     6\n",
       "1987     6\n",
       "1985     5\n",
       "1962     5\n",
       "1976     5\n",
       "1980     4\n",
       "1967     4\n",
       "1973     4\n",
       "1979     3\n",
       "1978     3\n",
       "1977     3\n",
       "1974     3\n",
       "1970     3\n",
       "1983     3\n",
       "1966     3\n",
       "1965     3\n",
       "1969     3\n",
       "1972     2\n",
       "1968     2\n",
       "1986     2\n",
       "1988     2\n",
       "1989     2\n",
       "1990     2\n",
       "1940     1\n",
       "1950     1\n",
       "1971     1\n",
       "1963     1\n",
       "1961     1\n",
       "1960     1\n",
       "1958     1\n",
       "1957     1\n",
       "2010     1\n",
       "Name: count, dtype: int64"
      ]
     },
     "execution_count": 10,
     "metadata": {},
     "output_type": "execute_result"
    }
   ],
   "source": [
    "df['Year of Birth'].value_counts()"
   ]
  },
  {
   "cell_type": "code",
   "execution_count": 17,
   "metadata": {},
   "outputs": [],
   "source": [
    "# Função para separar anos em décadas\n",
    "def decade(year):\n",
    "    return str(year // 10 * 10) + \"s\"\n",
    "\n",
    "# Aplicando a função para criar uma nova coluna com décadas\n",
    "df['Decade of Birth'] = df['Year of Birth'].apply(decade)"
   ]
  },
  {
   "cell_type": "code",
   "execution_count": 20,
   "metadata": {},
   "outputs": [
    {
     "data": {
      "text/plain": [
       "Decade of Birth\n",
       "1980s    45.192308\n",
       "1970s    25.961538\n",
       "1960s    22.115385\n",
       "1950s     2.884615\n",
       "1990s     1.923077\n",
       "1940s     0.961538\n",
       "2010s     0.961538\n",
       "Name: proportion, dtype: float64"
      ]
     },
     "execution_count": 20,
     "metadata": {},
     "output_type": "execute_result"
    }
   ],
   "source": [
    "df['Decade of Birth'].value_counts(normalize=True)*100"
   ]
  },
  {
   "cell_type": "code",
   "execution_count": 21,
   "metadata": {},
   "outputs": [
    {
     "data": {
      "text/plain": [
       "Country of Residency\n",
       "USA                     23.076923\n",
       "Brazil                  13.461538\n",
       "Spain                   10.576923\n",
       "Scotland                 7.692308\n",
       "Canada                   7.692308\n",
       "Mexico                   6.730769\n",
       "Australia                6.730769\n",
       "England                  6.730769\n",
       "Portugal                 5.769231\n",
       "Peru                     5.769231\n",
       "United Arab Emirates     4.807692\n",
       "Wales                    0.961538\n",
       "Name: proportion, dtype: float64"
      ]
     },
     "execution_count": 21,
     "metadata": {},
     "output_type": "execute_result"
    }
   ],
   "source": [
    "df['Country of Residency'].value_counts(normalize=True)*100"
   ]
  },
  {
   "cell_type": "code",
   "execution_count": 22,
   "metadata": {},
   "outputs": [
    {
     "data": {
      "text/plain": [
       "City\n",
       "New Orleans    18.269231\n",
       "São Paulo      12.500000\n",
       "Valencia       10.576923\n",
       "Edinburgh       8.653846\n",
       "Acapulco        6.730769\n",
       "Vancouver       6.730769\n",
       "Brisbane        6.730769\n",
       "Lisbon          5.769231\n",
       "Arequipa        5.769231\n",
       "Birmingham      5.769231\n",
       "New York        4.807692\n",
       "Dubai           4.807692\n",
       "Rivendell       0.961538\n",
       "Santo André     0.961538\n",
       "_Dh             0.961538\n",
       "Name: proportion, dtype: float64"
      ]
     },
     "execution_count": 22,
     "metadata": {},
     "output_type": "execute_result"
    }
   ],
   "source": [
    "df['City'].value_counts(normalize=True)*100"
   ]
  },
  {
   "cell_type": "markdown",
   "metadata": {},
   "source": [
    "---\n",
    "\n",
    "### Questão 2)\n",
    "\n",
    "Considere a base de dados disponível em `TACTD-01-Base-Avaliacao2024` (carregue a versão original), e analise os dados no atributo 'Religion' por dados incorretos. \n",
    "1. Corrija os que for possível corrigir\n",
    "2. Marque como nulos/nans os incorretos que não foram passíveis de correção.\n",
    "\n",
    "Após os processos acima, podemos afirmar que houve:\n",
    "\n",
    " (a) 8 dados faltantes ao final, sendo 6 inicialmente errôneos, 2 dados corrigidos<br>\n",
    " (b) 8 dados faltantes ao final, sendo 4 inicialmente errôneos, nenhum corrigido<br>\n",
    " (c) 8 dados faltantes ao final, sendo 4 inicialmente errôneos, 3 dados corrigidos<br>\n",
    "**(d) 9 dados faltantes ao final, sendo 6 inicialmente errôneos, 2 dados corrigidos**<br>\n",
    "(e) 9 dados faltantes ao final, sendo 4 inicialmente errôneos, nenhum corrigido\n",
    " "
   ]
  },
  {
   "cell_type": "code",
   "execution_count": 23,
   "metadata": {},
   "outputs": [],
   "source": [
    "df = pd.read_csv(\"./dados/TACTD-01-Base-Avaliacao2024.csv\")"
   ]
  },
  {
   "cell_type": "code",
   "execution_count": 24,
   "metadata": {},
   "outputs": [
    {
     "data": {
      "text/plain": [
       "array(['Christian', nan, 'Jew', 'd', 'Crstian', 'Muslim', 'Buddhist',\n",
       "       'asdf', 'Jwe', '----', 'Ac%#'], dtype=object)"
      ]
     },
     "execution_count": 24,
     "metadata": {},
     "output_type": "execute_result"
    }
   ],
   "source": [
    "df['Religion'].unique()"
   ]
  },
  {
   "cell_type": "code",
   "execution_count": 25,
   "metadata": {},
   "outputs": [
    {
     "data": {
      "text/plain": [
       "Religion\n",
       "Christian    79\n",
       "Muslim        5\n",
       "Buddhist      5\n",
       "Jew           4\n",
       "d             1\n",
       "Crstian       1\n",
       "asdf          1\n",
       "Jwe           1\n",
       "----          1\n",
       "Ac%#          1\n",
       "Name: count, dtype: int64"
      ]
     },
     "execution_count": 25,
     "metadata": {},
     "output_type": "execute_result"
    }
   ],
   "source": [
    "df['Religion'].value_counts()"
   ]
  },
  {
   "cell_type": "code",
   "execution_count": 29,
   "metadata": {},
   "outputs": [],
   "source": [
    "df.loc[df['Religion'] == 'Crstian', 'Religion'] = 'Christian'\n",
    "df.loc[df['Religion'] == 'Jwe', 'Religion'] = 'Jew'"
   ]
  },
  {
   "cell_type": "code",
   "execution_count": 31,
   "metadata": {},
   "outputs": [
    {
     "data": {
      "text/plain": [
       "Religion\n",
       "Christian    80\n",
       "Jew           5\n",
       "Muslim        5\n",
       "Buddhist      5\n",
       "d             1\n",
       "asdf          1\n",
       "----          1\n",
       "Ac%#          1\n",
       "Name: count, dtype: int64"
      ]
     },
     "execution_count": 31,
     "metadata": {},
     "output_type": "execute_result"
    }
   ],
   "source": [
    "df['Religion'].value_counts()"
   ]
  },
  {
   "cell_type": "code",
   "execution_count": 33,
   "metadata": {},
   "outputs": [
    {
     "data": {
      "text/plain": [
       "Religion\n",
       "False    99\n",
       "True      5\n",
       "Name: count, dtype: int64"
      ]
     },
     "execution_count": 33,
     "metadata": {},
     "output_type": "execute_result"
    }
   ],
   "source": [
    "df['Religion'].isna().value_counts()"
   ]
  },
  {
   "cell_type": "markdown",
   "metadata": {},
   "source": [
    "---\n",
    "### Questão 3)\n",
    "\n",
    "Quais dos items abaixo são características de dados estruturados?\n",
    "\n",
    "I - Endereçamento direto de dados individuais<br>\n",
    "II - Grande Flexibilidade na coleta/captura dos dados<br>\n",
    "III - Alta redundância<br>\n",
    "IV - Maior riqueza e variedade de informação devido ao baixo controle<br>\n",
    "V - Adequados para armazenamento e recuperação a partir de bases de dados relacionais<br>\n",
    "\n",
    "(a) I, II<br>\n",
    "**(b) I, V**<br>\n",
    "**(c) I, IV, V**<br>\n",
    "(d) II, III, V<br>\n",
    "(e) todos os items<br>\n"
   ]
  },
  {
   "cell_type": "markdown",
   "metadata": {},
   "source": [
    "---\n",
    "\n",
    "### Questão 4)\n",
    "\n",
    "Considere a base de dados disponível em `TACTD-01-Base-Avaliacao2024.csv`, e analise os dados no atributo `Salary` por meio do gráfico de caixa e depois visualizando as linhas contendo outliers mostrados no gráfico de caixa. \n",
    "\n",
    "O atributo possui:\n",
    "\n",
    "**(a) 2 outliers globais**<br>\n",
    "(b) 3 outliers globais<br>\n",
    "(c) 4 outliers globais<br>\n",
    "(d) 5 outliers globais<br>\n",
    "(e) 6 outliers globais<br>"
   ]
  },
  {
   "cell_type": "code",
   "execution_count": 36,
   "metadata": {},
   "outputs": [],
   "source": [
    "df = pd.read_csv(\"./dados/TACTD-01-Base-Avaliacao2024.csv\")\n",
    "import seaborn as sns"
   ]
  },
  {
   "cell_type": "code",
   "execution_count": 39,
   "metadata": {},
   "outputs": [
    {
     "data": {
      "text/plain": [
       "<Axes: >"
      ]
     },
     "execution_count": 39,
     "metadata": {},
     "output_type": "execute_result"
    },
    {
     "data": {
      "image/png": "[encoded data removed]",
      "text/plain": [
       "<Figure size 640x480 with 1 Axes>"
      ]
     },
     "metadata": {},
     "output_type": "display_data"
    }
   ],
   "source": [
    "sns.boxplot(df['Salary'])"
   ]
  },
  {
   "cell_type": "markdown",
   "metadata": {},
   "source": [
    "## Questão 5)\n",
    "\n",
    "Considere a base de dados disponível em `TACTD-01-Base-Avaliacao2024.csv`, e busque por linhas duplicadas considerando apenas os dados nas colunas `Name`, `Sex`, `City` e `Year of Birth`. \n",
    "\n",
    "A seguir, busque por atributos não informativos (redundantes/constantes) em todas as colunas. Quantas linhas duplicadas foram encontradas, e qual(is) atributo(s) pode(m) ser considerado(s) não informativo(s)?\n",
    "\n",
    "(a) 1 linha duplicada; atributos não informativos: Continent of Origin<br>\n",
    "(b) 1 linha duplicada; atributos não informativos: Profession e Country of Origin<br>\n",
    "**(c) 4 linhas duplicadas; atributos não informativos: Current Age 2022, Continent of Origin**<br>\n",
    "(d) 5 linhas duplicadas; atributos não informativos: Country of Origin<br>\n",
    "(e) 5 linhas duplicadas; atributos não informativos: Current Age 2022 e Continent of Origin<br>"
   ]
  },
  {
   "cell_type": "code",
   "execution_count": 40,
   "metadata": {},
   "outputs": [],
   "source": [
    "df = pd.read_csv(\"./dados/TACTD-01-Base-Avaliacao2024.csv\")"
   ]
  },
  {
   "cell_type": "code",
   "execution_count": 50,
   "metadata": {},
   "outputs": [
    {
     "data": {
      "text/html": [
       "<div>\n",
       "<style scoped>\n",
       "    .dataframe tbody tr th:only-of-type {\n",
       "        vertical-align: middle;\n",
       "    }\n",
       "\n",
       "    .dataframe tbody tr th {\n",
       "        vertical-align: top;\n",
       "    }\n",
       "\n",
       "    .dataframe thead th {\n",
       "        text-align: right;\n",
       "    }\n",
       "</style>\n",
       "<table border=\"1\" class=\"dataframe\">\n",
       "  <thead>\n",
       "    <tr style=\"text-align: right;\">\n",
       "      <th></th>\n",
       "      <th>Name</th>\n",
       "      <th>Sex</th>\n",
       "      <th>City</th>\n",
       "      <th>Year of Birth</th>\n",
       "    </tr>\n",
       "  </thead>\n",
       "  <tbody>\n",
       "    <tr>\n",
       "      <th>19</th>\n",
       "      <td>Apolonia Abler</td>\n",
       "      <td>F</td>\n",
       "      <td>Vancouver</td>\n",
       "      <td>1967</td>\n",
       "    </tr>\n",
       "    <tr>\n",
       "      <th>20</th>\n",
       "      <td>Apolonia Abler</td>\n",
       "      <td>F</td>\n",
       "      <td>Vancouver</td>\n",
       "      <td>1967</td>\n",
       "    </tr>\n",
       "    <tr>\n",
       "      <th>66</th>\n",
       "      <td>Ruby Singleton</td>\n",
       "      <td>F</td>\n",
       "      <td>New Orleans</td>\n",
       "      <td>1982</td>\n",
       "    </tr>\n",
       "    <tr>\n",
       "      <th>72</th>\n",
       "      <td>Carlos Cobre</td>\n",
       "      <td>M</td>\n",
       "      <td>São Paulo</td>\n",
       "      <td>1983</td>\n",
       "    </tr>\n",
       "  </tbody>\n",
       "</table>\n",
       "</div>"
      ],
      "text/plain": [
       "              Name Sex         City  Year of Birth\n",
       "19  Apolonia Abler   F    Vancouver           1967\n",
       "20  Apolonia Abler   F    Vancouver           1967\n",
       "66  Ruby Singleton   F  New Orleans           1982\n",
       "72    Carlos Cobre   M    São Paulo           1983"
      ]
     },
     "execution_count": 50,
     "metadata": {},
     "output_type": "execute_result"
    }
   ],
   "source": [
    "df_duplicated = df[['Name', 'Sex', 'City', 'Year of Birth']]\n",
    "df_duplicated[df_duplicated.duplicated()]"
   ]
  },
  {
   "cell_type": "code",
   "execution_count": null,
   "metadata": {},
   "outputs": [],
   "source": []
  }
 ],
 "metadata": {
  "kernelspec": {
   "display_name": "mba_data_science",
   "language": "python",
   "name": "mba_data_science"
  },
  "language_info": {
   "codemirror_mode": {
    "name": "ipython",
    "version": 3
   },
   "file_extension": ".py",
   "mimetype": "text/x-python",
   "name": "python",
   "nbconvert_exporter": "python",
   "pygments_lexer": "ipython3",
   "version": "3.11.4"
  }
 },
 "nbformat": 4,
 "nbformat_minor": 4
}
