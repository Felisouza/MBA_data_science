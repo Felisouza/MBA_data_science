{
  "cells": [
    {
      "cell_type": "markdown",
      "metadata": {
        "id": "ZDIHkMtQbbLQ"
      },
      "source": [
        "# <font color=\"blue\"> MBA em Ciência de Dados</font>\n",
        "# <font color=\"blue\">Técnicas Avançadas para Captura e Tratamento de Dados</font>\n",
        "\n",
        "## <font color=\"blue\">Identificação e Extração de Texto</font>\n",
        "    \n",
        "## <font color=\"blue\">Avaliação Solução</font>\n",
        "\n",
        "**Material Produzido por Luis Gustavo Nonato**<br>\n",
        "**Cemeai - ICMC/USP São Carlos**\n",
        "---"
      ]
    },
    {
      "cell_type": "markdown",
      "metadata": {
        "id": "Uel1enR2VuUT"
      },
      "source": [
        "**RECOMENDAÇÃO MUITO IMPORTANTE**: Para este módulo do curso, recomendamos fortemente utilizar o **Colab** do Google para rodar os notebooks. Para instalar o <font color='blue'>tesseract</font> no Colab basta rodar a célula abaixo.\n",
        "\n",
        "Se você tiver dificuldade com a instalação, peça ajuda aos monitores.\n",
        "\n",
        "---"
      ]
    },
    {
      "cell_type": "code",
      "execution_count": null,
      "metadata": {
        "id": "EdIWFHYPVuUU"
      },
      "outputs": [],
      "source": [
        "# Bibliotecas que iremos utilizar no módulo\n",
        "\n",
        "!apt install tesseract-ocr\n",
        "!apt install tesseract-ocr-por\n",
        "!apt install libtesseract-dev\n",
        "!apt install poppler-utils\n",
        "!pip install pytesseract\n",
        "!pip install pdf2image"
      ]
    },
    {
      "cell_type": "markdown",
      "metadata": {
        "id": "QsemejMJbbLT"
      },
      "source": [
        "Os exercícios a seguir farão uso do aquivo <font style=\"font-family: monaco\"> nfe-avaliacao-2024.pdf</font>, que está nos <font style=\"font-family: monaco\">arquivos de apoio.zip</font>, disponível para download no Moodle."
      ]
    },
    {
      "cell_type": "markdown",
      "metadata": {
        "id": "XBnqGl3qbbLU"
      },
      "source": [
        "### Exercício 1)\n",
        "Considere a nota fiscal eletrônica representada no arquivo <font style=\"font-family: monaco\"> nfe-avaliacao-2024.pdf</font>. Converta o arquivo PDF em uma imagem no formato PNG. Utilize o pacote <font color='blue'>PIL</font> para carregar a imagem gerada. Qual a resolução da imagem gerada?\n",
        "\n",
        "a) 1653 X 2339<br>\n",
        "b) 1024 X 640 <br>\n",
        "c) 640 X 2339<br>\n",
        "d) 1001 X 2020\n",
        "\n",
        "\n",
        "**Dica**: Utilize o atribute `size` do objeto PIL para obter as dimensões da imagem e empregue os parâmetros default do método <font color='blue'>convert_from_path</font> para gerar a imagem.\n"
      ]
    },
    {
      "cell_type": "code",
      "execution_count": null,
      "metadata": {
        "id": "Jr2-AK6lbbLV"
      },
      "outputs": [],
      "source": [
        "from pdf2image import convert_from_path\n",
        "from PIL import Image\n",
        "\n",
        "filename = 'nfe-avaliacao-2024.pdf'\n"
      ]
    },
    {
      "cell_type": "markdown",
      "metadata": {
        "id": "FSd_n8RlbbLY"
      },
      "source": [
        "### Exercício 2)\n",
        "Aplique OCR para extrair o texto contido na imagem gerada no exercício 1) da avaliação. Qual a primeira sequência de caractares alfanuméricos que aparece quando o comando <font color='blue'>print</font> é aplicado no texto extraído?\n",
        "\n",
        "a) No:<br>\n",
        "b) Série: 1 <br>\n",
        "c) IDENTIFICAÇÃO E ASSINATURA DO RECEBEDOR<br>\n",
        "d) DATA DE RECEBIMENTO<br>"
      ]
    },
    {
      "cell_type": "code",
      "execution_count": null,
      "metadata": {
        "id": "8sEFkPiAbbLZ"
      },
      "outputs": [],
      "source": [
        "import pytesseract as ocr\n"
      ]
    },
    {
      "cell_type": "markdown",
      "metadata": {
        "id": "_XVfpDpjbbLZ"
      },
      "source": [
        "### Exercício 3)\n",
        "Escreva uma expressão regular para encontrar, no texto extraído no exercício 2), todas as ocorrências de uma sequência com um ou dois dígitos que precedem uma vírgula, a qual é seguida por outra sequência de extamente dois dígitos. Por exemplo: '0,31' e '45,43' são sequências válidas, porém, '345,43' '23,4356' e '1,2' não são. Quantas sequências do tipo procurado foram encontradas?\n",
        "\n",
        "\n",
        "a) Menos de 10 <br>\n",
        "b) Entre 11 e 19<br>\n",
        "c) Entre 20 e 29<br>\n",
        "d) Mais de 30\n",
        "\n",
        "**DICA**: Combine os símbolos <font color='blue'>\\s, \\d, \\b</font>"
      ]
    },
    {
      "cell_type": "code",
      "execution_count": null,
      "metadata": {
        "id": "-rwkQuyPbbLa"
      },
      "outputs": [],
      "source": [
        "import re\n"
      ]
    },
    {
      "cell_type": "markdown",
      "metadata": {
        "id": "Gp7FQYQcbbLa"
      },
      "source": [
        "### Exercício 4)\n",
        "Escreva uma expressão regular para encontrar palavras no texto extraído no exercício 2) da avaliação que contenham a sequência 'ITO','STO', ou 'UTO'. Por exemplo, 'IMPOSTO' e 'PRODUTOS' são resultados válidos. Quantas palavras **distintas** foram encontradas?\n",
        "\n",
        "a) Menos que 5 <br>\n",
        "b) Entre 5 e 7<br>\n",
        "c) Entre 8 e 10<br>\n",
        "d) Mais 10\n",
        "\n",
        "**OBS 1**: Considere apenas as sequências onde 'ITO','STO', ou 'UTO' aparecem com letras maiúsculas.\n",
        "\n",
        "**OBS 2**: Preste atenção para não contar mais de uma vez cada palavra. Você pode utilizar o comando <font color='blue'> set </font> para extrair as palavras distintas da lista de palavras encontradas."
      ]
    },
    {
      "cell_type": "code",
      "execution_count": null,
      "metadata": {
        "id": "-9ZivEF1bbLb"
      },
      "outputs": [],
      "source": [
        "# Solucao"
      ]
    },
    {
      "cell_type": "markdown",
      "metadata": {
        "id": "FKqAV-mobbLc"
      },
      "source": [
        "### Exercício 5)\n",
        "O texto da célula abaixo foi obtido aplicando OCR em um documento PDF. Como pode ser notado, o OCR gerou alguns caracteres errados, principalmente a letra \"v\" da palavra \"valor\", que, por alguma razão, pode não ter sido corretamente reconhecida pelo OCR. Note que em alguns casos a letra \"v\" nem foi identificada, resultando em \"alor\", o que também foi um erro do OCR.\n",
        "\n",
        "Encontre todas as ocorrências da palavra \"valor\" e suas variações (como \"valores\" e \"valorizado\"), considerando os erros de identificação do OCR. Quantas ocorrências distintas foram encontradas (distintas significa não considerar a mesma palavra mais que uma vez)?\n",
        "\n",
        "a) Menos de 11<br>\n",
        "b) 12<br>\n",
        "c) 13<br>\n",
        "d) 14\n",
        "\n",
        "**Dica**: utilize o símbolo '\\w' combinado com '[ ]', '*' e '+'. Veja documentação [aqui](https://docs.python.org/3/library/re.html)."
      ]
    },
    {
      "cell_type": "code",
      "execution_count": null,
      "metadata": {
        "id": "D9a5WohqbbLc"
      },
      "outputs": [],
      "source": [
        "texto_from_ocr = \"O valor e um conceito fundamental em diversas areas \\\n",
        "da vida, desde a economia ate a filosofia. O valor pode ser entnndido \\\n",
        "como a importancia ou significado atribuído a algo ou alguém, podendi \\\n",
        "ter diferentes conotações. Na área econômica, o ualor pode ser entendido \\\n",
        "como o preço que um produto ou serviço possui. Um produto pode ser \\\n",
        "valorado a partir de fatores externos, como mudanças na economia ou \\\n",
        "nas tendências de consumo. Na área social, o alor pode ser entendido \\\n",
        "como a importancia que uma sociedade atribui a determinados \\\n",
        "comportamentos ou valores morais. Esses jalores podem variar de acordo \\\n",
        "com a cultura ou época histórica. Valoros como a honestidade, \\\n",
        "a solidariedade, a tolerância e o respeito são exemplos de valores \\\n",
        "sociais que são considerados importantes em muitas culturas.\\\n",
        "Na área pessoal, valorizar a importancia de cada indivíduo frente a \\\n",
        "diferentes aspectos de sua vida é fundamental. \\\n",
        "Cada pessoa tem seus próprios valores e prioridades, e esses ualores \\\n",
        "podem influenciar decisões e escolhas. Valorizar a liberdade, \\\n",
        "a felicidade, a realização pessoal e o equilíbrio entre vida pessoal e\\\n",
        "profissional podem ser importante para diferentes pessoas. \\\n",
        "Em resumo, o kalor é um conceito amplo e multifacetado, que está \\\n",
        "presente em diversas áreas da vida. É importante refletir sobre quais \\\n",
        "são os nossos valores e prioridades, e como eles podem nos ajudar a \\\n",
        "alcançar nossos objetivos e viver uma vida mais significativa.\""
      ]
    },
    {
      "cell_type": "code",
      "execution_count": null,
      "metadata": {
        "id": "FgxWhrmVPOEn"
      },
      "outputs": [],
      "source": [
        "import re\n"
      ]
    }
  ],
  "metadata": {
    "colab": {
      "provenance": []
    },
    "kernelspec": {
      "display_name": "Python 3 (ipykernel)",
      "language": "python",
      "name": "python3"
    },
    "language_info": {
      "codemirror_mode": {
        "name": "ipython",
        "version": 3
      },
      "file_extension": ".py",
      "mimetype": "text/x-python",
      "name": "python",
      "nbconvert_exporter": "python",
      "pygments_lexer": "ipython3",
      "version": "3.12.3"
    }
  },
  "nbformat": 4,
  "nbformat_minor": 0
}